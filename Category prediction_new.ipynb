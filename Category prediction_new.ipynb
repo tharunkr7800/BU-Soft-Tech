{
 "cells": [
  {
   "cell_type": "code",
   "execution_count": 1,
   "metadata": {},
   "outputs": [],
   "source": [
    "import pandas as pd\n",
    "import re as re\n",
    "import html"
   ]
  },
  {
   "cell_type": "code",
   "execution_count": 2,
   "metadata": {},
   "outputs": [],
   "source": [
    "f1=pd.read_excel(\"C:\\\\Users\\\\tarun\\\\Downloads\\\\Sample Data\\\\Sample Data\\\\Threads.xlsx\")"
   ]
  },
  {
   "cell_type": "code",
   "execution_count": 3,
   "metadata": {},
   "outputs": [],
   "source": [
    "f2=pd.read_excel(\"C:\\\\Users\\\\tarun\\\\Downloads\\\\Sample Data\\\\Sample Data\\\\Incidents.xlsx\")"
   ]
  },
  {
   "cell_type": "code",
   "execution_count": 4,
   "metadata": {},
   "outputs": [
    {
     "data": {
      "text/plain": [
       "(100001, 12)"
      ]
     },
     "execution_count": 4,
     "metadata": {},
     "output_type": "execute_result"
    }
   ],
   "source": [
    "f1.shape"
   ]
  },
  {
   "cell_type": "code",
   "execution_count": 5,
   "metadata": {},
   "outputs": [
    {
     "data": {
      "text/plain": [
       "(19409, 13)"
      ]
     },
     "execution_count": 5,
     "metadata": {},
     "output_type": "execute_result"
    }
   ],
   "source": [
    "f2.shape"
   ]
  },
  {
   "cell_type": "code",
   "execution_count": 6,
   "metadata": {},
   "outputs": [
    {
     "data": {
      "text/html": [
       "<div>\n",
       "<style scoped>\n",
       "    .dataframe tbody tr th:only-of-type {\n",
       "        vertical-align: middle;\n",
       "    }\n",
       "\n",
       "    .dataframe tbody tr th {\n",
       "        vertical-align: top;\n",
       "    }\n",
       "\n",
       "    .dataframe thead th {\n",
       "        text-align: right;\n",
       "    }\n",
       "</style>\n",
       "<table border=\"1\" class=\"dataframe\">\n",
       "  <thead>\n",
       "    <tr style=\"text-align: right;\">\n",
       "      <th></th>\n",
       "      <th>Threads</th>\n",
       "      <th>Unnamed: 1</th>\n",
       "      <th>Unnamed: 2</th>\n",
       "      <th>Unnamed: 3</th>\n",
       "      <th>Unnamed: 4</th>\n",
       "      <th>Unnamed: 5</th>\n",
       "      <th>Unnamed: 6</th>\n",
       "      <th>Unnamed: 7</th>\n",
       "      <th>Unnamed: 8</th>\n",
       "      <th>Unnamed: 9</th>\n",
       "      <th>Unnamed: 10</th>\n",
       "      <th>Unnamed: 11</th>\n",
       "    </tr>\n",
       "  </thead>\n",
       "  <tbody>\n",
       "    <tr>\n",
       "      <th>0</th>\n",
       "      <td>Foreign Key</td>\n",
       "      <td>Incident Thread ID</td>\n",
       "      <td>Account</td>\n",
       "      <td>Attributes</td>\n",
       "      <td>Date Created</td>\n",
       "      <td>Contact ID</td>\n",
       "      <td>Channel ID</td>\n",
       "      <td>Email Header</td>\n",
       "      <td>Sequence</td>\n",
       "      <td>SmartSense Indicator</td>\n",
       "      <td>Text</td>\n",
       "      <td>Thread Entry Type</td>\n",
       "    </tr>\n",
       "    <tr>\n",
       "      <th>1</th>\n",
       "      <td>2601</td>\n",
       "      <td>2773</td>\n",
       "      <td>No Value</td>\n",
       "      <td>No Value</td>\n",
       "      <td>04/10/2010 09:22</td>\n",
       "      <td>402</td>\n",
       "      <td>MA Email</td>\n",
       "      <td>No Value</td>\n",
       "      <td>1</td>\n",
       "      <td>0</td>\n",
       "      <td>\\n\\n==================== text File Attachment ...</td>\n",
       "      <td>Customer</td>\n",
       "    </tr>\n",
       "    <tr>\n",
       "      <th>2</th>\n",
       "      <td>2632</td>\n",
       "      <td>2809</td>\n",
       "      <td>No Value</td>\n",
       "      <td>No Value</td>\n",
       "      <td>05/11/2010 09:50</td>\n",
       "      <td>1983</td>\n",
       "      <td>CSS Web</td>\n",
       "      <td>No Value</td>\n",
       "      <td>1</td>\n",
       "      <td>5</td>\n",
       "      <td>Agents are experiencing an issue with Rightnow...</td>\n",
       "      <td>Customer</td>\n",
       "    </tr>\n",
       "    <tr>\n",
       "      <th>3</th>\n",
       "      <td>2601</td>\n",
       "      <td>2839</td>\n",
       "      <td>Stephen Pickett</td>\n",
       "      <td>No Value</td>\n",
       "      <td>11/01/2011 11:58</td>\n",
       "      <td>0</td>\n",
       "      <td>No Value</td>\n",
       "      <td>No Value</td>\n",
       "      <td>1</td>\n",
       "      <td>0</td>\n",
       "      <td>Ad, see the attachment.</td>\n",
       "      <td>Note</td>\n",
       "    </tr>\n",
       "    <tr>\n",
       "      <th>4</th>\n",
       "      <td>2655</td>\n",
       "      <td>2842</td>\n",
       "      <td>No Value</td>\n",
       "      <td>No Value</td>\n",
       "      <td>12/01/2011 10:36</td>\n",
       "      <td>1243</td>\n",
       "      <td>CSS Web</td>\n",
       "      <td>No Value</td>\n",
       "      <td>1</td>\n",
       "      <td>-2</td>\n",
       "      <td>the phone display states \\nNo service\\nTrying ...</td>\n",
       "      <td>Customer</td>\n",
       "    </tr>\n",
       "  </tbody>\n",
       "</table>\n",
       "</div>"
      ],
      "text/plain": [
       "       Threads          Unnamed: 1       Unnamed: 2  Unnamed: 3  \\\n",
       "0  Foreign Key  Incident Thread ID          Account  Attributes   \n",
       "1         2601                2773         No Value    No Value   \n",
       "2         2632                2809         No Value    No Value   \n",
       "3         2601                2839  Stephen Pickett    No Value   \n",
       "4         2655                2842         No Value    No Value   \n",
       "\n",
       "         Unnamed: 4  Unnamed: 5  Unnamed: 6    Unnamed: 7 Unnamed: 8  \\\n",
       "0      Date Created  Contact ID  Channel ID  Email Header   Sequence   \n",
       "1  04/10/2010 09:22         402    MA Email      No Value          1   \n",
       "2  05/11/2010 09:50        1983     CSS Web      No Value          1   \n",
       "3  11/01/2011 11:58           0    No Value      No Value          1   \n",
       "4  12/01/2011 10:36        1243     CSS Web      No Value          1   \n",
       "\n",
       "             Unnamed: 9                                        Unnamed: 10  \\\n",
       "0  SmartSense Indicator                                               Text   \n",
       "1                     0  \\n\\n==================== text File Attachment ...   \n",
       "2                     5  Agents are experiencing an issue with Rightnow...   \n",
       "3                     0                            Ad, see the attachment.   \n",
       "4                    -2  the phone display states \\nNo service\\nTrying ...   \n",
       "\n",
       "         Unnamed: 11  \n",
       "0  Thread Entry Type  \n",
       "1           Customer  \n",
       "2           Customer  \n",
       "3               Note  \n",
       "4           Customer  "
      ]
     },
     "execution_count": 6,
     "metadata": {},
     "output_type": "execute_result"
    }
   ],
   "source": [
    "f1.head()"
   ]
  },
  {
   "cell_type": "code",
   "execution_count": 7,
   "metadata": {},
   "outputs": [
    {
     "data": {
      "text/html": [
       "<div>\n",
       "<style scoped>\n",
       "    .dataframe tbody tr th:only-of-type {\n",
       "        vertical-align: middle;\n",
       "    }\n",
       "\n",
       "    .dataframe tbody tr th {\n",
       "        vertical-align: top;\n",
       "    }\n",
       "\n",
       "    .dataframe thead th {\n",
       "        text-align: right;\n",
       "    }\n",
       "</style>\n",
       "<table border=\"1\" class=\"dataframe\">\n",
       "  <thead>\n",
       "    <tr style=\"text-align: right;\">\n",
       "      <th></th>\n",
       "      <th>Incidents</th>\n",
       "      <th>Unnamed: 1</th>\n",
       "      <th>Unnamed: 2</th>\n",
       "      <th>Unnamed: 3</th>\n",
       "      <th>Unnamed: 4</th>\n",
       "      <th>Unnamed: 5</th>\n",
       "      <th>Unnamed: 6</th>\n",
       "      <th>Unnamed: 7</th>\n",
       "      <th>Unnamed: 8</th>\n",
       "      <th>Unnamed: 9</th>\n",
       "      <th>Unnamed: 10</th>\n",
       "      <th>Unnamed: 11</th>\n",
       "      <th>Unnamed: 12</th>\n",
       "    </tr>\n",
       "  </thead>\n",
       "  <tbody>\n",
       "    <tr>\n",
       "      <th>0</th>\n",
       "      <td>Reference #</td>\n",
       "      <td>Incident ID</td>\n",
       "      <td>Assigned Account</td>\n",
       "      <td>Severity</td>\n",
       "      <td>Status</td>\n",
       "      <td>Status Type</td>\n",
       "      <td>Subject</td>\n",
       "      <td>Product ID</td>\n",
       "      <td>Organisation ID</td>\n",
       "      <td>Date Closed</td>\n",
       "      <td>Date Created</td>\n",
       "      <td>Contact ID</td>\n",
       "      <td>Category ID</td>\n",
       "    </tr>\n",
       "    <tr>\n",
       "      <th>1</th>\n",
       "      <td>100825-000001</td>\n",
       "      <td>2554</td>\n",
       "      <td>Stephen Pickett</td>\n",
       "      <td>No Value</td>\n",
       "      <td>Solved</td>\n",
       "      <td>Solved</td>\n",
       "      <td>A4e Professional Services work</td>\n",
       "      <td>No Value</td>\n",
       "      <td>1</td>\n",
       "      <td>25/08/2010 12:00</td>\n",
       "      <td>25/08/2010 12:00</td>\n",
       "      <td>573</td>\n",
       "      <td>No Value</td>\n",
       "    </tr>\n",
       "    <tr>\n",
       "      <th>2</th>\n",
       "      <td>101004-000000</td>\n",
       "      <td>2601</td>\n",
       "      <td>Adam Wilkinson</td>\n",
       "      <td>No Value</td>\n",
       "      <td>Solved</td>\n",
       "      <td>Solved</td>\n",
       "      <td>Measuring effectiveness increases effectiveness</td>\n",
       "      <td>No Value</td>\n",
       "      <td>29</td>\n",
       "      <td>11/01/2011 12:07</td>\n",
       "      <td>04/10/2010 09:22</td>\n",
       "      <td>402</td>\n",
       "      <td>No Value</td>\n",
       "    </tr>\n",
       "    <tr>\n",
       "      <th>3</th>\n",
       "      <td>101102-000000</td>\n",
       "      <td>2619</td>\n",
       "      <td>Stephen Pickett</td>\n",
       "      <td>No Value</td>\n",
       "      <td>Solved</td>\n",
       "      <td>Solved</td>\n",
       "      <td>Infoco Answer Export Tool</td>\n",
       "      <td>RightNow</td>\n",
       "      <td>560</td>\n",
       "      <td>02/11/2010 12:05</td>\n",
       "      <td>02/11/2010 12:05</td>\n",
       "      <td>2157</td>\n",
       "      <td>No Value</td>\n",
       "    </tr>\n",
       "    <tr>\n",
       "      <th>4</th>\n",
       "      <td>101102-000001</td>\n",
       "      <td>2620</td>\n",
       "      <td>Chris Farmer</td>\n",
       "      <td>Medium</td>\n",
       "      <td>Solved</td>\n",
       "      <td>Solved</td>\n",
       "      <td>THA: The Family Information Direct/Helplines S...</td>\n",
       "      <td>No Value</td>\n",
       "      <td>562</td>\n",
       "      <td>24/02/2011 13:56</td>\n",
       "      <td>02/11/2010 12:46</td>\n",
       "      <td>2144</td>\n",
       "      <td>No Value</td>\n",
       "    </tr>\n",
       "  </tbody>\n",
       "</table>\n",
       "</div>"
      ],
      "text/plain": [
       "       Incidents   Unnamed: 1        Unnamed: 2 Unnamed: 3 Unnamed: 4  \\\n",
       "0    Reference #  Incident ID  Assigned Account   Severity     Status   \n",
       "1  100825-000001         2554   Stephen Pickett   No Value     Solved   \n",
       "2  101004-000000         2601    Adam Wilkinson   No Value     Solved   \n",
       "3  101102-000000         2619   Stephen Pickett   No Value     Solved   \n",
       "4  101102-000001         2620      Chris Farmer     Medium     Solved   \n",
       "\n",
       "    Unnamed: 5                                         Unnamed: 6  Unnamed: 7  \\\n",
       "0  Status Type                                            Subject  Product ID   \n",
       "1       Solved                     A4e Professional Services work    No Value   \n",
       "2       Solved    Measuring effectiveness increases effectiveness    No Value   \n",
       "3       Solved                          Infoco Answer Export Tool    RightNow   \n",
       "4       Solved  THA: The Family Information Direct/Helplines S...    No Value   \n",
       "\n",
       "        Unnamed: 8        Unnamed: 9       Unnamed: 10 Unnamed: 11  \\\n",
       "0  Organisation ID       Date Closed      Date Created  Contact ID   \n",
       "1                1  25/08/2010 12:00  25/08/2010 12:00         573   \n",
       "2               29  11/01/2011 12:07  04/10/2010 09:22         402   \n",
       "3              560  02/11/2010 12:05  02/11/2010 12:05        2157   \n",
       "4              562  24/02/2011 13:56  02/11/2010 12:46        2144   \n",
       "\n",
       "   Unnamed: 12  \n",
       "0  Category ID  \n",
       "1     No Value  \n",
       "2     No Value  \n",
       "3     No Value  \n",
       "4     No Value  "
      ]
     },
     "execution_count": 7,
     "metadata": {},
     "output_type": "execute_result"
    }
   ],
   "source": [
    "f2.head()"
   ]
  },
  {
   "cell_type": "code",
   "execution_count": 8,
   "metadata": {},
   "outputs": [],
   "source": [
    "header_row=0\n",
    "f1.columns = f1.iloc[header_row]\n",
    "f2.columns = f2.iloc[header_row]\n",
    "f1=f1.drop(header_row)\n",
    "f2=f2.drop(header_row)"
   ]
  },
  {
   "cell_type": "code",
   "execution_count": 9,
   "metadata": {},
   "outputs": [
    {
     "data": {
      "text/html": [
       "<div>\n",
       "<style scoped>\n",
       "    .dataframe tbody tr th:only-of-type {\n",
       "        vertical-align: middle;\n",
       "    }\n",
       "\n",
       "    .dataframe tbody tr th {\n",
       "        vertical-align: top;\n",
       "    }\n",
       "\n",
       "    .dataframe thead th {\n",
       "        text-align: right;\n",
       "    }\n",
       "</style>\n",
       "<table border=\"1\" class=\"dataframe\">\n",
       "  <thead>\n",
       "    <tr style=\"text-align: right;\">\n",
       "      <th></th>\n",
       "      <th>Foreign Key</th>\n",
       "      <th>Incident Thread ID</th>\n",
       "      <th>Account</th>\n",
       "      <th>Attributes</th>\n",
       "      <th>Date Created</th>\n",
       "      <th>Contact ID</th>\n",
       "      <th>Channel ID</th>\n",
       "      <th>Email Header</th>\n",
       "      <th>Sequence</th>\n",
       "      <th>SmartSense Indicator</th>\n",
       "      <th>Text</th>\n",
       "      <th>Thread Entry Type</th>\n",
       "    </tr>\n",
       "  </thead>\n",
       "  <tbody>\n",
       "    <tr>\n",
       "      <th>1</th>\n",
       "      <td>2601</td>\n",
       "      <td>2773</td>\n",
       "      <td>No Value</td>\n",
       "      <td>No Value</td>\n",
       "      <td>04/10/2010 09:22</td>\n",
       "      <td>402</td>\n",
       "      <td>MA Email</td>\n",
       "      <td>No Value</td>\n",
       "      <td>1</td>\n",
       "      <td>0</td>\n",
       "      <td>\\n\\n==================== text File Attachment ...</td>\n",
       "      <td>Customer</td>\n",
       "    </tr>\n",
       "    <tr>\n",
       "      <th>2</th>\n",
       "      <td>2632</td>\n",
       "      <td>2809</td>\n",
       "      <td>No Value</td>\n",
       "      <td>No Value</td>\n",
       "      <td>05/11/2010 09:50</td>\n",
       "      <td>1983</td>\n",
       "      <td>CSS Web</td>\n",
       "      <td>No Value</td>\n",
       "      <td>1</td>\n",
       "      <td>5</td>\n",
       "      <td>Agents are experiencing an issue with Rightnow...</td>\n",
       "      <td>Customer</td>\n",
       "    </tr>\n",
       "    <tr>\n",
       "      <th>3</th>\n",
       "      <td>2601</td>\n",
       "      <td>2839</td>\n",
       "      <td>Stephen Pickett</td>\n",
       "      <td>No Value</td>\n",
       "      <td>11/01/2011 11:58</td>\n",
       "      <td>0</td>\n",
       "      <td>No Value</td>\n",
       "      <td>No Value</td>\n",
       "      <td>1</td>\n",
       "      <td>0</td>\n",
       "      <td>Ad, see the attachment.</td>\n",
       "      <td>Note</td>\n",
       "    </tr>\n",
       "    <tr>\n",
       "      <th>4</th>\n",
       "      <td>2655</td>\n",
       "      <td>2842</td>\n",
       "      <td>No Value</td>\n",
       "      <td>No Value</td>\n",
       "      <td>12/01/2011 10:36</td>\n",
       "      <td>1243</td>\n",
       "      <td>CSS Web</td>\n",
       "      <td>No Value</td>\n",
       "      <td>1</td>\n",
       "      <td>-2</td>\n",
       "      <td>the phone display states \\nNo service\\nTrying ...</td>\n",
       "      <td>Customer</td>\n",
       "    </tr>\n",
       "    <tr>\n",
       "      <th>5</th>\n",
       "      <td>2655</td>\n",
       "      <td>2843</td>\n",
       "      <td>Alan Cheng</td>\n",
       "      <td>No Value</td>\n",
       "      <td>12/01/2011 11:02</td>\n",
       "      <td>0</td>\n",
       "      <td>Email</td>\n",
       "      <td>No Value</td>\n",
       "      <td>1</td>\n",
       "      <td>-48</td>\n",
       "      <td>Had a look, appears to be a network port issue...</td>\n",
       "      <td>Staff Account</td>\n",
       "    </tr>\n",
       "  </tbody>\n",
       "</table>\n",
       "</div>"
      ],
      "text/plain": [
       "0 Foreign Key Incident Thread ID          Account Attributes  \\\n",
       "1        2601               2773         No Value   No Value   \n",
       "2        2632               2809         No Value   No Value   \n",
       "3        2601               2839  Stephen Pickett   No Value   \n",
       "4        2655               2842         No Value   No Value   \n",
       "5        2655               2843       Alan Cheng   No Value   \n",
       "\n",
       "0      Date Created Contact ID Channel ID Email Header Sequence  \\\n",
       "1  04/10/2010 09:22        402   MA Email     No Value        1   \n",
       "2  05/11/2010 09:50       1983    CSS Web     No Value        1   \n",
       "3  11/01/2011 11:58          0   No Value     No Value        1   \n",
       "4  12/01/2011 10:36       1243    CSS Web     No Value        1   \n",
       "5  12/01/2011 11:02          0      Email     No Value        1   \n",
       "\n",
       "0 SmartSense Indicator                                               Text  \\\n",
       "1                    0  \\n\\n==================== text File Attachment ...   \n",
       "2                    5  Agents are experiencing an issue with Rightnow...   \n",
       "3                    0                            Ad, see the attachment.   \n",
       "4                   -2  the phone display states \\nNo service\\nTrying ...   \n",
       "5                  -48  Had a look, appears to be a network port issue...   \n",
       "\n",
       "0 Thread Entry Type  \n",
       "1          Customer  \n",
       "2          Customer  \n",
       "3              Note  \n",
       "4          Customer  \n",
       "5     Staff Account  "
      ]
     },
     "execution_count": 9,
     "metadata": {},
     "output_type": "execute_result"
    }
   ],
   "source": [
    "f1.head()"
   ]
  },
  {
   "cell_type": "code",
   "execution_count": 10,
   "metadata": {},
   "outputs": [
    {
     "data": {
      "text/html": [
       "<div>\n",
       "<style scoped>\n",
       "    .dataframe tbody tr th:only-of-type {\n",
       "        vertical-align: middle;\n",
       "    }\n",
       "\n",
       "    .dataframe tbody tr th {\n",
       "        vertical-align: top;\n",
       "    }\n",
       "\n",
       "    .dataframe thead th {\n",
       "        text-align: right;\n",
       "    }\n",
       "</style>\n",
       "<table border=\"1\" class=\"dataframe\">\n",
       "  <thead>\n",
       "    <tr style=\"text-align: right;\">\n",
       "      <th></th>\n",
       "      <th>Reference #</th>\n",
       "      <th>Incident ID</th>\n",
       "      <th>Assigned Account</th>\n",
       "      <th>Severity</th>\n",
       "      <th>Status</th>\n",
       "      <th>Status Type</th>\n",
       "      <th>Subject</th>\n",
       "      <th>Product ID</th>\n",
       "      <th>Organisation ID</th>\n",
       "      <th>Date Closed</th>\n",
       "      <th>Date Created</th>\n",
       "      <th>Contact ID</th>\n",
       "      <th>Category ID</th>\n",
       "    </tr>\n",
       "  </thead>\n",
       "  <tbody>\n",
       "    <tr>\n",
       "      <th>1</th>\n",
       "      <td>100825-000001</td>\n",
       "      <td>2554</td>\n",
       "      <td>Stephen Pickett</td>\n",
       "      <td>No Value</td>\n",
       "      <td>Solved</td>\n",
       "      <td>Solved</td>\n",
       "      <td>A4e Professional Services work</td>\n",
       "      <td>No Value</td>\n",
       "      <td>1</td>\n",
       "      <td>25/08/2010 12:00</td>\n",
       "      <td>25/08/2010 12:00</td>\n",
       "      <td>573</td>\n",
       "      <td>No Value</td>\n",
       "    </tr>\n",
       "    <tr>\n",
       "      <th>2</th>\n",
       "      <td>101004-000000</td>\n",
       "      <td>2601</td>\n",
       "      <td>Adam Wilkinson</td>\n",
       "      <td>No Value</td>\n",
       "      <td>Solved</td>\n",
       "      <td>Solved</td>\n",
       "      <td>Measuring effectiveness increases effectiveness</td>\n",
       "      <td>No Value</td>\n",
       "      <td>29</td>\n",
       "      <td>11/01/2011 12:07</td>\n",
       "      <td>04/10/2010 09:22</td>\n",
       "      <td>402</td>\n",
       "      <td>No Value</td>\n",
       "    </tr>\n",
       "    <tr>\n",
       "      <th>3</th>\n",
       "      <td>101102-000000</td>\n",
       "      <td>2619</td>\n",
       "      <td>Stephen Pickett</td>\n",
       "      <td>No Value</td>\n",
       "      <td>Solved</td>\n",
       "      <td>Solved</td>\n",
       "      <td>Infoco Answer Export Tool</td>\n",
       "      <td>RightNow</td>\n",
       "      <td>560</td>\n",
       "      <td>02/11/2010 12:05</td>\n",
       "      <td>02/11/2010 12:05</td>\n",
       "      <td>2157</td>\n",
       "      <td>No Value</td>\n",
       "    </tr>\n",
       "    <tr>\n",
       "      <th>4</th>\n",
       "      <td>101102-000001</td>\n",
       "      <td>2620</td>\n",
       "      <td>Chris Farmer</td>\n",
       "      <td>Medium</td>\n",
       "      <td>Solved</td>\n",
       "      <td>Solved</td>\n",
       "      <td>THA: The Family Information Direct/Helplines S...</td>\n",
       "      <td>No Value</td>\n",
       "      <td>562</td>\n",
       "      <td>24/02/2011 13:56</td>\n",
       "      <td>02/11/2010 12:46</td>\n",
       "      <td>2144</td>\n",
       "      <td>No Value</td>\n",
       "    </tr>\n",
       "    <tr>\n",
       "      <th>5</th>\n",
       "      <td>101105-000000</td>\n",
       "      <td>2632</td>\n",
       "      <td>Alan Cheng</td>\n",
       "      <td>Medium</td>\n",
       "      <td>Solved</td>\n",
       "      <td>Solved</td>\n",
       "      <td>incident screen freezing incident - Ref 100924...</td>\n",
       "      <td>Instance Freezing</td>\n",
       "      <td>473</td>\n",
       "      <td>16/02/2011 15:09</td>\n",
       "      <td>05/11/2010 09:50</td>\n",
       "      <td>1983</td>\n",
       "      <td>No Value</td>\n",
       "    </tr>\n",
       "  </tbody>\n",
       "</table>\n",
       "</div>"
      ],
      "text/plain": [
       "0    Reference # Incident ID Assigned Account  Severity  Status Status Type  \\\n",
       "1  100825-000001        2554  Stephen Pickett  No Value  Solved      Solved   \n",
       "2  101004-000000        2601   Adam Wilkinson  No Value  Solved      Solved   \n",
       "3  101102-000000        2619  Stephen Pickett  No Value  Solved      Solved   \n",
       "4  101102-000001        2620     Chris Farmer    Medium  Solved      Solved   \n",
       "5  101105-000000        2632       Alan Cheng    Medium  Solved      Solved   \n",
       "\n",
       "0                                            Subject         Product ID  \\\n",
       "1                     A4e Professional Services work           No Value   \n",
       "2    Measuring effectiveness increases effectiveness           No Value   \n",
       "3                          Infoco Answer Export Tool           RightNow   \n",
       "4  THA: The Family Information Direct/Helplines S...           No Value   \n",
       "5  incident screen freezing incident - Ref 100924...  Instance Freezing   \n",
       "\n",
       "0 Organisation ID       Date Closed      Date Created Contact ID Category ID  \n",
       "1               1  25/08/2010 12:00  25/08/2010 12:00        573    No Value  \n",
       "2              29  11/01/2011 12:07  04/10/2010 09:22        402    No Value  \n",
       "3             560  02/11/2010 12:05  02/11/2010 12:05       2157    No Value  \n",
       "4             562  24/02/2011 13:56  02/11/2010 12:46       2144    No Value  \n",
       "5             473  16/02/2011 15:09  05/11/2010 09:50       1983    No Value  "
      ]
     },
     "execution_count": 10,
     "metadata": {},
     "output_type": "execute_result"
    }
   ],
   "source": [
    "f2.head()"
   ]
  },
  {
   "cell_type": "code",
   "execution_count": 11,
   "metadata": {},
   "outputs": [],
   "source": [
    "f1.rename(columns={'Foreign Key':'Incident ID'}, inplace=True)\n",
    "f2.rename(columns={'Category ID':'CategoryID'}, inplace=True)"
   ]
  },
  {
   "cell_type": "code",
   "execution_count": 12,
   "metadata": {},
   "outputs": [],
   "source": [
    "def remove_tags(string):\n",
    "    result = re.sub('<.*?>','',string)\n",
    "    return result"
   ]
  },
  {
   "cell_type": "code",
   "execution_count": 13,
   "metadata": {},
   "outputs": [],
   "source": [
    "f1[\"Text\"]=f1[\"Text\"].apply(lambda cw: remove_tags(cw))"
   ]
  },
  {
   "cell_type": "code",
   "execution_count": 14,
   "metadata": {},
   "outputs": [
    {
     "data": {
      "text/html": [
       "<div>\n",
       "<style scoped>\n",
       "    .dataframe tbody tr th:only-of-type {\n",
       "        vertical-align: middle;\n",
       "    }\n",
       "\n",
       "    .dataframe tbody tr th {\n",
       "        vertical-align: top;\n",
       "    }\n",
       "\n",
       "    .dataframe thead th {\n",
       "        text-align: right;\n",
       "    }\n",
       "</style>\n",
       "<table border=\"1\" class=\"dataframe\">\n",
       "  <thead>\n",
       "    <tr style=\"text-align: right;\">\n",
       "      <th></th>\n",
       "      <th>Incident ID</th>\n",
       "      <th>Incident Thread ID</th>\n",
       "      <th>Account</th>\n",
       "      <th>Attributes</th>\n",
       "      <th>Date Created</th>\n",
       "      <th>Contact ID</th>\n",
       "      <th>Channel ID</th>\n",
       "      <th>Email Header</th>\n",
       "      <th>Sequence</th>\n",
       "      <th>SmartSense Indicator</th>\n",
       "      <th>Text</th>\n",
       "      <th>Thread Entry Type</th>\n",
       "    </tr>\n",
       "  </thead>\n",
       "  <tbody>\n",
       "    <tr>\n",
       "      <th>1</th>\n",
       "      <td>2601</td>\n",
       "      <td>2773</td>\n",
       "      <td>No Value</td>\n",
       "      <td>No Value</td>\n",
       "      <td>04/10/2010 09:22</td>\n",
       "      <td>402</td>\n",
       "      <td>MA Email</td>\n",
       "      <td>No Value</td>\n",
       "      <td>1</td>\n",
       "      <td>0</td>\n",
       "      <td>\\n\\n==================== text File Attachment ...</td>\n",
       "      <td>Customer</td>\n",
       "    </tr>\n",
       "    <tr>\n",
       "      <th>2</th>\n",
       "      <td>2632</td>\n",
       "      <td>2809</td>\n",
       "      <td>No Value</td>\n",
       "      <td>No Value</td>\n",
       "      <td>05/11/2010 09:50</td>\n",
       "      <td>1983</td>\n",
       "      <td>CSS Web</td>\n",
       "      <td>No Value</td>\n",
       "      <td>1</td>\n",
       "      <td>5</td>\n",
       "      <td>Agents are experiencing an issue with Rightnow...</td>\n",
       "      <td>Customer</td>\n",
       "    </tr>\n",
       "    <tr>\n",
       "      <th>3</th>\n",
       "      <td>2601</td>\n",
       "      <td>2839</td>\n",
       "      <td>Stephen Pickett</td>\n",
       "      <td>No Value</td>\n",
       "      <td>11/01/2011 11:58</td>\n",
       "      <td>0</td>\n",
       "      <td>No Value</td>\n",
       "      <td>No Value</td>\n",
       "      <td>1</td>\n",
       "      <td>0</td>\n",
       "      <td>Ad, see the attachment.</td>\n",
       "      <td>Note</td>\n",
       "    </tr>\n",
       "    <tr>\n",
       "      <th>4</th>\n",
       "      <td>2655</td>\n",
       "      <td>2842</td>\n",
       "      <td>No Value</td>\n",
       "      <td>No Value</td>\n",
       "      <td>12/01/2011 10:36</td>\n",
       "      <td>1243</td>\n",
       "      <td>CSS Web</td>\n",
       "      <td>No Value</td>\n",
       "      <td>1</td>\n",
       "      <td>-2</td>\n",
       "      <td>the phone display states \\nNo service\\nTrying ...</td>\n",
       "      <td>Customer</td>\n",
       "    </tr>\n",
       "    <tr>\n",
       "      <th>5</th>\n",
       "      <td>2655</td>\n",
       "      <td>2843</td>\n",
       "      <td>Alan Cheng</td>\n",
       "      <td>No Value</td>\n",
       "      <td>12/01/2011 11:02</td>\n",
       "      <td>0</td>\n",
       "      <td>Email</td>\n",
       "      <td>No Value</td>\n",
       "      <td>1</td>\n",
       "      <td>-48</td>\n",
       "      <td>Had a look, appears to be a network port issue...</td>\n",
       "      <td>Staff Account</td>\n",
       "    </tr>\n",
       "  </tbody>\n",
       "</table>\n",
       "</div>"
      ],
      "text/plain": [
       "0 Incident ID Incident Thread ID          Account Attributes  \\\n",
       "1        2601               2773         No Value   No Value   \n",
       "2        2632               2809         No Value   No Value   \n",
       "3        2601               2839  Stephen Pickett   No Value   \n",
       "4        2655               2842         No Value   No Value   \n",
       "5        2655               2843       Alan Cheng   No Value   \n",
       "\n",
       "0      Date Created Contact ID Channel ID Email Header Sequence  \\\n",
       "1  04/10/2010 09:22        402   MA Email     No Value        1   \n",
       "2  05/11/2010 09:50       1983    CSS Web     No Value        1   \n",
       "3  11/01/2011 11:58          0   No Value     No Value        1   \n",
       "4  12/01/2011 10:36       1243    CSS Web     No Value        1   \n",
       "5  12/01/2011 11:02          0      Email     No Value        1   \n",
       "\n",
       "0 SmartSense Indicator                                               Text  \\\n",
       "1                    0  \\n\\n==================== text File Attachment ...   \n",
       "2                    5  Agents are experiencing an issue with Rightnow...   \n",
       "3                    0                            Ad, see the attachment.   \n",
       "4                   -2  the phone display states \\nNo service\\nTrying ...   \n",
       "5                  -48  Had a look, appears to be a network port issue...   \n",
       "\n",
       "0 Thread Entry Type  \n",
       "1          Customer  \n",
       "2          Customer  \n",
       "3              Note  \n",
       "4          Customer  \n",
       "5     Staff Account  "
      ]
     },
     "execution_count": 14,
     "metadata": {},
     "output_type": "execute_result"
    }
   ],
   "source": [
    "f1.head()"
   ]
  },
  {
   "cell_type": "code",
   "execution_count": 15,
   "metadata": {},
   "outputs": [
    {
     "data": {
      "text/html": [
       "<div>\n",
       "<style scoped>\n",
       "    .dataframe tbody tr th:only-of-type {\n",
       "        vertical-align: middle;\n",
       "    }\n",
       "\n",
       "    .dataframe tbody tr th {\n",
       "        vertical-align: top;\n",
       "    }\n",
       "\n",
       "    .dataframe thead th {\n",
       "        text-align: right;\n",
       "    }\n",
       "</style>\n",
       "<table border=\"1\" class=\"dataframe\">\n",
       "  <thead>\n",
       "    <tr style=\"text-align: right;\">\n",
       "      <th></th>\n",
       "      <th>Reference #</th>\n",
       "      <th>Incident ID</th>\n",
       "      <th>Assigned Account</th>\n",
       "      <th>Severity</th>\n",
       "      <th>Status</th>\n",
       "      <th>Status Type</th>\n",
       "      <th>Subject</th>\n",
       "      <th>Product ID</th>\n",
       "      <th>Organisation ID</th>\n",
       "      <th>Date Closed</th>\n",
       "      <th>Date Created</th>\n",
       "      <th>Contact ID</th>\n",
       "      <th>CategoryID</th>\n",
       "    </tr>\n",
       "  </thead>\n",
       "  <tbody>\n",
       "    <tr>\n",
       "      <th>1</th>\n",
       "      <td>100825-000001</td>\n",
       "      <td>2554</td>\n",
       "      <td>Stephen Pickett</td>\n",
       "      <td>No Value</td>\n",
       "      <td>Solved</td>\n",
       "      <td>Solved</td>\n",
       "      <td>A4e Professional Services work</td>\n",
       "      <td>No Value</td>\n",
       "      <td>1</td>\n",
       "      <td>25/08/2010 12:00</td>\n",
       "      <td>25/08/2010 12:00</td>\n",
       "      <td>573</td>\n",
       "      <td>No Value</td>\n",
       "    </tr>\n",
       "    <tr>\n",
       "      <th>2</th>\n",
       "      <td>101004-000000</td>\n",
       "      <td>2601</td>\n",
       "      <td>Adam Wilkinson</td>\n",
       "      <td>No Value</td>\n",
       "      <td>Solved</td>\n",
       "      <td>Solved</td>\n",
       "      <td>Measuring effectiveness increases effectiveness</td>\n",
       "      <td>No Value</td>\n",
       "      <td>29</td>\n",
       "      <td>11/01/2011 12:07</td>\n",
       "      <td>04/10/2010 09:22</td>\n",
       "      <td>402</td>\n",
       "      <td>No Value</td>\n",
       "    </tr>\n",
       "    <tr>\n",
       "      <th>3</th>\n",
       "      <td>101102-000000</td>\n",
       "      <td>2619</td>\n",
       "      <td>Stephen Pickett</td>\n",
       "      <td>No Value</td>\n",
       "      <td>Solved</td>\n",
       "      <td>Solved</td>\n",
       "      <td>Infoco Answer Export Tool</td>\n",
       "      <td>RightNow</td>\n",
       "      <td>560</td>\n",
       "      <td>02/11/2010 12:05</td>\n",
       "      <td>02/11/2010 12:05</td>\n",
       "      <td>2157</td>\n",
       "      <td>No Value</td>\n",
       "    </tr>\n",
       "    <tr>\n",
       "      <th>4</th>\n",
       "      <td>101102-000001</td>\n",
       "      <td>2620</td>\n",
       "      <td>Chris Farmer</td>\n",
       "      <td>Medium</td>\n",
       "      <td>Solved</td>\n",
       "      <td>Solved</td>\n",
       "      <td>THA: The Family Information Direct/Helplines S...</td>\n",
       "      <td>No Value</td>\n",
       "      <td>562</td>\n",
       "      <td>24/02/2011 13:56</td>\n",
       "      <td>02/11/2010 12:46</td>\n",
       "      <td>2144</td>\n",
       "      <td>No Value</td>\n",
       "    </tr>\n",
       "    <tr>\n",
       "      <th>5</th>\n",
       "      <td>101105-000000</td>\n",
       "      <td>2632</td>\n",
       "      <td>Alan Cheng</td>\n",
       "      <td>Medium</td>\n",
       "      <td>Solved</td>\n",
       "      <td>Solved</td>\n",
       "      <td>incident screen freezing incident - Ref 100924...</td>\n",
       "      <td>Instance Freezing</td>\n",
       "      <td>473</td>\n",
       "      <td>16/02/2011 15:09</td>\n",
       "      <td>05/11/2010 09:50</td>\n",
       "      <td>1983</td>\n",
       "      <td>No Value</td>\n",
       "    </tr>\n",
       "  </tbody>\n",
       "</table>\n",
       "</div>"
      ],
      "text/plain": [
       "0    Reference # Incident ID Assigned Account  Severity  Status Status Type  \\\n",
       "1  100825-000001        2554  Stephen Pickett  No Value  Solved      Solved   \n",
       "2  101004-000000        2601   Adam Wilkinson  No Value  Solved      Solved   \n",
       "3  101102-000000        2619  Stephen Pickett  No Value  Solved      Solved   \n",
       "4  101102-000001        2620     Chris Farmer    Medium  Solved      Solved   \n",
       "5  101105-000000        2632       Alan Cheng    Medium  Solved      Solved   \n",
       "\n",
       "0                                            Subject         Product ID  \\\n",
       "1                     A4e Professional Services work           No Value   \n",
       "2    Measuring effectiveness increases effectiveness           No Value   \n",
       "3                          Infoco Answer Export Tool           RightNow   \n",
       "4  THA: The Family Information Direct/Helplines S...           No Value   \n",
       "5  incident screen freezing incident - Ref 100924...  Instance Freezing   \n",
       "\n",
       "0 Organisation ID       Date Closed      Date Created Contact ID CategoryID  \n",
       "1               1  25/08/2010 12:00  25/08/2010 12:00        573   No Value  \n",
       "2              29  11/01/2011 12:07  04/10/2010 09:22        402   No Value  \n",
       "3             560  02/11/2010 12:05  02/11/2010 12:05       2157   No Value  \n",
       "4             562  24/02/2011 13:56  02/11/2010 12:46       2144   No Value  \n",
       "5             473  16/02/2011 15:09  05/11/2010 09:50       1983   No Value  "
      ]
     },
     "execution_count": 15,
     "metadata": {},
     "output_type": "execute_result"
    }
   ],
   "source": [
    "f2.head()"
   ]
  },
  {
   "cell_type": "code",
   "execution_count": 16,
   "metadata": {},
   "outputs": [
    {
     "data": {
      "text/plain": [
       "array(['No Value', 'Update process', 'Oracle', 'Sharepoint',\n",
       "       'Infrastructure', 'Telephony', 'Business Process', 'Contract',\n",
       "       'CiviCRM', 'Reporting', 'Not working as expected', 'Added account',\n",
       "       'Updated account', 'Leaver', 'Starter', 'Update report', 'Other',\n",
       "       'Slow loading/response', 'Delete a record',\n",
       "       'Add new number or routing', 'New report', 'Connection error'],\n",
       "      dtype=object)"
      ]
     },
     "execution_count": 16,
     "metadata": {},
     "output_type": "execute_result"
    }
   ],
   "source": [
    "f2.CategoryID.unique()"
   ]
  },
  {
   "cell_type": "code",
   "execution_count": 17,
   "metadata": {},
   "outputs": [],
   "source": [
    "f3=f1[[\"Incident ID\",\"Text\"]].merge(f2[[\"Incident ID\",\"Status\",\"CategoryID\"]],on=\"Incident ID\",how=\"right\")"
   ]
  },
  {
   "cell_type": "code",
   "execution_count": 18,
   "metadata": {},
   "outputs": [
    {
     "data": {
      "text/plain": [
       "(103323, 4)"
      ]
     },
     "execution_count": 18,
     "metadata": {},
     "output_type": "execute_result"
    }
   ],
   "source": [
    "f3.shape"
   ]
  },
  {
   "cell_type": "code",
   "execution_count": 19,
   "metadata": {},
   "outputs": [
    {
     "data": {
      "text/plain": [
       "array(['No Value', 'Oracle', 'Sharepoint', 'Infrastructure', 'Telephony',\n",
       "       'Update process', 'Business Process', 'Contract', 'CiviCRM',\n",
       "       'Reporting', 'Not working as expected', 'Added account',\n",
       "       'Updated account', 'Leaver', 'Starter', 'Update report', 'Other',\n",
       "       'Slow loading/response', 'Delete a record',\n",
       "       'Add new number or routing', 'New report', 'Connection error'],\n",
       "      dtype=object)"
      ]
     },
     "execution_count": 19,
     "metadata": {},
     "output_type": "execute_result"
    }
   ],
   "source": [
    "f3.CategoryID.unique()"
   ]
  },
  {
   "cell_type": "code",
   "execution_count": 20,
   "metadata": {},
   "outputs": [
    {
     "data": {
      "text/html": [
       "<div>\n",
       "<style scoped>\n",
       "    .dataframe tbody tr th:only-of-type {\n",
       "        vertical-align: middle;\n",
       "    }\n",
       "\n",
       "    .dataframe tbody tr th {\n",
       "        vertical-align: top;\n",
       "    }\n",
       "\n",
       "    .dataframe thead th {\n",
       "        text-align: right;\n",
       "    }\n",
       "</style>\n",
       "<table border=\"1\" class=\"dataframe\">\n",
       "  <thead>\n",
       "    <tr style=\"text-align: right;\">\n",
       "      <th></th>\n",
       "      <th>Incident ID</th>\n",
       "      <th>Text</th>\n",
       "      <th>Status</th>\n",
       "      <th>CategoryID</th>\n",
       "    </tr>\n",
       "  </thead>\n",
       "  <tbody>\n",
       "    <tr>\n",
       "      <th>0</th>\n",
       "      <td>2601.0</td>\n",
       "      <td>\\n\\n==================== text File Attachment ...</td>\n",
       "      <td>Solved</td>\n",
       "      <td>No Value</td>\n",
       "    </tr>\n",
       "    <tr>\n",
       "      <th>1</th>\n",
       "      <td>2601.0</td>\n",
       "      <td>Ad, see the attachment.</td>\n",
       "      <td>Solved</td>\n",
       "      <td>No Value</td>\n",
       "    </tr>\n",
       "    <tr>\n",
       "      <th>2</th>\n",
       "      <td>2632.0</td>\n",
       "      <td>Agents are experiencing an issue with Rightnow...</td>\n",
       "      <td>Solved</td>\n",
       "      <td>No Value</td>\n",
       "    </tr>\n",
       "    <tr>\n",
       "      <th>3</th>\n",
       "      <td>2632.0</td>\n",
       "      <td>Emailed agents this week asking if anyone have...</td>\n",
       "      <td>Solved</td>\n",
       "      <td>No Value</td>\n",
       "    </tr>\n",
       "    <tr>\n",
       "      <th>4</th>\n",
       "      <td>2632.0</td>\n",
       "      <td>No one have supplied details of issue</td>\n",
       "      <td>Solved</td>\n",
       "      <td>No Value</td>\n",
       "    </tr>\n",
       "    <tr>\n",
       "      <th>5</th>\n",
       "      <td>2655.0</td>\n",
       "      <td>the phone display states \\nNo service\\nTrying ...</td>\n",
       "      <td>Solved</td>\n",
       "      <td>No Value</td>\n",
       "    </tr>\n",
       "    <tr>\n",
       "      <th>6</th>\n",
       "      <td>2655.0</td>\n",
       "      <td>Had a look, appears to be a network port issue...</td>\n",
       "      <td>Solved</td>\n",
       "      <td>No Value</td>\n",
       "    </tr>\n",
       "    <tr>\n",
       "      <th>7</th>\n",
       "      <td>2666.0</td>\n",
       "      <td>I have come into work this evening to find tha...</td>\n",
       "      <td>Solved</td>\n",
       "      <td>No Value</td>\n",
       "    </tr>\n",
       "    <tr>\n",
       "      <th>8</th>\n",
       "      <td>2666.0</td>\n",
       "      <td>Hi Paddy,\\n\\nI've called you a number of times...</td>\n",
       "      <td>Solved</td>\n",
       "      <td>No Value</td>\n",
       "    </tr>\n",
       "    <tr>\n",
       "      <th>9</th>\n",
       "      <td>2666.0</td>\n",
       "      <td>Hi Steve, It’s all been sorted out with Alan’s...</td>\n",
       "      <td>Solved</td>\n",
       "      <td>No Value</td>\n",
       "    </tr>\n",
       "  </tbody>\n",
       "</table>\n",
       "</div>"
      ],
      "text/plain": [
       "0  Incident ID                                               Text  Status  \\\n",
       "0       2601.0  \\n\\n==================== text File Attachment ...  Solved   \n",
       "1       2601.0                            Ad, see the attachment.  Solved   \n",
       "2       2632.0  Agents are experiencing an issue with Rightnow...  Solved   \n",
       "3       2632.0  Emailed agents this week asking if anyone have...  Solved   \n",
       "4       2632.0              No one have supplied details of issue  Solved   \n",
       "5       2655.0  the phone display states \\nNo service\\nTrying ...  Solved   \n",
       "6       2655.0  Had a look, appears to be a network port issue...  Solved   \n",
       "7       2666.0  I have come into work this evening to find tha...  Solved   \n",
       "8       2666.0  Hi Paddy,\\n\\nI've called you a number of times...  Solved   \n",
       "9       2666.0  Hi Steve, It’s all been sorted out with Alan’s...  Solved   \n",
       "\n",
       "0 CategoryID  \n",
       "0   No Value  \n",
       "1   No Value  \n",
       "2   No Value  \n",
       "3   No Value  \n",
       "4   No Value  \n",
       "5   No Value  \n",
       "6   No Value  \n",
       "7   No Value  \n",
       "8   No Value  \n",
       "9   No Value  "
      ]
     },
     "execution_count": 20,
     "metadata": {},
     "output_type": "execute_result"
    }
   ],
   "source": [
    "f3.head(10)"
   ]
  },
  {
   "cell_type": "code",
   "execution_count": 21,
   "metadata": {},
   "outputs": [
    {
     "data": {
      "text/plain": [
       "0\n",
       "Text    3323\n",
       "dtype: int64"
      ]
     },
     "execution_count": 21,
     "metadata": {},
     "output_type": "execute_result"
    }
   ],
   "source": [
    "null_columns=f3.columns[f3.isnull().any()]\n",
    "f3[null_columns].isnull().sum()"
   ]
  },
  {
   "cell_type": "code",
   "execution_count": 22,
   "metadata": {},
   "outputs": [],
   "source": [
    "f3=f3[f3['CategoryID']!='No Value']"
   ]
  },
  {
   "cell_type": "code",
   "execution_count": 23,
   "metadata": {},
   "outputs": [
    {
     "data": {
      "text/plain": [
       "(13471, 4)"
      ]
     },
     "execution_count": 23,
     "metadata": {},
     "output_type": "execute_result"
    }
   ],
   "source": [
    "f3.shape"
   ]
  },
  {
   "cell_type": "code",
   "execution_count": 24,
   "metadata": {},
   "outputs": [
    {
     "data": {
      "text/plain": [
       "array(['Oracle', 'Sharepoint', 'Infrastructure', 'Telephony',\n",
       "       'Update process', 'Business Process', 'Contract', 'CiviCRM',\n",
       "       'Reporting', 'Not working as expected', 'Added account',\n",
       "       'Updated account', 'Leaver', 'Starter', 'Update report', 'Other',\n",
       "       'Slow loading/response', 'Delete a record',\n",
       "       'Add new number or routing', 'New report', 'Connection error'],\n",
       "      dtype=object)"
      ]
     },
     "execution_count": 24,
     "metadata": {},
     "output_type": "execute_result"
    }
   ],
   "source": [
    "f3.CategoryID.unique()"
   ]
  },
  {
   "cell_type": "code",
   "execution_count": 25,
   "metadata": {},
   "outputs": [],
   "source": [
    "f3['Text']=f3['Text'].str.replace('\\n','')\n",
    "f3['Text']=f3['Text'].str.replace('=','')"
   ]
  },
  {
   "cell_type": "code",
   "execution_count": 26,
   "metadata": {},
   "outputs": [
    {
     "data": {
      "text/html": [
       "<div>\n",
       "<style scoped>\n",
       "    .dataframe tbody tr th:only-of-type {\n",
       "        vertical-align: middle;\n",
       "    }\n",
       "\n",
       "    .dataframe tbody tr th {\n",
       "        vertical-align: top;\n",
       "    }\n",
       "\n",
       "    .dataframe thead th {\n",
       "        text-align: right;\n",
       "    }\n",
       "</style>\n",
       "<table border=\"1\" class=\"dataframe\">\n",
       "  <thead>\n",
       "    <tr style=\"text-align: right;\">\n",
       "      <th></th>\n",
       "      <th>Incident ID</th>\n",
       "      <th>Text</th>\n",
       "      <th>Status</th>\n",
       "      <th>CategoryID</th>\n",
       "    </tr>\n",
       "  </thead>\n",
       "  <tbody>\n",
       "    <tr>\n",
       "      <th>28234</th>\n",
       "      <td>11751.0</td>\n",
       "      <td>Hi Mike  As we discussed yesterday. We wish to...</td>\n",
       "      <td>Solved</td>\n",
       "      <td>Oracle</td>\n",
       "    </tr>\n",
       "    <tr>\n",
       "      <th>28235</th>\n",
       "      <td>11751.0</td>\n",
       "      <td>Hi MikeThis one needs picking up please, Beth ...</td>\n",
       "      <td>Solved</td>\n",
       "      <td>Oracle</td>\n",
       "    </tr>\n",
       "    <tr>\n",
       "      <th>28236</th>\n",
       "      <td>11751.0</td>\n",
       "      <td>Response via E-mail:From: Mike Griffiths Sent:...</td>\n",
       "      <td>Solved</td>\n",
       "      <td>Oracle</td>\n",
       "    </tr>\n",
       "    <tr>\n",
       "      <th>28237</th>\n",
       "      <td>11751.0</td>\n",
       "      <td>Need to create a CR after speaking with Mike</td>\n",
       "      <td>Solved</td>\n",
       "      <td>Oracle</td>\n",
       "    </tr>\n",
       "    <tr>\n",
       "      <th>28238</th>\n",
       "      <td>11751.0</td>\n",
       "      <td>Dear Joe,Thank you for contacting Connect Assi...</td>\n",
       "      <td>Solved</td>\n",
       "      <td>Oracle</td>\n",
       "    </tr>\n",
       "    <tr>\n",
       "      <th>28239</th>\n",
       "      <td>11751.0</td>\n",
       "      <td>Dear Joe,Thank you for contacting Connect Assi...</td>\n",
       "      <td>Solved</td>\n",
       "      <td>Oracle</td>\n",
       "    </tr>\n",
       "    <tr>\n",
       "      <th>28240</th>\n",
       "      <td>11751.0</td>\n",
       "      <td>Dear Joe,We are still awaiting an update from ...</td>\n",
       "      <td>Solved</td>\n",
       "      <td>Oracle</td>\n",
       "    </tr>\n",
       "    <tr>\n",
       "      <th>28241</th>\n",
       "      <td>11751.0</td>\n",
       "      <td>Dear Joe,Thank you for contacting Connect Assi...</td>\n",
       "      <td>Solved</td>\n",
       "      <td>Oracle</td>\n",
       "    </tr>\n",
       "    <tr>\n",
       "      <th>28242</th>\n",
       "      <td>11751.0</td>\n",
       "      <td>Dear Joe,We are still awaiting an update from ...</td>\n",
       "      <td>Solved</td>\n",
       "      <td>Oracle</td>\n",
       "    </tr>\n",
       "    <tr>\n",
       "      <th>28243</th>\n",
       "      <td>11751.0</td>\n",
       "      <td>Dear Joe,Thank you for contacting Connect Assi...</td>\n",
       "      <td>Solved</td>\n",
       "      <td>Oracle</td>\n",
       "    </tr>\n",
       "  </tbody>\n",
       "</table>\n",
       "</div>"
      ],
      "text/plain": [
       "0      Incident ID                                               Text  Status  \\\n",
       "28234      11751.0  Hi Mike  As we discussed yesterday. We wish to...  Solved   \n",
       "28235      11751.0  Hi MikeThis one needs picking up please, Beth ...  Solved   \n",
       "28236      11751.0  Response via E-mail:From: Mike Griffiths Sent:...  Solved   \n",
       "28237      11751.0       Need to create a CR after speaking with Mike  Solved   \n",
       "28238      11751.0  Dear Joe,Thank you for contacting Connect Assi...  Solved   \n",
       "28239      11751.0  Dear Joe,Thank you for contacting Connect Assi...  Solved   \n",
       "28240      11751.0  Dear Joe,We are still awaiting an update from ...  Solved   \n",
       "28241      11751.0  Dear Joe,Thank you for contacting Connect Assi...  Solved   \n",
       "28242      11751.0  Dear Joe,We are still awaiting an update from ...  Solved   \n",
       "28243      11751.0  Dear Joe,Thank you for contacting Connect Assi...  Solved   \n",
       "\n",
       "0     CategoryID  \n",
       "28234     Oracle  \n",
       "28235     Oracle  \n",
       "28236     Oracle  \n",
       "28237     Oracle  \n",
       "28238     Oracle  \n",
       "28239     Oracle  \n",
       "28240     Oracle  \n",
       "28241     Oracle  \n",
       "28242     Oracle  \n",
       "28243     Oracle  "
      ]
     },
     "execution_count": 26,
     "metadata": {},
     "output_type": "execute_result"
    }
   ],
   "source": [
    "f3.head(10)"
   ]
  },
  {
   "cell_type": "code",
   "execution_count": 27,
   "metadata": {},
   "outputs": [
    {
     "data": {
      "text/plain": [
       "0\n",
       "Text    950\n",
       "dtype: int64"
      ]
     },
     "execution_count": 27,
     "metadata": {},
     "output_type": "execute_result"
    }
   ],
   "source": [
    "null_columns=f3.columns[f3.isnull().any()]\n",
    "f3[null_columns].isnull().sum()"
   ]
  },
  {
   "cell_type": "code",
   "execution_count": 28,
   "metadata": {},
   "outputs": [
    {
     "data": {
      "image/png": "[encoded data removed]",
      "text/plain": [
       "<Figure size 576x360 with 1 Axes>"
      ]
     },
     "metadata": {
      "needs_background": "light"
     },
     "output_type": "display_data"
    }
   ],
   "source": [
    "import matplotlib.pyplot as plt\n",
    "fig = plt.figure(figsize=(8,5))\n",
    "f3.groupby('CategoryID').Text.count().plot.bar(ylim=0)\n",
    "plt.show()"
   ]
  },
  {
   "cell_type": "code",
   "execution_count": 29,
   "metadata": {},
   "outputs": [],
   "source": [
    "f3 = f3[f3['Text'].notna()]"
   ]
  },
  {
   "cell_type": "code",
   "execution_count": 30,
   "metadata": {},
   "outputs": [
    {
     "data": {
      "text/plain": [
       "(12521, 4)"
      ]
     },
     "execution_count": 30,
     "metadata": {},
     "output_type": "execute_result"
    }
   ],
   "source": [
    "f3.shape"
   ]
  },
  {
   "cell_type": "code",
   "execution_count": 31,
   "metadata": {},
   "outputs": [
    {
     "data": {
      "text/plain": [
       "array(['Oracle', 'Sharepoint', 'Infrastructure', 'Telephony',\n",
       "       'Update process', 'Business Process', 'Contract', 'CiviCRM',\n",
       "       'Reporting'], dtype=object)"
      ]
     },
     "execution_count": 31,
     "metadata": {},
     "output_type": "execute_result"
    }
   ],
   "source": [
    "f3.CategoryID.unique()"
   ]
  },
  {
   "cell_type": "code",
   "execution_count": 32,
   "metadata": {},
   "outputs": [
    {
     "data": {
      "image/png": "[encoded data removed]",
      "text/plain": [
       "<Figure size 576x360 with 1 Axes>"
      ]
     },
     "metadata": {
      "needs_background": "light"
     },
     "output_type": "display_data"
    }
   ],
   "source": [
    "import matplotlib.pyplot as plt\n",
    "fig = plt.figure(figsize=(8,5))\n",
    "f3.groupby('CategoryID').Text.count().plot.bar(ylim=0)\n",
    "plt.show()"
   ]
  },
  {
   "cell_type": "code",
   "execution_count": 33,
   "metadata": {},
   "outputs": [],
   "source": [
    "def decode_text(string):\n",
    "    result = html.unescape(string)\n",
    "    return result"
   ]
  },
  {
   "cell_type": "code",
   "execution_count": 34,
   "metadata": {},
   "outputs": [],
   "source": [
    "f3[\"Text\"]=f3[\"Text\"].apply(lambda cw: decode_text(cw))"
   ]
  },
  {
   "cell_type": "code",
   "execution_count": 35,
   "metadata": {},
   "outputs": [],
   "source": [
    "f3['Text'] = f3['Text'].replace(r'https?:\\/\\/.\\S+', '', regex=True).replace(r'www\\S+', '', regex=True)"
   ]
  },
  {
   "cell_type": "code",
   "execution_count": 36,
   "metadata": {},
   "outputs": [],
   "source": [
    "f3[\"Text\"]=f3[\"Text\"].str.lower()"
   ]
  },
  {
   "cell_type": "code",
   "execution_count": 37,
   "metadata": {},
   "outputs": [],
   "source": [
    "Apos_dict={\"'s\":\" is\",\"n't\":\" not\",\"'m\":\" am\",\"'ll\":\" will\",\"'d\":\" would\",\"'ve\":\" have\",\"'re\":\" are\"}\n",
    "def contraction_text(string):\n",
    "    for key,value in Apos_dict.items():\n",
    "        if key in string:\n",
    "            result=string.replace(key,value)\n",
    "            return result\n",
    "        else:\n",
    "            return string"
   ]
  },
  {
   "cell_type": "code",
   "execution_count": 38,
   "metadata": {},
   "outputs": [],
   "source": [
    "f3[\"Text\"]=f3[\"Text\"].apply(lambda cw: contraction_text(cw))"
   ]
  },
  {
   "cell_type": "code",
   "execution_count": 39,
   "metadata": {},
   "outputs": [],
   "source": [
    "def punction_text(string):\n",
    "    result = re.sub(r'[^\\w\\s]', '', string)\n",
    "    return result"
   ]
  },
  {
   "cell_type": "code",
   "execution_count": 40,
   "metadata": {},
   "outputs": [],
   "source": [
    "f3[\"Text\"]=f3[\"Text\"].apply(lambda cw: punction_text(cw))"
   ]
  },
  {
   "cell_type": "code",
   "execution_count": 41,
   "metadata": {},
   "outputs": [],
   "source": [
    "pattern = r'[0-9]'\n",
    "def nums_text(string):\n",
    "    result=re.sub(pattern, '', string)\n",
    "    return result"
   ]
  },
  {
   "cell_type": "code",
   "execution_count": 42,
   "metadata": {},
   "outputs": [],
   "source": [
    "f3[\"Text\"]=f3[\"Text\"].apply(lambda cw: nums_text(cw))"
   ]
  },
  {
   "cell_type": "code",
   "execution_count": 43,
   "metadata": {},
   "outputs": [],
   "source": [
    "import numpy as np\n",
    "from scipy.stats import randint\n",
    "import seaborn as sns # used for plot interactive graph. \n",
    "import matplotlib.pyplot as plt\n",
    "import seaborn as sns\n",
    "from io import StringIO\n",
    "from sklearn.feature_extraction.text import TfidfVectorizer\n",
    "from sklearn.feature_selection import chi2\n",
    "from IPython.display import display\n",
    "from sklearn.model_selection import train_test_split\n",
    "from sklearn.feature_extraction.text import TfidfTransformer\n",
    "from sklearn.naive_bayes import MultinomialNB\n",
    "from sklearn.linear_model import LogisticRegression\n",
    "from sklearn.ensemble import RandomForestClassifier\n",
    "from sklearn.svm import LinearSVC\n",
    "from sklearn.model_selection import cross_val_score\n",
    "from sklearn.metrics import confusion_matrix\n",
    "from sklearn import metrics"
   ]
  },
  {
   "cell_type": "code",
   "execution_count": 44,
   "metadata": {},
   "outputs": [],
   "source": [
    "f3['cat_id'] = f3['CategoryID'].factorize()[0]\n",
    "category_id_f2 = f3[['CategoryID', 'cat_id']].drop_duplicates()\n",
    "\n",
    "cat_to_id = dict(category_id_f2.values)\n",
    "id_to_category = dict(category_id_f2[['cat_id', 'CategoryID']].values)"
   ]
  },
  {
   "cell_type": "code",
   "execution_count": 45,
   "metadata": {},
   "outputs": [
    {
     "data": {
      "text/html": [
       "<div>\n",
       "<style scoped>\n",
       "    .dataframe tbody tr th:only-of-type {\n",
       "        vertical-align: middle;\n",
       "    }\n",
       "\n",
       "    .dataframe tbody tr th {\n",
       "        vertical-align: top;\n",
       "    }\n",
       "\n",
       "    .dataframe thead th {\n",
       "        text-align: right;\n",
       "    }\n",
       "</style>\n",
       "<table border=\"1\" class=\"dataframe\">\n",
       "  <thead>\n",
       "    <tr style=\"text-align: right;\">\n",
       "      <th></th>\n",
       "      <th>Incident ID</th>\n",
       "      <th>Text</th>\n",
       "      <th>Status</th>\n",
       "      <th>CategoryID</th>\n",
       "      <th>cat_id</th>\n",
       "    </tr>\n",
       "  </thead>\n",
       "  <tbody>\n",
       "    <tr>\n",
       "      <th>28234</th>\n",
       "      <td>11751.0</td>\n",
       "      <td>hi mike  as we discussed yesterday we wish to ...</td>\n",
       "      <td>Solved</td>\n",
       "      <td>Oracle</td>\n",
       "      <td>0</td>\n",
       "    </tr>\n",
       "    <tr>\n",
       "      <th>28235</th>\n",
       "      <td>11751.0</td>\n",
       "      <td>hi mikethis one needs picking up please beth s...</td>\n",
       "      <td>Solved</td>\n",
       "      <td>Oracle</td>\n",
       "      <td>0</td>\n",
       "    </tr>\n",
       "    <tr>\n",
       "      <th>28236</th>\n",
       "      <td>11751.0</td>\n",
       "      <td>response via emailfrom mike griffiths sent  se...</td>\n",
       "      <td>Solved</td>\n",
       "      <td>Oracle</td>\n",
       "      <td>0</td>\n",
       "    </tr>\n",
       "    <tr>\n",
       "      <th>28237</th>\n",
       "      <td>11751.0</td>\n",
       "      <td>need to create a cr after speaking with mike</td>\n",
       "      <td>Solved</td>\n",
       "      <td>Oracle</td>\n",
       "      <td>0</td>\n",
       "    </tr>\n",
       "    <tr>\n",
       "      <th>28238</th>\n",
       "      <td>11751.0</td>\n",
       "      <td>dear joethank you for contacting connect assis...</td>\n",
       "      <td>Solved</td>\n",
       "      <td>Oracle</td>\n",
       "      <td>0</td>\n",
       "    </tr>\n",
       "    <tr>\n",
       "      <th>28239</th>\n",
       "      <td>11751.0</td>\n",
       "      <td>dear joethank you for contacting connect assis...</td>\n",
       "      <td>Solved</td>\n",
       "      <td>Oracle</td>\n",
       "      <td>0</td>\n",
       "    </tr>\n",
       "    <tr>\n",
       "      <th>28240</th>\n",
       "      <td>11751.0</td>\n",
       "      <td>dear joewe are still awaiting an update from y...</td>\n",
       "      <td>Solved</td>\n",
       "      <td>Oracle</td>\n",
       "      <td>0</td>\n",
       "    </tr>\n",
       "    <tr>\n",
       "      <th>28241</th>\n",
       "      <td>11751.0</td>\n",
       "      <td>dear joethank you for contacting connect assis...</td>\n",
       "      <td>Solved</td>\n",
       "      <td>Oracle</td>\n",
       "      <td>0</td>\n",
       "    </tr>\n",
       "    <tr>\n",
       "      <th>28242</th>\n",
       "      <td>11751.0</td>\n",
       "      <td>dear joewe are still awaiting an update from y...</td>\n",
       "      <td>Solved</td>\n",
       "      <td>Oracle</td>\n",
       "      <td>0</td>\n",
       "    </tr>\n",
       "    <tr>\n",
       "      <th>28243</th>\n",
       "      <td>11751.0</td>\n",
       "      <td>dear joethank you for contacting connect assis...</td>\n",
       "      <td>Solved</td>\n",
       "      <td>Oracle</td>\n",
       "      <td>0</td>\n",
       "    </tr>\n",
       "  </tbody>\n",
       "</table>\n",
       "</div>"
      ],
      "text/plain": [
       "0      Incident ID                                               Text  Status  \\\n",
       "28234      11751.0  hi mike  as we discussed yesterday we wish to ...  Solved   \n",
       "28235      11751.0  hi mikethis one needs picking up please beth s...  Solved   \n",
       "28236      11751.0  response via emailfrom mike griffiths sent  se...  Solved   \n",
       "28237      11751.0       need to create a cr after speaking with mike  Solved   \n",
       "28238      11751.0  dear joethank you for contacting connect assis...  Solved   \n",
       "28239      11751.0  dear joethank you for contacting connect assis...  Solved   \n",
       "28240      11751.0  dear joewe are still awaiting an update from y...  Solved   \n",
       "28241      11751.0  dear joethank you for contacting connect assis...  Solved   \n",
       "28242      11751.0  dear joewe are still awaiting an update from y...  Solved   \n",
       "28243      11751.0  dear joethank you for contacting connect assis...  Solved   \n",
       "\n",
       "0     CategoryID  cat_id  \n",
       "28234     Oracle       0  \n",
       "28235     Oracle       0  \n",
       "28236     Oracle       0  \n",
       "28237     Oracle       0  \n",
       "28238     Oracle       0  \n",
       "28239     Oracle       0  \n",
       "28240     Oracle       0  \n",
       "28241     Oracle       0  \n",
       "28242     Oracle       0  \n",
       "28243     Oracle       0  "
      ]
     },
     "execution_count": 45,
     "metadata": {},
     "output_type": "execute_result"
    }
   ],
   "source": [
    "f3.head(10)"
   ]
  },
  {
   "cell_type": "code",
   "execution_count": 46,
   "metadata": {},
   "outputs": [
    {
     "name": "stdout",
     "output_type": "stream",
     "text": [
      "Each of the 12521 complaints is represented by 10727 features (TF-IDF score of unigrams and bigrams)\n"
     ]
    }
   ],
   "source": [
    "tfidf = TfidfVectorizer(sublinear_tf=True, min_df=5,\n",
    "                        ngram_range=(1, 2), \n",
    "                        stop_words='english')\n",
    "\n",
    "# We transform each complaint into a vector\n",
    "features = tfidf.fit_transform(f3.Text)\n",
    "\n",
    "labels = f3.cat_id\n",
    "\n",
    "print(\"Each of the %d complaints is represented by %d features (TF-IDF score of unigrams and bigrams)\" %(features.shape))"
   ]
  },
  {
   "cell_type": "code",
   "execution_count": 47,
   "metadata": {},
   "outputs": [
    {
     "name": "stdout",
     "output_type": "stream",
     "text": [
      "\n",
      "==> Business Process:\n",
      "  * Most Correlated Unigrams are: combat, alert, workflow\n",
      "  * Most Correlated Bigrams are: records older, stress change, able search\n",
      "\n",
      "==> CiviCRM:\n",
      "  * Most Correlated Unigrams are: shaw, civi, circle\n",
      "  * Most Correlated Bigrams are: shaw healthcare, circle hi, care home\n",
      "\n",
      "==> Contract:\n",
      "  * Most Correlated Unigrams are: proof, ellie, invitation\n",
      "  * Most Correlated Bigrams are: create contact, ellie registered, email invitation\n",
      "\n",
      "==> Infrastructure:\n",
      "  * Most Correlated Unigrams are: kevin, special, wall\n",
      "  * Most Correlated Bigrams are: birtles team, archive option, special characters\n",
      "\n",
      "==> Oracle:\n",
      "  * Most Correlated Unigrams are: regardsross, ross, sharepoint\n",
      "  * Most Correlated Bigrams are: combat stress, waiting delivery, hi ross\n",
      "\n",
      "==> Reporting:\n",
      "  * Most Correlated Unigrams are: warmest, regardsross, ross\n",
      "  * Most Correlated Bigrams are: regards ross, waiting delivery, hi ross\n",
      "\n",
      "==> Sharepoint:\n",
      "  * Most Correlated Unigrams are: microsoft, warrior, sharepoint\n",
      "  * Most Correlated Bigrams are: warrior programme, thanks mel, combat stress\n",
      "\n",
      "==> Telephony:\n",
      "  * Most Correlated Unigrams are: classification, contract, headset\n",
      "  * Most Correlated Bigrams are: line set, new headset, hi jenna\n",
      "\n",
      "==> Update process:\n",
      "  * Most Correlated Unigrams are: robertssupport, wishessteven, best\n",
      "  * Most Correlated Bigrams are: wishessteven robertssupport, robertssupport engineert, best wishessteven\n"
     ]
    }
   ],
   "source": [
    "N = 3\n",
    "for CategoryID, cat_id in sorted(cat_to_id.items()):\n",
    "    features_chi = chi2(features, labels == cat_id)\n",
    "    indices = np.argsort(features_chi[0])\n",
    "    feature_names = np.array(tfidf.get_feature_names())[indices]\n",
    "    unigrams = [v for v in feature_names if len(v.split(' ')) == 1]\n",
    "    bigrams = [v for v in feature_names if len(v.split(' ')) == 2]\n",
    "    print(\"\\n==> %s:\" %(CategoryID))\n",
    "    print(\"  * Most Correlated Unigrams are: %s\" %(', '.join(unigrams[-N:])))\n",
    "    print(\"  * Most Correlated Bigrams are: %s\" %(', '.join(bigrams[-N:])))"
   ]
  },
  {
   "cell_type": "code",
   "execution_count": 48,
   "metadata": {},
   "outputs": [],
   "source": [
    "X=f3['Text']\n",
    "y=f3['CategoryID']"
   ]
  },
  {
   "cell_type": "code",
   "execution_count": 49,
   "metadata": {},
   "outputs": [],
   "source": [
    "X_train, X_test, y_train, y_test = train_test_split(X, y,test_size=0.25,random_state = 0)"
   ]
  },
  {
   "cell_type": "code",
   "execution_count": 50,
   "metadata": {},
   "outputs": [
    {
     "name": "stderr",
     "output_type": "stream",
     "text": [
      "C:\\Users\\tarun\\anaconda3\\lib\\site-packages\\sklearn\\model_selection\\_split.py:665: UserWarning: The least populated class in y has only 3 members, which is less than n_splits=5.\n",
      "  warnings.warn((\"The least populated class in y has only %d\"\n",
      "C:\\Users\\tarun\\anaconda3\\lib\\site-packages\\sklearn\\model_selection\\_split.py:665: UserWarning: The least populated class in y has only 3 members, which is less than n_splits=5.\n",
      "  warnings.warn((\"The least populated class in y has only %d\"\n",
      "C:\\Users\\tarun\\anaconda3\\lib\\site-packages\\sklearn\\model_selection\\_split.py:665: UserWarning: The least populated class in y has only 3 members, which is less than n_splits=5.\n",
      "  warnings.warn((\"The least populated class in y has only %d\"\n",
      "C:\\Users\\tarun\\anaconda3\\lib\\site-packages\\sklearn\\model_selection\\_split.py:665: UserWarning: The least populated class in y has only 3 members, which is less than n_splits=5.\n",
      "  warnings.warn((\"The least populated class in y has only %d\"\n",
      "C:\\Users\\tarun\\anaconda3\\lib\\site-packages\\sklearn\\linear_model\\_logistic.py:938: ConvergenceWarning: lbfgs failed to converge (status=1):\n",
      "STOP: TOTAL NO. of ITERATIONS REACHED LIMIT.\n",
      "\n",
      "Increase the number of iterations (max_iter) or scale the data as shown in:\n",
      "    https://scikit-learn.org/stable/modules/preprocessing.html\n",
      "Please also refer to the documentation for alternative solver options:\n",
      "    https://scikit-learn.org/stable/modules/linear_model.html#logistic-regression\n",
      "  n_iter_i = _check_optimize_result(\n",
      "C:\\Users\\tarun\\anaconda3\\lib\\site-packages\\sklearn\\linear_model\\_logistic.py:938: ConvergenceWarning: lbfgs failed to converge (status=1):\n",
      "STOP: TOTAL NO. of ITERATIONS REACHED LIMIT.\n",
      "\n",
      "Increase the number of iterations (max_iter) or scale the data as shown in:\n",
      "    https://scikit-learn.org/stable/modules/preprocessing.html\n",
      "Please also refer to the documentation for alternative solver options:\n",
      "    https://scikit-learn.org/stable/modules/linear_model.html#logistic-regression\n",
      "  n_iter_i = _check_optimize_result(\n",
      "C:\\Users\\tarun\\anaconda3\\lib\\site-packages\\sklearn\\linear_model\\_logistic.py:938: ConvergenceWarning: lbfgs failed to converge (status=1):\n",
      "STOP: TOTAL NO. of ITERATIONS REACHED LIMIT.\n",
      "\n",
      "Increase the number of iterations (max_iter) or scale the data as shown in:\n",
      "    https://scikit-learn.org/stable/modules/preprocessing.html\n",
      "Please also refer to the documentation for alternative solver options:\n",
      "    https://scikit-learn.org/stable/modules/linear_model.html#logistic-regression\n",
      "  n_iter_i = _check_optimize_result(\n",
      "C:\\Users\\tarun\\anaconda3\\lib\\site-packages\\sklearn\\linear_model\\_logistic.py:938: ConvergenceWarning: lbfgs failed to converge (status=1):\n",
      "STOP: TOTAL NO. of ITERATIONS REACHED LIMIT.\n",
      "\n",
      "Increase the number of iterations (max_iter) or scale the data as shown in:\n",
      "    https://scikit-learn.org/stable/modules/preprocessing.html\n",
      "Please also refer to the documentation for alternative solver options:\n",
      "    https://scikit-learn.org/stable/modules/linear_model.html#logistic-regression\n",
      "  n_iter_i = _check_optimize_result(\n",
      "C:\\Users\\tarun\\anaconda3\\lib\\site-packages\\sklearn\\linear_model\\_logistic.py:938: ConvergenceWarning: lbfgs failed to converge (status=1):\n",
      "STOP: TOTAL NO. of ITERATIONS REACHED LIMIT.\n",
      "\n",
      "Increase the number of iterations (max_iter) or scale the data as shown in:\n",
      "    https://scikit-learn.org/stable/modules/preprocessing.html\n",
      "Please also refer to the documentation for alternative solver options:\n",
      "    https://scikit-learn.org/stable/modules/linear_model.html#logistic-regression\n",
      "  n_iter_i = _check_optimize_result(\n"
     ]
    }
   ],
   "source": [
    "models = [\n",
    "    RandomForestClassifier(n_estimators=100, max_depth=5, random_state=0),\n",
    "    LinearSVC(),\n",
    "    MultinomialNB(),\n",
    "    LogisticRegression(random_state=0),\n",
    "]\n",
    "\n",
    "# 5 Cross-validation\n",
    "CV = 5\n",
    "cv_df = pd.DataFrame(index=range(CV * len(models)))\n",
    "\n",
    "entries = []\n",
    "for model in models:\n",
    "    model_name = model.__class__.__name__\n",
    "    accuracies = cross_val_score(model, features, labels, scoring='accuracy', cv=CV)\n",
    "    for fold_idx, accuracy in enumerate(accuracies):\n",
    "        entries.append((model_name, fold_idx, accuracy))\n",
    "    \n",
    "cv_df = pd.DataFrame(entries, columns=['model_name', 'fold_idx', 'accuracy'])"
   ]
  },
  {
   "cell_type": "code",
   "execution_count": 51,
   "metadata": {},
   "outputs": [
    {
     "data": {
      "text/html": [
       "<div>\n",
       "<style scoped>\n",
       "    .dataframe tbody tr th:only-of-type {\n",
       "        vertical-align: middle;\n",
       "    }\n",
       "\n",
       "    .dataframe tbody tr th {\n",
       "        vertical-align: top;\n",
       "    }\n",
       "\n",
       "    .dataframe thead th {\n",
       "        text-align: right;\n",
       "    }\n",
       "</style>\n",
       "<table border=\"1\" class=\"dataframe\">\n",
       "  <thead>\n",
       "    <tr style=\"text-align: right;\">\n",
       "      <th></th>\n",
       "      <th>Mean Accuracy</th>\n",
       "      <th>Standard deviation</th>\n",
       "    </tr>\n",
       "    <tr>\n",
       "      <th>model_name</th>\n",
       "      <th></th>\n",
       "      <th></th>\n",
       "    </tr>\n",
       "  </thead>\n",
       "  <tbody>\n",
       "    <tr>\n",
       "      <th>LinearSVC</th>\n",
       "      <td>0.752736</td>\n",
       "      <td>0.007888</td>\n",
       "    </tr>\n",
       "    <tr>\n",
       "      <th>LogisticRegression</th>\n",
       "      <td>0.768709</td>\n",
       "      <td>0.006373</td>\n",
       "    </tr>\n",
       "    <tr>\n",
       "      <th>MultinomialNB</th>\n",
       "      <td>0.748023</td>\n",
       "      <td>0.003655</td>\n",
       "    </tr>\n",
       "    <tr>\n",
       "      <th>RandomForestClassifier</th>\n",
       "      <td>0.753135</td>\n",
       "      <td>0.000194</td>\n",
       "    </tr>\n",
       "  </tbody>\n",
       "</table>\n",
       "</div>"
      ],
      "text/plain": [
       "                        Mean Accuracy  Standard deviation\n",
       "model_name                                               \n",
       "LinearSVC                    0.752736            0.007888\n",
       "LogisticRegression           0.768709            0.006373\n",
       "MultinomialNB                0.748023            0.003655\n",
       "RandomForestClassifier       0.753135            0.000194"
      ]
     },
     "execution_count": 51,
     "metadata": {},
     "output_type": "execute_result"
    }
   ],
   "source": [
    "mean_accuracy = cv_df.groupby('model_name').accuracy.mean()\n",
    "std_accuracy = cv_df.groupby('model_name').accuracy.std()\n",
    "\n",
    "acc = pd.concat([mean_accuracy, std_accuracy], axis= 1, \n",
    "          ignore_index=True)\n",
    "acc.columns = ['Mean Accuracy', 'Standard deviation']\n",
    "acc"
   ]
  },
  {
   "cell_type": "code",
   "execution_count": 52,
   "metadata": {},
   "outputs": [
    {
     "data": {
      "image/png": "[encoded data removed]",
      "text/plain": [
       "<Figure size 576x360 with 1 Axes>"
      ]
     },
     "metadata": {
      "needs_background": "light"
     },
     "output_type": "display_data"
    }
   ],
   "source": [
    "plt.figure(figsize=(8,5))\n",
    "sns.boxplot(x='model_name', y='accuracy', \n",
    "            data=cv_df, \n",
    "            color='lightblue', \n",
    "            showmeans=True)\n",
    "plt.title(\"MEAN ACCURACY (cv = 5)\\n\", size=14);"
   ]
  },
  {
   "cell_type": "code",
   "execution_count": 67,
   "metadata": {},
   "outputs": [
    {
     "name": "stderr",
     "output_type": "stream",
     "text": [
      "C:\\Users\\tarun\\anaconda3\\lib\\site-packages\\sklearn\\linear_model\\_logistic.py:938: ConvergenceWarning: lbfgs failed to converge (status=1):\n",
      "STOP: TOTAL NO. of ITERATIONS REACHED LIMIT.\n",
      "\n",
      "Increase the number of iterations (max_iter) or scale the data as shown in:\n",
      "    https://scikit-learn.org/stable/modules/preprocessing.html\n",
      "Please also refer to the documentation for alternative solver options:\n",
      "    https://scikit-learn.org/stable/modules/linear_model.html#logistic-regression\n",
      "  n_iter_i = _check_optimize_result(\n"
     ]
    }
   ],
   "source": [
    "X_train, X_test, y_train, y_test,indices_train,indices_test = train_test_split(features, \n",
    "                                                               labels, \n",
    "                                                               f3.index, test_size=0.2, \n",
    "                                                               random_state=42)\n",
    "model = LogisticRegression()\n",
    "model.fit(X_train, y_train)\n",
    "y_pred = model.predict(X_test)"
   ]
  },
  {
   "cell_type": "code",
   "execution_count": 68,
   "metadata": {},
   "outputs": [
    {
     "name": "stdout",
     "output_type": "stream",
     "text": [
      "\t\t\t\tCLASSIFICATIION METRICS\n",
      "\n",
      "              precision    recall  f1-score   support\n",
      "\n",
      "           0       0.78      1.00      0.88      1863\n",
      "           1       0.85      0.21      0.34       210\n",
      "           2       1.00      0.03      0.05        78\n",
      "           3       0.76      0.19      0.30       131\n",
      "           4       0.00      0.00      0.00         1\n",
      "           5       0.00      0.00      0.00        12\n",
      "           6       0.00      0.00      0.00        23\n",
      "           7       1.00      0.14      0.24        72\n",
      "           8       0.91      0.25      0.39       115\n",
      "\n",
      "    accuracy                           0.78      2505\n",
      "   macro avg       0.59      0.20      0.24      2505\n",
      "weighted avg       0.79      0.78      0.72      2505\n",
      "\n"
     ]
    },
    {
     "name": "stderr",
     "output_type": "stream",
     "text": [
      "C:\\Users\\tarun\\anaconda3\\lib\\site-packages\\sklearn\\metrics\\_classification.py:1272: UndefinedMetricWarning: Precision and F-score are ill-defined and being set to 0.0 in labels with no predicted samples. Use `zero_division` parameter to control this behavior.\n",
      "  _warn_prf(average, modifier, msg_start, len(result))\n"
     ]
    }
   ],
   "source": [
    "print('\\t\\t\\t\\tCLASSIFICATIION METRICS\\n')\n",
    "print(metrics.classification_report(y_test, y_pred))"
   ]
  },
  {
   "cell_type": "code",
   "execution_count": 55,
   "metadata": {},
   "outputs": [
    {
     "name": "stderr",
     "output_type": "stream",
     "text": [
      "C:\\Users\\tarun\\anaconda3\\lib\\site-packages\\sklearn\\linear_model\\_logistic.py:938: ConvergenceWarning: lbfgs failed to converge (status=1):\n",
      "STOP: TOTAL NO. of ITERATIONS REACHED LIMIT.\n",
      "\n",
      "Increase the number of iterations (max_iter) or scale the data as shown in:\n",
      "    https://scikit-learn.org/stable/modules/preprocessing.html\n",
      "Please also refer to the documentation for alternative solver options:\n",
      "    https://scikit-learn.org/stable/modules/linear_model.html#logistic-regression\n",
      "  n_iter_i = _check_optimize_result(\n"
     ]
    }
   ],
   "source": [
    "X_train, X_test, y_train, y_test = train_test_split(X, y, \n",
    "                                                    test_size=0.25,\n",
    "                                                    random_state = 0)\n",
    "\n",
    "tfidf = TfidfVectorizer(sublinear_tf=True, min_df=5,\n",
    "                        ngram_range=(1, 2), \n",
    "                        stop_words='english')\n",
    "\n",
    "fitted_vectorizer = tfidf.fit(X_train)\n",
    "tfidf_vectorizer_vectors = fitted_vectorizer.transform(X_train)\n",
    "\n",
    "model = LogisticRegression().fit(tfidf_vectorizer_vectors, y_train)"
   ]
  },
  {
   "cell_type": "code",
   "execution_count": 56,
   "metadata": {},
   "outputs": [
    {
     "name": "stdout",
     "output_type": "stream",
     "text": [
      "['Oracle']\n"
     ]
    }
   ],
   "source": [
    "new_complaint = \"\"\"Good morning,I have been locked out of my Right Now account, please can you assist?Many thanksHelenHelen TesterWellbeing CoordinatorPharmacist Support5th Floor196 DeansgateManchesterM3 3WFDirect: 0161 441 0811Enquiry Line: 0808 168 2233Website: www.pharmacistsupport.org<http://www.pharmacistsupport.org/>NEW Charity Number:Pharmacist Support is a charitable company limited by guarantee registered in England and Wales with company number 9237609 and charity number 1158974.\"\"\"\n",
    "print(model.predict(fitted_vectorizer.transform([new_complaint])))"
   ]
  },
  {
   "cell_type": "code",
   "execution_count": 57,
   "metadata": {},
   "outputs": [],
   "source": [
    "import pickle"
   ]
  },
  {
   "cell_type": "code",
   "execution_count": 58,
   "metadata": {},
   "outputs": [],
   "source": [
    "with open('category_model','wb') as f:\n",
    "    pickle.dump(model,f)"
   ]
  },
  {
   "cell_type": "code",
   "execution_count": 59,
   "metadata": {},
   "outputs": [],
   "source": [
    "with open('category_model','rb') as f:\n",
    "    ml=pickle.load(f)"
   ]
  },
  {
   "cell_type": "code",
   "execution_count": 60,
   "metadata": {},
   "outputs": [
    {
     "data": {
      "text/plain": [
       "array(['Oracle'], dtype=object)"
      ]
     },
     "execution_count": 60,
     "metadata": {},
     "output_type": "execute_result"
    }
   ],
   "source": [
    "ml.predict(fitted_vectorizer.transform([\"\"\"Good morning,I have been locked out of my Right Now account\"\"\"]))"
   ]
  }
 ],
 "metadata": {
  "kernelspec": {
   "display_name": "Python 3",
   "language": "python",
   "name": "python3"
  },
  "language_info": {
   "codemirror_mode": {
    "name": "ipython",
    "version": 3
   },
   "file_extension": ".py",
   "mimetype": "text/x-python",
   "name": "python",
   "nbconvert_exporter": "python",
   "pygments_lexer": "ipython3",
   "version": "3.8.3"
  }
 },
 "nbformat": 4,
 "nbformat_minor": 4
}
