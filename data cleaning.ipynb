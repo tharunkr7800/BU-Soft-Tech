{
 "cells": [
  {
   "cell_type": "code",
   "execution_count": 1,
   "metadata": {},
   "outputs": [],
   "source": [
    "import pandas as pd\n",
    "import re as re\n",
    "import html"
   ]
  },
  {
   "cell_type": "code",
   "execution_count": 2,
   "metadata": {},
   "outputs": [],
   "source": [
    "data=pd.read_excel(\"C:\\\\Users\\\\tarun\\\\Downloads\\\\Sample Data\\\\Sample Data\\\\Threads.xlsx\")"
   ]
  },
  {
   "cell_type": "code",
   "execution_count": 3,
   "metadata": {},
   "outputs": [
    {
     "data": {
      "text/html": [
       "<div>\n",
       "<style scoped>\n",
       "    .dataframe tbody tr th:only-of-type {\n",
       "        vertical-align: middle;\n",
       "    }\n",
       "\n",
       "    .dataframe tbody tr th {\n",
       "        vertical-align: top;\n",
       "    }\n",
       "\n",
       "    .dataframe thead th {\n",
       "        text-align: right;\n",
       "    }\n",
       "</style>\n",
       "<table border=\"1\" class=\"dataframe\">\n",
       "  <thead>\n",
       "    <tr style=\"text-align: right;\">\n",
       "      <th></th>\n",
       "      <th>Threads</th>\n",
       "      <th>Unnamed: 1</th>\n",
       "      <th>Unnamed: 2</th>\n",
       "      <th>Unnamed: 3</th>\n",
       "      <th>Unnamed: 4</th>\n",
       "      <th>Unnamed: 5</th>\n",
       "      <th>Unnamed: 6</th>\n",
       "      <th>Unnamed: 7</th>\n",
       "      <th>Unnamed: 8</th>\n",
       "      <th>Unnamed: 9</th>\n",
       "      <th>Unnamed: 10</th>\n",
       "      <th>Unnamed: 11</th>\n",
       "    </tr>\n",
       "  </thead>\n",
       "  <tbody>\n",
       "    <tr>\n",
       "      <th>0</th>\n",
       "      <td>Foreign Key</td>\n",
       "      <td>Incident Thread ID</td>\n",
       "      <td>Account</td>\n",
       "      <td>Attributes</td>\n",
       "      <td>Date Created</td>\n",
       "      <td>Contact ID</td>\n",
       "      <td>Channel ID</td>\n",
       "      <td>Email Header</td>\n",
       "      <td>Sequence</td>\n",
       "      <td>SmartSense Indicator</td>\n",
       "      <td>Text</td>\n",
       "      <td>Thread Entry Type</td>\n",
       "    </tr>\n",
       "    <tr>\n",
       "      <th>1</th>\n",
       "      <td>2601</td>\n",
       "      <td>2773</td>\n",
       "      <td>No Value</td>\n",
       "      <td>No Value</td>\n",
       "      <td>04/10/2010 09:22</td>\n",
       "      <td>402</td>\n",
       "      <td>MA Email</td>\n",
       "      <td>No Value</td>\n",
       "      <td>1</td>\n",
       "      <td>0</td>\n",
       "      <td>\\n\\n==================== text File Attachment ...</td>\n",
       "      <td>Customer</td>\n",
       "    </tr>\n",
       "    <tr>\n",
       "      <th>2</th>\n",
       "      <td>2632</td>\n",
       "      <td>2809</td>\n",
       "      <td>No Value</td>\n",
       "      <td>No Value</td>\n",
       "      <td>05/11/2010 09:50</td>\n",
       "      <td>1983</td>\n",
       "      <td>CSS Web</td>\n",
       "      <td>No Value</td>\n",
       "      <td>1</td>\n",
       "      <td>5</td>\n",
       "      <td>Agents are experiencing an issue with Rightnow...</td>\n",
       "      <td>Customer</td>\n",
       "    </tr>\n",
       "    <tr>\n",
       "      <th>3</th>\n",
       "      <td>2601</td>\n",
       "      <td>2839</td>\n",
       "      <td>Stephen Pickett</td>\n",
       "      <td>No Value</td>\n",
       "      <td>11/01/2011 11:58</td>\n",
       "      <td>0</td>\n",
       "      <td>No Value</td>\n",
       "      <td>No Value</td>\n",
       "      <td>1</td>\n",
       "      <td>0</td>\n",
       "      <td>Ad, see the attachment.</td>\n",
       "      <td>Note</td>\n",
       "    </tr>\n",
       "    <tr>\n",
       "      <th>4</th>\n",
       "      <td>2655</td>\n",
       "      <td>2842</td>\n",
       "      <td>No Value</td>\n",
       "      <td>No Value</td>\n",
       "      <td>12/01/2011 10:36</td>\n",
       "      <td>1243</td>\n",
       "      <td>CSS Web</td>\n",
       "      <td>No Value</td>\n",
       "      <td>1</td>\n",
       "      <td>-2</td>\n",
       "      <td>the phone display states \\nNo service\\nTrying ...</td>\n",
       "      <td>Customer</td>\n",
       "    </tr>\n",
       "    <tr>\n",
       "      <th>5</th>\n",
       "      <td>2655</td>\n",
       "      <td>2843</td>\n",
       "      <td>Alan Cheng</td>\n",
       "      <td>No Value</td>\n",
       "      <td>12/01/2011 11:02</td>\n",
       "      <td>0</td>\n",
       "      <td>Email</td>\n",
       "      <td>No Value</td>\n",
       "      <td>1</td>\n",
       "      <td>-48</td>\n",
       "      <td>Had a look, appears to be a network port issue...</td>\n",
       "      <td>Staff Account</td>\n",
       "    </tr>\n",
       "    <tr>\n",
       "      <th>6</th>\n",
       "      <td>2666</td>\n",
       "      <td>2861</td>\n",
       "      <td>No Value</td>\n",
       "      <td>No Value</td>\n",
       "      <td>13/01/2011 23:21</td>\n",
       "      <td>2722</td>\n",
       "      <td>CSS Web</td>\n",
       "      <td>No Value</td>\n",
       "      <td>1</td>\n",
       "      <td>0</td>\n",
       "      <td>I have come into work this evening to find tha...</td>\n",
       "      <td>Customer</td>\n",
       "    </tr>\n",
       "    <tr>\n",
       "      <th>7</th>\n",
       "      <td>2666</td>\n",
       "      <td>2862</td>\n",
       "      <td>Stephen Pickett</td>\n",
       "      <td>No Value</td>\n",
       "      <td>13/01/2011 23:53</td>\n",
       "      <td>0</td>\n",
       "      <td>Email</td>\n",
       "      <td>No Value</td>\n",
       "      <td>1</td>\n",
       "      <td>14</td>\n",
       "      <td>Hi Paddy,\\n\\nI've called you a number of times...</td>\n",
       "      <td>Staff Account</td>\n",
       "    </tr>\n",
       "    <tr>\n",
       "      <th>8</th>\n",
       "      <td>2666</td>\n",
       "      <td>2863</td>\n",
       "      <td>No Value</td>\n",
       "      <td>No Value</td>\n",
       "      <td>13/01/2011 23:59</td>\n",
       "      <td>2722</td>\n",
       "      <td>CSS Email</td>\n",
       "      <td>No Value</td>\n",
       "      <td>1</td>\n",
       "      <td>14</td>\n",
       "      <td>Hi Steve, It’s all been sorted out with Alan’s...</td>\n",
       "      <td>Customer</td>\n",
       "    </tr>\n",
       "    <tr>\n",
       "      <th>9</th>\n",
       "      <td>2666</td>\n",
       "      <td>2864</td>\n",
       "      <td>Alan Cheng</td>\n",
       "      <td>No Value</td>\n",
       "      <td>14/01/2011 09:44</td>\n",
       "      <td>0</td>\n",
       "      <td>Email</td>\n",
       "      <td>No Value</td>\n",
       "      <td>1</td>\n",
       "      <td>0</td>\n",
       "      <td>I have talked Paddy through setting up Rightno...</td>\n",
       "      <td>Staff Account</td>\n",
       "    </tr>\n",
       "  </tbody>\n",
       "</table>\n",
       "</div>"
      ],
      "text/plain": [
       "       Threads          Unnamed: 1       Unnamed: 2  Unnamed: 3  \\\n",
       "0  Foreign Key  Incident Thread ID          Account  Attributes   \n",
       "1         2601                2773         No Value    No Value   \n",
       "2         2632                2809         No Value    No Value   \n",
       "3         2601                2839  Stephen Pickett    No Value   \n",
       "4         2655                2842         No Value    No Value   \n",
       "5         2655                2843       Alan Cheng    No Value   \n",
       "6         2666                2861         No Value    No Value   \n",
       "7         2666                2862  Stephen Pickett    No Value   \n",
       "8         2666                2863         No Value    No Value   \n",
       "9         2666                2864       Alan Cheng    No Value   \n",
       "\n",
       "         Unnamed: 4  Unnamed: 5  Unnamed: 6    Unnamed: 7 Unnamed: 8  \\\n",
       "0      Date Created  Contact ID  Channel ID  Email Header   Sequence   \n",
       "1  04/10/2010 09:22         402    MA Email      No Value          1   \n",
       "2  05/11/2010 09:50        1983     CSS Web      No Value          1   \n",
       "3  11/01/2011 11:58           0    No Value      No Value          1   \n",
       "4  12/01/2011 10:36        1243     CSS Web      No Value          1   \n",
       "5  12/01/2011 11:02           0       Email      No Value          1   \n",
       "6  13/01/2011 23:21        2722     CSS Web      No Value          1   \n",
       "7  13/01/2011 23:53           0       Email      No Value          1   \n",
       "8  13/01/2011 23:59        2722   CSS Email      No Value          1   \n",
       "9  14/01/2011 09:44           0       Email      No Value          1   \n",
       "\n",
       "             Unnamed: 9                                        Unnamed: 10  \\\n",
       "0  SmartSense Indicator                                               Text   \n",
       "1                     0  \\n\\n==================== text File Attachment ...   \n",
       "2                     5  Agents are experiencing an issue with Rightnow...   \n",
       "3                     0                            Ad, see the attachment.   \n",
       "4                    -2  the phone display states \\nNo service\\nTrying ...   \n",
       "5                   -48  Had a look, appears to be a network port issue...   \n",
       "6                     0  I have come into work this evening to find tha...   \n",
       "7                    14  Hi Paddy,\\n\\nI've called you a number of times...   \n",
       "8                    14  Hi Steve, It’s all been sorted out with Alan’s...   \n",
       "9                     0  I have talked Paddy through setting up Rightno...   \n",
       "\n",
       "         Unnamed: 11  \n",
       "0  Thread Entry Type  \n",
       "1           Customer  \n",
       "2           Customer  \n",
       "3               Note  \n",
       "4           Customer  \n",
       "5      Staff Account  \n",
       "6           Customer  \n",
       "7      Staff Account  \n",
       "8           Customer  \n",
       "9      Staff Account  "
      ]
     },
     "execution_count": 3,
     "metadata": {},
     "output_type": "execute_result"
    }
   ],
   "source": [
    "data.head(10)"
   ]
  },
  {
   "cell_type": "code",
   "execution_count": 4,
   "metadata": {},
   "outputs": [],
   "source": [
    "header_row=0\n",
    "data.columns = data.iloc[header_row]\n",
    "data=data.drop(header_row)"
   ]
  },
  {
   "cell_type": "code",
   "execution_count": 5,
   "metadata": {},
   "outputs": [
    {
     "data": {
      "text/html": [
       "<div>\n",
       "<style scoped>\n",
       "    .dataframe tbody tr th:only-of-type {\n",
       "        vertical-align: middle;\n",
       "    }\n",
       "\n",
       "    .dataframe tbody tr th {\n",
       "        vertical-align: top;\n",
       "    }\n",
       "\n",
       "    .dataframe thead th {\n",
       "        text-align: right;\n",
       "    }\n",
       "</style>\n",
       "<table border=\"1\" class=\"dataframe\">\n",
       "  <thead>\n",
       "    <tr style=\"text-align: right;\">\n",
       "      <th></th>\n",
       "      <th>Foreign Key</th>\n",
       "      <th>Incident Thread ID</th>\n",
       "      <th>Account</th>\n",
       "      <th>Attributes</th>\n",
       "      <th>Date Created</th>\n",
       "      <th>Contact ID</th>\n",
       "      <th>Channel ID</th>\n",
       "      <th>Email Header</th>\n",
       "      <th>Sequence</th>\n",
       "      <th>SmartSense Indicator</th>\n",
       "      <th>Text</th>\n",
       "      <th>Thread Entry Type</th>\n",
       "    </tr>\n",
       "  </thead>\n",
       "  <tbody>\n",
       "    <tr>\n",
       "      <th>1</th>\n",
       "      <td>2601</td>\n",
       "      <td>2773</td>\n",
       "      <td>No Value</td>\n",
       "      <td>No Value</td>\n",
       "      <td>04/10/2010 09:22</td>\n",
       "      <td>402</td>\n",
       "      <td>MA Email</td>\n",
       "      <td>No Value</td>\n",
       "      <td>1</td>\n",
       "      <td>0</td>\n",
       "      <td>\\n\\n==================== text File Attachment ...</td>\n",
       "      <td>Customer</td>\n",
       "    </tr>\n",
       "    <tr>\n",
       "      <th>2</th>\n",
       "      <td>2632</td>\n",
       "      <td>2809</td>\n",
       "      <td>No Value</td>\n",
       "      <td>No Value</td>\n",
       "      <td>05/11/2010 09:50</td>\n",
       "      <td>1983</td>\n",
       "      <td>CSS Web</td>\n",
       "      <td>No Value</td>\n",
       "      <td>1</td>\n",
       "      <td>5</td>\n",
       "      <td>Agents are experiencing an issue with Rightnow...</td>\n",
       "      <td>Customer</td>\n",
       "    </tr>\n",
       "  </tbody>\n",
       "</table>\n",
       "</div>"
      ],
      "text/plain": [
       "0 Foreign Key Incident Thread ID   Account Attributes      Date Created  \\\n",
       "1        2601               2773  No Value   No Value  04/10/2010 09:22   \n",
       "2        2632               2809  No Value   No Value  05/11/2010 09:50   \n",
       "\n",
       "0 Contact ID Channel ID Email Header Sequence SmartSense Indicator  \\\n",
       "1        402   MA Email     No Value        1                    0   \n",
       "2       1983    CSS Web     No Value        1                    5   \n",
       "\n",
       "0                                               Text Thread Entry Type  \n",
       "1  \\n\\n==================== text File Attachment ...          Customer  \n",
       "2  Agents are experiencing an issue with Rightnow...          Customer  "
      ]
     },
     "execution_count": 5,
     "metadata": {},
     "output_type": "execute_result"
    }
   ],
   "source": [
    "data.head(2)"
   ]
  },
  {
   "cell_type": "code",
   "execution_count": 6,
   "metadata": {},
   "outputs": [
    {
     "name": "stdout",
     "output_type": "stream",
     "text": [
      "1         \\n\\n==================== text File Attachment ...\n",
      "2         Agents are experiencing an issue with Rightnow...\n",
      "3                                   Ad, see the attachment.\n",
      "4         the phone display states \\nNo service\\nTrying ...\n",
      "5         Had a look, appears to be a network port issue...\n",
      "                                ...                        \n",
      "99996     Hi, \\n\\nThanks for this, I need a figure where...\n",
      "99997     Hello, \\n\\nPlease can I request Shaw Healthcar...\n",
      "99998     <div>\\n<div><span>Hi Dem,</span></div>\\n<div><...\n",
      "99999     Hi Kayleigh,\\n\\nUnfortunately, we're unable to...\n",
      "100000    <div>Dear Francine,<br />\\n<br />\\nWe are stil...\n",
      "Name: Text, Length: 100000, dtype: object\n"
     ]
    }
   ],
   "source": [
    "print(data[\"Text\"])"
   ]
  },
  {
   "cell_type": "code",
   "execution_count": 7,
   "metadata": {},
   "outputs": [],
   "source": [
    "def remove_tags(string):\n",
    "    result = re.sub('<.*?>','',string)\n",
    "    return result"
   ]
  },
  {
   "cell_type": "code",
   "execution_count": 8,
   "metadata": {},
   "outputs": [],
   "source": [
    "data[\"Text\"]=data[\"Text\"].apply(lambda cw: remove_tags(cw))"
   ]
  },
  {
   "cell_type": "code",
   "execution_count": 9,
   "metadata": {},
   "outputs": [
    {
     "name": "stdout",
     "output_type": "stream",
     "text": [
      "1         \\n\\n==================== text File Attachment ...\n",
      "2         Agents are experiencing an issue with Rightnow...\n",
      "3                                   Ad, see the attachment.\n",
      "4         the phone display states \\nNo service\\nTrying ...\n",
      "5         Had a look, appears to be a network port issue...\n",
      "                                ...                        \n",
      "99996     Hi, \\n\\nThanks for this, I need a figure where...\n",
      "99997     Hello, \\n\\nPlease can I request Shaw Healthcar...\n",
      "99998     \\nHi Dem,\\n&nbsp;\\nThat&#39;s been done for yo...\n",
      "99999     Hi Kayleigh,\\n\\nUnfortunately, we're unable to...\n",
      "100000    Dear Francine,\\n\\nWe are still awaiting an upd...\n",
      "Name: Text, Length: 100000, dtype: object\n"
     ]
    }
   ],
   "source": [
    "print(data[\"Text\"])"
   ]
  },
  {
   "cell_type": "code",
   "execution_count": 10,
   "metadata": {},
   "outputs": [],
   "source": [
    "data['Text']=data['Text'].str.replace('\\n','').str.replace('=','')"
   ]
  },
  {
   "cell_type": "code",
   "execution_count": 11,
   "metadata": {},
   "outputs": [
    {
     "name": "stdout",
     "output_type": "stream",
     "text": [
      "1          text File Attachment Attachment 1.txt, 6224 b...\n",
      "2         Agents are experiencing an issue with Rightnow...\n",
      "3                                   Ad, see the attachment.\n",
      "4         the phone display states No serviceTrying 10.1...\n",
      "5         Had a look, appears to be a network port issue...\n",
      "                                ...                        \n",
      "99996     Hi, Thanks for this, I need a figure where it ...\n",
      "99997     Hello, Please can I request Shaw Healthcare ac...\n",
      "99998     Hi Dem,&nbsp;That&#39;s been done for you and ...\n",
      "99999     Hi Kayleigh,Unfortunately, we're unable to hel...\n",
      "100000    Dear Francine,We are still awaiting an update ...\n",
      "Name: Text, Length: 100000, dtype: object\n"
     ]
    }
   ],
   "source": [
    "print(data[\"Text\"])"
   ]
  },
  {
   "cell_type": "code",
   "execution_count": 12,
   "metadata": {},
   "outputs": [
    {
     "name": "stdout",
     "output_type": "stream",
     "text": [
      "Hi Dem,&nbsp;That&#39;s been done for you and the details are;&nbsp;Username - laura.landeg.&nbsp;Password - Password12345&nbsp;Please have her reset her password ASAP.&nbsp;I believe that your issue is now resolved so am therefore closing this incident. If you feel that the resolution does not meet your requirements, or if you have any further related issues, please reply to this message and it will re-open the incident. If you have any other issues that you would like assistance with please create a new incident and we will assist.Shortly after this incident is closed you will also receive an e-mail asking you to complete a satisfaction survey. This survey will take less than a minute to complete and your feedback helps me gauge how well I am performing and I would appreciate it if you could take the time to complete the survey.Kind Regards,Tim PorchSupport Engineer/Peiriannydd CymorthT: 0330 333 0814&nbsp;\n"
     ]
    }
   ],
   "source": [
    "print(data[\"Text\"][99998])"
   ]
  },
  {
   "cell_type": "code",
   "execution_count": 13,
   "metadata": {},
   "outputs": [],
   "source": [
    "def decode_text(string):\n",
    "    result = html.unescape(string)\n",
    "    return result"
   ]
  },
  {
   "cell_type": "code",
   "execution_count": 14,
   "metadata": {},
   "outputs": [],
   "source": [
    "#convert the ascii string into html script by replacing ascii characters with special characters\n",
    "data[\"Text\"]=data[\"Text\"].apply(lambda cw: decode_text(cw))"
   ]
  },
  {
   "cell_type": "code",
   "execution_count": 15,
   "metadata": {},
   "outputs": [
    {
     "name": "stdout",
     "output_type": "stream",
     "text": [
      "Hi Dem, That's been done for you and the details are; Username - laura.landeg. Password - Password12345 Please have her reset her password ASAP. I believe that your issue is now resolved so am therefore closing this incident. If you feel that the resolution does not meet your requirements, or if you have any further related issues, please reply to this message and it will re-open the incident. If you have any other issues that you would like assistance with please create a new incident and we will assist.Shortly after this incident is closed you will also receive an e-mail asking you to complete a satisfaction survey. This survey will take less than a minute to complete and your feedback helps me gauge how well I am performing and I would appreciate it if you could take the time to complete the survey.Kind Regards,Tim PorchSupport Engineer/Peiriannydd CymorthT: 0330 333 0814 \n"
     ]
    }
   ],
   "source": [
    "print(data[\"Text\"][99998])"
   ]
  },
  {
   "cell_type": "code",
   "execution_count": 16,
   "metadata": {},
   "outputs": [],
   "source": [
    "#removing urls\n",
    "data['Text'] = data['Text'].replace(r'https?:\\/\\/.\\S+', '', regex=True).replace(r'www\\S+', '', regex=True)"
   ]
  },
  {
   "cell_type": "code",
   "execution_count": 17,
   "metadata": {},
   "outputs": [],
   "source": [
    "#converting uppercase letters into smaller letters\n",
    "data[\"Text\"]=data[\"Text\"].str.lower()"
   ]
  },
  {
   "cell_type": "code",
   "execution_count": 18,
   "metadata": {},
   "outputs": [
    {
     "name": "stdout",
     "output_type": "stream",
     "text": [
      "1          text file attachment attachment 1.txt, 6224 b...\n",
      "2         agents are experiencing an issue with rightnow...\n",
      "3                                   ad, see the attachment.\n",
      "4         the phone display states no servicetrying 10.1...\n",
      "5         had a look, appears to be a network port issue...\n",
      "                                ...                        \n",
      "99996     hi, thanks for this, i need a figure where it ...\n",
      "99997     hello, please can i request shaw healthcare ac...\n",
      "99998     hi dem, that's been done for you and the detai...\n",
      "99999     hi kayleigh,unfortunately, we're unable to hel...\n",
      "100000    dear francine,we are still awaiting an update ...\n",
      "Name: Text, Length: 100000, dtype: object\n"
     ]
    }
   ],
   "source": [
    "print(data[\"Text\"])"
   ]
  },
  {
   "cell_type": "code",
   "execution_count": 19,
   "metadata": {},
   "outputs": [],
   "source": [
    "Apos_dict={\"'s\":\" is\",\"n't\":\" not\",\"'m\":\" am\",\"'ll\":\" will\",\"'d\":\" would\",\"'ve\":\" have\",\"'re\":\" are\"}\n",
    "def contraction_text(string):\n",
    "    for key,value in Apos_dict.items():\n",
    "        if key in string:\n",
    "            result=string.replace(key,value)\n",
    "            return result\n",
    "        else:\n",
    "            return string"
   ]
  },
  {
   "cell_type": "code",
   "execution_count": 20,
   "metadata": {},
   "outputs": [],
   "source": [
    "#replacing Contraction Replacement\n",
    "data[\"Text\"]=data[\"Text\"].apply(lambda cw: contraction_text(cw))"
   ]
  },
  {
   "cell_type": "code",
   "execution_count": 21,
   "metadata": {},
   "outputs": [
    {
     "name": "stdout",
     "output_type": "stream",
     "text": [
      "1          text file attachment attachment 1.txt, 6224 b...\n",
      "2         agents are experiencing an issue with rightnow...\n",
      "3                                   ad, see the attachment.\n",
      "4         the phone display states no servicetrying 10.1...\n",
      "5         had a look, appears to be a network port issue...\n",
      "                                ...                        \n",
      "99996     hi, thanks for this, i need a figure where it ...\n",
      "99997     hello, please can i request shaw healthcare ac...\n",
      "99998     hi dem, that is been done for you and the deta...\n",
      "99999     hi kayleigh,unfortunately, we're unable to hel...\n",
      "100000    dear francine,we are still awaiting an update ...\n",
      "Name: Text, Length: 100000, dtype: object\n"
     ]
    }
   ],
   "source": [
    "print(data[\"Text\"])"
   ]
  },
  {
   "cell_type": "code",
   "execution_count": 22,
   "metadata": {},
   "outputs": [],
   "source": [
    "def space_text(string):\n",
    "    result=string.strip()\n",
    "    return result"
   ]
  },
  {
   "cell_type": "code",
   "execution_count": 23,
   "metadata": {},
   "outputs": [],
   "source": [
    "#remove spaces starting and ending\n",
    "data[\"Text\"]=data[\"Text\"].apply(lambda cw: space_text(cw))"
   ]
  },
  {
   "cell_type": "code",
   "execution_count": 24,
   "metadata": {},
   "outputs": [
    {
     "name": "stdout",
     "output_type": "stream",
     "text": [
      "1         text file attachment attachment 1.txt, 6224 by...\n",
      "2         agents are experiencing an issue with rightnow...\n",
      "3                                   ad, see the attachment.\n",
      "4         the phone display states no servicetrying 10.1...\n",
      "5         had a look, appears to be a network port issue...\n",
      "                                ...                        \n",
      "99996     hi, thanks for this, i need a figure where it ...\n",
      "99997     hello, please can i request shaw healthcare ac...\n",
      "99998     hi dem, that is been done for you and the deta...\n",
      "99999     hi kayleigh,unfortunately, we're unable to hel...\n",
      "100000    dear francine,we are still awaiting an update ...\n",
      "Name: Text, Length: 100000, dtype: object\n"
     ]
    }
   ],
   "source": [
    "print(data[\"Text\"])"
   ]
  },
  {
   "cell_type": "code",
   "execution_count": 25,
   "metadata": {},
   "outputs": [],
   "source": [
    "def punction_text(string):\n",
    "    result = re.sub(r'[^\\w\\s]', '', string)\n",
    "    return result"
   ]
  },
  {
   "cell_type": "code",
   "execution_count": 26,
   "metadata": {},
   "outputs": [],
   "source": [
    "#removing punctions\n",
    "data[\"Text\"]=data[\"Text\"].apply(lambda cw: punction_text(cw))"
   ]
  },
  {
   "cell_type": "code",
   "execution_count": 27,
   "metadata": {},
   "outputs": [
    {
     "name": "stdout",
     "output_type": "stream",
     "text": [
      "hi dem that is been done for you and the details are username  lauralandeg password  password12345 please have her reset her password asap i believe that your issue is now resolved so am therefore closing this incident if you feel that the resolution does not meet your requirements or if you have any further related issues please reply to this message and it will reopen the incident if you have any other issues that you would like assistance with please create a new incident and we will assistshortly after this incident is closed you will also receive an email asking you to complete a satisfaction survey this survey will take less than a minute to complete and your feedback helps me gauge how well i am performing and i would appreciate it if you could take the time to complete the surveykind regardstim porchsupport engineerpeiriannydd cymortht 0330 333 0814\n"
     ]
    }
   ],
   "source": [
    "print(data[\"Text\"][99998])"
   ]
  },
  {
   "cell_type": "code",
   "execution_count": 28,
   "metadata": {},
   "outputs": [
    {
     "data": {
      "text/html": [
       "<div>\n",
       "<style scoped>\n",
       "    .dataframe tbody tr th:only-of-type {\n",
       "        vertical-align: middle;\n",
       "    }\n",
       "\n",
       "    .dataframe tbody tr th {\n",
       "        vertical-align: top;\n",
       "    }\n",
       "\n",
       "    .dataframe thead th {\n",
       "        text-align: right;\n",
       "    }\n",
       "</style>\n",
       "<table border=\"1\" class=\"dataframe\">\n",
       "  <thead>\n",
       "    <tr style=\"text-align: right;\">\n",
       "      <th></th>\n",
       "      <th>Foreign Key</th>\n",
       "      <th>Incident Thread ID</th>\n",
       "      <th>Account</th>\n",
       "      <th>Attributes</th>\n",
       "      <th>Date Created</th>\n",
       "      <th>Contact ID</th>\n",
       "      <th>Channel ID</th>\n",
       "      <th>Email Header</th>\n",
       "      <th>Sequence</th>\n",
       "      <th>SmartSense Indicator</th>\n",
       "      <th>Text</th>\n",
       "      <th>Thread Entry Type</th>\n",
       "    </tr>\n",
       "  </thead>\n",
       "  <tbody>\n",
       "    <tr>\n",
       "      <th>1</th>\n",
       "      <td>2601</td>\n",
       "      <td>2773</td>\n",
       "      <td>No Value</td>\n",
       "      <td>No Value</td>\n",
       "      <td>04/10/2010 09:22</td>\n",
       "      <td>402</td>\n",
       "      <td>MA Email</td>\n",
       "      <td>No Value</td>\n",
       "      <td>1</td>\n",
       "      <td>0</td>\n",
       "      <td>text file attachment attachment 1txt 6224 byte...</td>\n",
       "      <td>Customer</td>\n",
       "    </tr>\n",
       "    <tr>\n",
       "      <th>2</th>\n",
       "      <td>2632</td>\n",
       "      <td>2809</td>\n",
       "      <td>No Value</td>\n",
       "      <td>No Value</td>\n",
       "      <td>05/11/2010 09:50</td>\n",
       "      <td>1983</td>\n",
       "      <td>CSS Web</td>\n",
       "      <td>No Value</td>\n",
       "      <td>1</td>\n",
       "      <td>5</td>\n",
       "      <td>agents are experiencing an issue with rightnow...</td>\n",
       "      <td>Customer</td>\n",
       "    </tr>\n",
       "    <tr>\n",
       "      <th>3</th>\n",
       "      <td>2601</td>\n",
       "      <td>2839</td>\n",
       "      <td>Stephen Pickett</td>\n",
       "      <td>No Value</td>\n",
       "      <td>11/01/2011 11:58</td>\n",
       "      <td>0</td>\n",
       "      <td>No Value</td>\n",
       "      <td>No Value</td>\n",
       "      <td>1</td>\n",
       "      <td>0</td>\n",
       "      <td>ad see the attachment</td>\n",
       "      <td>Note</td>\n",
       "    </tr>\n",
       "    <tr>\n",
       "      <th>4</th>\n",
       "      <td>2655</td>\n",
       "      <td>2842</td>\n",
       "      <td>No Value</td>\n",
       "      <td>No Value</td>\n",
       "      <td>12/01/2011 10:36</td>\n",
       "      <td>1243</td>\n",
       "      <td>CSS Web</td>\n",
       "      <td>No Value</td>\n",
       "      <td>1</td>\n",
       "      <td>-2</td>\n",
       "      <td>the phone display states no servicetrying 1012...</td>\n",
       "      <td>Customer</td>\n",
       "    </tr>\n",
       "    <tr>\n",
       "      <th>5</th>\n",
       "      <td>2655</td>\n",
       "      <td>2843</td>\n",
       "      <td>Alan Cheng</td>\n",
       "      <td>No Value</td>\n",
       "      <td>12/01/2011 11:02</td>\n",
       "      <td>0</td>\n",
       "      <td>Email</td>\n",
       "      <td>No Value</td>\n",
       "      <td>1</td>\n",
       "      <td>-48</td>\n",
       "      <td>had a look appears to be a network port issue ...</td>\n",
       "      <td>Staff Account</td>\n",
       "    </tr>\n",
       "  </tbody>\n",
       "</table>\n",
       "</div>"
      ],
      "text/plain": [
       "0 Foreign Key Incident Thread ID          Account Attributes  \\\n",
       "1        2601               2773         No Value   No Value   \n",
       "2        2632               2809         No Value   No Value   \n",
       "3        2601               2839  Stephen Pickett   No Value   \n",
       "4        2655               2842         No Value   No Value   \n",
       "5        2655               2843       Alan Cheng   No Value   \n",
       "\n",
       "0      Date Created Contact ID Channel ID Email Header Sequence  \\\n",
       "1  04/10/2010 09:22        402   MA Email     No Value        1   \n",
       "2  05/11/2010 09:50       1983    CSS Web     No Value        1   \n",
       "3  11/01/2011 11:58          0   No Value     No Value        1   \n",
       "4  12/01/2011 10:36       1243    CSS Web     No Value        1   \n",
       "5  12/01/2011 11:02          0      Email     No Value        1   \n",
       "\n",
       "0 SmartSense Indicator                                               Text  \\\n",
       "1                    0  text file attachment attachment 1txt 6224 byte...   \n",
       "2                    5  agents are experiencing an issue with rightnow...   \n",
       "3                    0                              ad see the attachment   \n",
       "4                   -2  the phone display states no servicetrying 1012...   \n",
       "5                  -48  had a look appears to be a network port issue ...   \n",
       "\n",
       "0 Thread Entry Type  \n",
       "1          Customer  \n",
       "2          Customer  \n",
       "3              Note  \n",
       "4          Customer  \n",
       "5     Staff Account  "
      ]
     },
     "execution_count": 28,
     "metadata": {},
     "output_type": "execute_result"
    }
   ],
   "source": [
    "data.head()"
   ]
  },
  {
   "cell_type": "code",
   "execution_count": null,
   "metadata": {},
   "outputs": [],
   "source": []
  }
 ],
 "metadata": {
  "kernelspec": {
   "display_name": "Python 3",
   "language": "python",
   "name": "python3"
  },
  "language_info": {
   "codemirror_mode": {
    "name": "ipython",
    "version": 3
   },
   "file_extension": ".py",
   "mimetype": "text/x-python",
   "name": "python",
   "nbconvert_exporter": "python",
   "pygments_lexer": "ipython3",
   "version": "3.8.3"
  }
 },
 "nbformat": 4,
 "nbformat_minor": 4
}
