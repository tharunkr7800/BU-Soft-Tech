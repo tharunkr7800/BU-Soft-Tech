{
 "cells": [
  {
   "cell_type": "code",
   "execution_count": 1,
   "metadata": {},
   "outputs": [],
   "source": [
    "import pandas as pd\n",
    "import re as re\n",
    "import html\n",
    "from textblob import TextBlob"
   ]
  },
  {
   "cell_type": "code",
   "execution_count": 2,
   "metadata": {},
   "outputs": [],
   "source": [
    "thread_df=pd.read_excel(\"C:\\\\Users\\\\tarun\\\\Downloads\\\\Sample Data\\\\Sample Data\\\\Threads.xlsx\")"
   ]
  },
  {
   "cell_type": "code",
   "execution_count": 3,
   "metadata": {},
   "outputs": [],
   "source": [
    "incident_df=pd.read_excel(\"C:\\\\Users\\\\tarun\\\\Downloads\\\\Sample Data\\\\Sample Data\\\\Incidents.xlsx\")"
   ]
  },
  {
   "cell_type": "code",
   "execution_count": 4,
   "metadata": {},
   "outputs": [
    {
     "data": {
      "text/plain": [
       "(100001, 12)"
      ]
     },
     "execution_count": 4,
     "metadata": {},
     "output_type": "execute_result"
    }
   ],
   "source": [
    "thread_df.shape"
   ]
  },
  {
   "cell_type": "code",
   "execution_count": 5,
   "metadata": {},
   "outputs": [
    {
     "data": {
      "text/plain": [
       "(19409, 13)"
      ]
     },
     "execution_count": 5,
     "metadata": {},
     "output_type": "execute_result"
    }
   ],
   "source": [
    "incident_df.shape"
   ]
  },
  {
   "cell_type": "code",
   "execution_count": 6,
   "metadata": {},
   "outputs": [
    {
     "data": {
      "text/html": [
       "<div>\n",
       "<style scoped>\n",
       "    .dataframe tbody tr th:only-of-type {\n",
       "        vertical-align: middle;\n",
       "    }\n",
       "\n",
       "    .dataframe tbody tr th {\n",
       "        vertical-align: top;\n",
       "    }\n",
       "\n",
       "    .dataframe thead th {\n",
       "        text-align: right;\n",
       "    }\n",
       "</style>\n",
       "<table border=\"1\" class=\"dataframe\">\n",
       "  <thead>\n",
       "    <tr style=\"text-align: right;\">\n",
       "      <th></th>\n",
       "      <th>Threads</th>\n",
       "      <th>Unnamed: 1</th>\n",
       "      <th>Unnamed: 2</th>\n",
       "      <th>Unnamed: 3</th>\n",
       "      <th>Unnamed: 4</th>\n",
       "      <th>Unnamed: 5</th>\n",
       "      <th>Unnamed: 6</th>\n",
       "      <th>Unnamed: 7</th>\n",
       "      <th>Unnamed: 8</th>\n",
       "      <th>Unnamed: 9</th>\n",
       "      <th>Unnamed: 10</th>\n",
       "      <th>Unnamed: 11</th>\n",
       "    </tr>\n",
       "  </thead>\n",
       "  <tbody>\n",
       "    <tr>\n",
       "      <th>0</th>\n",
       "      <td>Foreign Key</td>\n",
       "      <td>Incident Thread ID</td>\n",
       "      <td>Account</td>\n",
       "      <td>Attributes</td>\n",
       "      <td>Date Created</td>\n",
       "      <td>Contact ID</td>\n",
       "      <td>Channel ID</td>\n",
       "      <td>Email Header</td>\n",
       "      <td>Sequence</td>\n",
       "      <td>SmartSense Indicator</td>\n",
       "      <td>Text</td>\n",
       "      <td>Thread Entry Type</td>\n",
       "    </tr>\n",
       "    <tr>\n",
       "      <th>1</th>\n",
       "      <td>2601</td>\n",
       "      <td>2773</td>\n",
       "      <td>No Value</td>\n",
       "      <td>No Value</td>\n",
       "      <td>04/10/2010 09:22</td>\n",
       "      <td>402</td>\n",
       "      <td>MA Email</td>\n",
       "      <td>No Value</td>\n",
       "      <td>1</td>\n",
       "      <td>0</td>\n",
       "      <td>\\n\\n==================== text File Attachment ...</td>\n",
       "      <td>Customer</td>\n",
       "    </tr>\n",
       "    <tr>\n",
       "      <th>2</th>\n",
       "      <td>2632</td>\n",
       "      <td>2809</td>\n",
       "      <td>No Value</td>\n",
       "      <td>No Value</td>\n",
       "      <td>05/11/2010 09:50</td>\n",
       "      <td>1983</td>\n",
       "      <td>CSS Web</td>\n",
       "      <td>No Value</td>\n",
       "      <td>1</td>\n",
       "      <td>5</td>\n",
       "      <td>Agents are experiencing an issue with Rightnow...</td>\n",
       "      <td>Customer</td>\n",
       "    </tr>\n",
       "    <tr>\n",
       "      <th>3</th>\n",
       "      <td>2601</td>\n",
       "      <td>2839</td>\n",
       "      <td>Stephen Pickett</td>\n",
       "      <td>No Value</td>\n",
       "      <td>11/01/2011 11:58</td>\n",
       "      <td>0</td>\n",
       "      <td>No Value</td>\n",
       "      <td>No Value</td>\n",
       "      <td>1</td>\n",
       "      <td>0</td>\n",
       "      <td>Ad, see the attachment.</td>\n",
       "      <td>Note</td>\n",
       "    </tr>\n",
       "    <tr>\n",
       "      <th>4</th>\n",
       "      <td>2655</td>\n",
       "      <td>2842</td>\n",
       "      <td>No Value</td>\n",
       "      <td>No Value</td>\n",
       "      <td>12/01/2011 10:36</td>\n",
       "      <td>1243</td>\n",
       "      <td>CSS Web</td>\n",
       "      <td>No Value</td>\n",
       "      <td>1</td>\n",
       "      <td>-2</td>\n",
       "      <td>the phone display states \\nNo service\\nTrying ...</td>\n",
       "      <td>Customer</td>\n",
       "    </tr>\n",
       "  </tbody>\n",
       "</table>\n",
       "</div>"
      ],
      "text/plain": [
       "       Threads          Unnamed: 1       Unnamed: 2  Unnamed: 3  \\\n",
       "0  Foreign Key  Incident Thread ID          Account  Attributes   \n",
       "1         2601                2773         No Value    No Value   \n",
       "2         2632                2809         No Value    No Value   \n",
       "3         2601                2839  Stephen Pickett    No Value   \n",
       "4         2655                2842         No Value    No Value   \n",
       "\n",
       "         Unnamed: 4  Unnamed: 5  Unnamed: 6    Unnamed: 7 Unnamed: 8  \\\n",
       "0      Date Created  Contact ID  Channel ID  Email Header   Sequence   \n",
       "1  04/10/2010 09:22         402    MA Email      No Value          1   \n",
       "2  05/11/2010 09:50        1983     CSS Web      No Value          1   \n",
       "3  11/01/2011 11:58           0    No Value      No Value          1   \n",
       "4  12/01/2011 10:36        1243     CSS Web      No Value          1   \n",
       "\n",
       "             Unnamed: 9                                        Unnamed: 10  \\\n",
       "0  SmartSense Indicator                                               Text   \n",
       "1                     0  \\n\\n==================== text File Attachment ...   \n",
       "2                     5  Agents are experiencing an issue with Rightnow...   \n",
       "3                     0                            Ad, see the attachment.   \n",
       "4                    -2  the phone display states \\nNo service\\nTrying ...   \n",
       "\n",
       "         Unnamed: 11  \n",
       "0  Thread Entry Type  \n",
       "1           Customer  \n",
       "2           Customer  \n",
       "3               Note  \n",
       "4           Customer  "
      ]
     },
     "execution_count": 6,
     "metadata": {},
     "output_type": "execute_result"
    }
   ],
   "source": [
    "thread_df.head()"
   ]
  },
  {
   "cell_type": "code",
   "execution_count": 7,
   "metadata": {},
   "outputs": [
    {
     "data": {
      "text/html": [
       "<div>\n",
       "<style scoped>\n",
       "    .dataframe tbody tr th:only-of-type {\n",
       "        vertical-align: middle;\n",
       "    }\n",
       "\n",
       "    .dataframe tbody tr th {\n",
       "        vertical-align: top;\n",
       "    }\n",
       "\n",
       "    .dataframe thead th {\n",
       "        text-align: right;\n",
       "    }\n",
       "</style>\n",
       "<table border=\"1\" class=\"dataframe\">\n",
       "  <thead>\n",
       "    <tr style=\"text-align: right;\">\n",
       "      <th></th>\n",
       "      <th>Incidents</th>\n",
       "      <th>Unnamed: 1</th>\n",
       "      <th>Unnamed: 2</th>\n",
       "      <th>Unnamed: 3</th>\n",
       "      <th>Unnamed: 4</th>\n",
       "      <th>Unnamed: 5</th>\n",
       "      <th>Unnamed: 6</th>\n",
       "      <th>Unnamed: 7</th>\n",
       "      <th>Unnamed: 8</th>\n",
       "      <th>Unnamed: 9</th>\n",
       "      <th>Unnamed: 10</th>\n",
       "      <th>Unnamed: 11</th>\n",
       "      <th>Unnamed: 12</th>\n",
       "    </tr>\n",
       "  </thead>\n",
       "  <tbody>\n",
       "    <tr>\n",
       "      <th>0</th>\n",
       "      <td>Reference #</td>\n",
       "      <td>Incident ID</td>\n",
       "      <td>Assigned Account</td>\n",
       "      <td>Severity</td>\n",
       "      <td>Status</td>\n",
       "      <td>Status Type</td>\n",
       "      <td>Subject</td>\n",
       "      <td>Product ID</td>\n",
       "      <td>Organisation ID</td>\n",
       "      <td>Date Closed</td>\n",
       "      <td>Date Created</td>\n",
       "      <td>Contact ID</td>\n",
       "      <td>Category ID</td>\n",
       "    </tr>\n",
       "    <tr>\n",
       "      <th>1</th>\n",
       "      <td>100825-000001</td>\n",
       "      <td>2554</td>\n",
       "      <td>Stephen Pickett</td>\n",
       "      <td>No Value</td>\n",
       "      <td>Solved</td>\n",
       "      <td>Solved</td>\n",
       "      <td>A4e Professional Services work</td>\n",
       "      <td>No Value</td>\n",
       "      <td>1</td>\n",
       "      <td>25/08/2010 12:00</td>\n",
       "      <td>25/08/2010 12:00</td>\n",
       "      <td>573</td>\n",
       "      <td>No Value</td>\n",
       "    </tr>\n",
       "    <tr>\n",
       "      <th>2</th>\n",
       "      <td>101004-000000</td>\n",
       "      <td>2601</td>\n",
       "      <td>Adam Wilkinson</td>\n",
       "      <td>No Value</td>\n",
       "      <td>Solved</td>\n",
       "      <td>Solved</td>\n",
       "      <td>Measuring effectiveness increases effectiveness</td>\n",
       "      <td>No Value</td>\n",
       "      <td>29</td>\n",
       "      <td>11/01/2011 12:07</td>\n",
       "      <td>04/10/2010 09:22</td>\n",
       "      <td>402</td>\n",
       "      <td>No Value</td>\n",
       "    </tr>\n",
       "    <tr>\n",
       "      <th>3</th>\n",
       "      <td>101102-000000</td>\n",
       "      <td>2619</td>\n",
       "      <td>Stephen Pickett</td>\n",
       "      <td>No Value</td>\n",
       "      <td>Solved</td>\n",
       "      <td>Solved</td>\n",
       "      <td>Infoco Answer Export Tool</td>\n",
       "      <td>RightNow</td>\n",
       "      <td>560</td>\n",
       "      <td>02/11/2010 12:05</td>\n",
       "      <td>02/11/2010 12:05</td>\n",
       "      <td>2157</td>\n",
       "      <td>No Value</td>\n",
       "    </tr>\n",
       "    <tr>\n",
       "      <th>4</th>\n",
       "      <td>101102-000001</td>\n",
       "      <td>2620</td>\n",
       "      <td>Chris Farmer</td>\n",
       "      <td>Medium</td>\n",
       "      <td>Solved</td>\n",
       "      <td>Solved</td>\n",
       "      <td>THA: The Family Information Direct/Helplines S...</td>\n",
       "      <td>No Value</td>\n",
       "      <td>562</td>\n",
       "      <td>24/02/2011 13:56</td>\n",
       "      <td>02/11/2010 12:46</td>\n",
       "      <td>2144</td>\n",
       "      <td>No Value</td>\n",
       "    </tr>\n",
       "  </tbody>\n",
       "</table>\n",
       "</div>"
      ],
      "text/plain": [
       "       Incidents   Unnamed: 1        Unnamed: 2 Unnamed: 3 Unnamed: 4  \\\n",
       "0    Reference #  Incident ID  Assigned Account   Severity     Status   \n",
       "1  100825-000001         2554   Stephen Pickett   No Value     Solved   \n",
       "2  101004-000000         2601    Adam Wilkinson   No Value     Solved   \n",
       "3  101102-000000         2619   Stephen Pickett   No Value     Solved   \n",
       "4  101102-000001         2620      Chris Farmer     Medium     Solved   \n",
       "\n",
       "    Unnamed: 5                                         Unnamed: 6  Unnamed: 7  \\\n",
       "0  Status Type                                            Subject  Product ID   \n",
       "1       Solved                     A4e Professional Services work    No Value   \n",
       "2       Solved    Measuring effectiveness increases effectiveness    No Value   \n",
       "3       Solved                          Infoco Answer Export Tool    RightNow   \n",
       "4       Solved  THA: The Family Information Direct/Helplines S...    No Value   \n",
       "\n",
       "        Unnamed: 8        Unnamed: 9       Unnamed: 10 Unnamed: 11  \\\n",
       "0  Organisation ID       Date Closed      Date Created  Contact ID   \n",
       "1                1  25/08/2010 12:00  25/08/2010 12:00         573   \n",
       "2               29  11/01/2011 12:07  04/10/2010 09:22         402   \n",
       "3              560  02/11/2010 12:05  02/11/2010 12:05        2157   \n",
       "4              562  24/02/2011 13:56  02/11/2010 12:46        2144   \n",
       "\n",
       "   Unnamed: 12  \n",
       "0  Category ID  \n",
       "1     No Value  \n",
       "2     No Value  \n",
       "3     No Value  \n",
       "4     No Value  "
      ]
     },
     "execution_count": 7,
     "metadata": {},
     "output_type": "execute_result"
    }
   ],
   "source": [
    "incident_df.head()"
   ]
  },
  {
   "cell_type": "code",
   "execution_count": 8,
   "metadata": {},
   "outputs": [],
   "source": [
    "header_row=0\n",
    "thread_df.columns = thread_df.iloc[header_row]\n",
    "incident_df.columns = incident_df.iloc[header_row]\n",
    "thread_df=thread_df.drop(header_row)\n",
    "incident_df=incident_df.drop(header_row)"
   ]
  },
  {
   "cell_type": "code",
   "execution_count": 9,
   "metadata": {},
   "outputs": [
    {
     "data": {
      "text/html": [
       "<div>\n",
       "<style scoped>\n",
       "    .dataframe tbody tr th:only-of-type {\n",
       "        vertical-align: middle;\n",
       "    }\n",
       "\n",
       "    .dataframe tbody tr th {\n",
       "        vertical-align: top;\n",
       "    }\n",
       "\n",
       "    .dataframe thead th {\n",
       "        text-align: right;\n",
       "    }\n",
       "</style>\n",
       "<table border=\"1\" class=\"dataframe\">\n",
       "  <thead>\n",
       "    <tr style=\"text-align: right;\">\n",
       "      <th></th>\n",
       "      <th>Foreign Key</th>\n",
       "      <th>Incident Thread ID</th>\n",
       "      <th>Account</th>\n",
       "      <th>Attributes</th>\n",
       "      <th>Date Created</th>\n",
       "      <th>Contact ID</th>\n",
       "      <th>Channel ID</th>\n",
       "      <th>Email Header</th>\n",
       "      <th>Sequence</th>\n",
       "      <th>SmartSense Indicator</th>\n",
       "      <th>Text</th>\n",
       "      <th>Thread Entry Type</th>\n",
       "    </tr>\n",
       "  </thead>\n",
       "  <tbody>\n",
       "    <tr>\n",
       "      <th>1</th>\n",
       "      <td>2601</td>\n",
       "      <td>2773</td>\n",
       "      <td>No Value</td>\n",
       "      <td>No Value</td>\n",
       "      <td>04/10/2010 09:22</td>\n",
       "      <td>402</td>\n",
       "      <td>MA Email</td>\n",
       "      <td>No Value</td>\n",
       "      <td>1</td>\n",
       "      <td>0</td>\n",
       "      <td>\\n\\n==================== text File Attachment ...</td>\n",
       "      <td>Customer</td>\n",
       "    </tr>\n",
       "    <tr>\n",
       "      <th>2</th>\n",
       "      <td>2632</td>\n",
       "      <td>2809</td>\n",
       "      <td>No Value</td>\n",
       "      <td>No Value</td>\n",
       "      <td>05/11/2010 09:50</td>\n",
       "      <td>1983</td>\n",
       "      <td>CSS Web</td>\n",
       "      <td>No Value</td>\n",
       "      <td>1</td>\n",
       "      <td>5</td>\n",
       "      <td>Agents are experiencing an issue with Rightnow...</td>\n",
       "      <td>Customer</td>\n",
       "    </tr>\n",
       "    <tr>\n",
       "      <th>3</th>\n",
       "      <td>2601</td>\n",
       "      <td>2839</td>\n",
       "      <td>Stephen Pickett</td>\n",
       "      <td>No Value</td>\n",
       "      <td>11/01/2011 11:58</td>\n",
       "      <td>0</td>\n",
       "      <td>No Value</td>\n",
       "      <td>No Value</td>\n",
       "      <td>1</td>\n",
       "      <td>0</td>\n",
       "      <td>Ad, see the attachment.</td>\n",
       "      <td>Note</td>\n",
       "    </tr>\n",
       "    <tr>\n",
       "      <th>4</th>\n",
       "      <td>2655</td>\n",
       "      <td>2842</td>\n",
       "      <td>No Value</td>\n",
       "      <td>No Value</td>\n",
       "      <td>12/01/2011 10:36</td>\n",
       "      <td>1243</td>\n",
       "      <td>CSS Web</td>\n",
       "      <td>No Value</td>\n",
       "      <td>1</td>\n",
       "      <td>-2</td>\n",
       "      <td>the phone display states \\nNo service\\nTrying ...</td>\n",
       "      <td>Customer</td>\n",
       "    </tr>\n",
       "    <tr>\n",
       "      <th>5</th>\n",
       "      <td>2655</td>\n",
       "      <td>2843</td>\n",
       "      <td>Alan Cheng</td>\n",
       "      <td>No Value</td>\n",
       "      <td>12/01/2011 11:02</td>\n",
       "      <td>0</td>\n",
       "      <td>Email</td>\n",
       "      <td>No Value</td>\n",
       "      <td>1</td>\n",
       "      <td>-48</td>\n",
       "      <td>Had a look, appears to be a network port issue...</td>\n",
       "      <td>Staff Account</td>\n",
       "    </tr>\n",
       "  </tbody>\n",
       "</table>\n",
       "</div>"
      ],
      "text/plain": [
       "0 Foreign Key Incident Thread ID          Account Attributes  \\\n",
       "1        2601               2773         No Value   No Value   \n",
       "2        2632               2809         No Value   No Value   \n",
       "3        2601               2839  Stephen Pickett   No Value   \n",
       "4        2655               2842         No Value   No Value   \n",
       "5        2655               2843       Alan Cheng   No Value   \n",
       "\n",
       "0      Date Created Contact ID Channel ID Email Header Sequence  \\\n",
       "1  04/10/2010 09:22        402   MA Email     No Value        1   \n",
       "2  05/11/2010 09:50       1983    CSS Web     No Value        1   \n",
       "3  11/01/2011 11:58          0   No Value     No Value        1   \n",
       "4  12/01/2011 10:36       1243    CSS Web     No Value        1   \n",
       "5  12/01/2011 11:02          0      Email     No Value        1   \n",
       "\n",
       "0 SmartSense Indicator                                               Text  \\\n",
       "1                    0  \\n\\n==================== text File Attachment ...   \n",
       "2                    5  Agents are experiencing an issue with Rightnow...   \n",
       "3                    0                            Ad, see the attachment.   \n",
       "4                   -2  the phone display states \\nNo service\\nTrying ...   \n",
       "5                  -48  Had a look, appears to be a network port issue...   \n",
       "\n",
       "0 Thread Entry Type  \n",
       "1          Customer  \n",
       "2          Customer  \n",
       "3              Note  \n",
       "4          Customer  \n",
       "5     Staff Account  "
      ]
     },
     "execution_count": 9,
     "metadata": {},
     "output_type": "execute_result"
    }
   ],
   "source": [
    "thread_df.head()"
   ]
  },
  {
   "cell_type": "code",
   "execution_count": 10,
   "metadata": {},
   "outputs": [
    {
     "data": {
      "text/html": [
       "<div>\n",
       "<style scoped>\n",
       "    .dataframe tbody tr th:only-of-type {\n",
       "        vertical-align: middle;\n",
       "    }\n",
       "\n",
       "    .dataframe tbody tr th {\n",
       "        vertical-align: top;\n",
       "    }\n",
       "\n",
       "    .dataframe thead th {\n",
       "        text-align: right;\n",
       "    }\n",
       "</style>\n",
       "<table border=\"1\" class=\"dataframe\">\n",
       "  <thead>\n",
       "    <tr style=\"text-align: right;\">\n",
       "      <th></th>\n",
       "      <th>Reference #</th>\n",
       "      <th>Incident ID</th>\n",
       "      <th>Assigned Account</th>\n",
       "      <th>Severity</th>\n",
       "      <th>Status</th>\n",
       "      <th>Status Type</th>\n",
       "      <th>Subject</th>\n",
       "      <th>Product ID</th>\n",
       "      <th>Organisation ID</th>\n",
       "      <th>Date Closed</th>\n",
       "      <th>Date Created</th>\n",
       "      <th>Contact ID</th>\n",
       "      <th>Category ID</th>\n",
       "    </tr>\n",
       "  </thead>\n",
       "  <tbody>\n",
       "    <tr>\n",
       "      <th>1</th>\n",
       "      <td>100825-000001</td>\n",
       "      <td>2554</td>\n",
       "      <td>Stephen Pickett</td>\n",
       "      <td>No Value</td>\n",
       "      <td>Solved</td>\n",
       "      <td>Solved</td>\n",
       "      <td>A4e Professional Services work</td>\n",
       "      <td>No Value</td>\n",
       "      <td>1</td>\n",
       "      <td>25/08/2010 12:00</td>\n",
       "      <td>25/08/2010 12:00</td>\n",
       "      <td>573</td>\n",
       "      <td>No Value</td>\n",
       "    </tr>\n",
       "    <tr>\n",
       "      <th>2</th>\n",
       "      <td>101004-000000</td>\n",
       "      <td>2601</td>\n",
       "      <td>Adam Wilkinson</td>\n",
       "      <td>No Value</td>\n",
       "      <td>Solved</td>\n",
       "      <td>Solved</td>\n",
       "      <td>Measuring effectiveness increases effectiveness</td>\n",
       "      <td>No Value</td>\n",
       "      <td>29</td>\n",
       "      <td>11/01/2011 12:07</td>\n",
       "      <td>04/10/2010 09:22</td>\n",
       "      <td>402</td>\n",
       "      <td>No Value</td>\n",
       "    </tr>\n",
       "    <tr>\n",
       "      <th>3</th>\n",
       "      <td>101102-000000</td>\n",
       "      <td>2619</td>\n",
       "      <td>Stephen Pickett</td>\n",
       "      <td>No Value</td>\n",
       "      <td>Solved</td>\n",
       "      <td>Solved</td>\n",
       "      <td>Infoco Answer Export Tool</td>\n",
       "      <td>RightNow</td>\n",
       "      <td>560</td>\n",
       "      <td>02/11/2010 12:05</td>\n",
       "      <td>02/11/2010 12:05</td>\n",
       "      <td>2157</td>\n",
       "      <td>No Value</td>\n",
       "    </tr>\n",
       "    <tr>\n",
       "      <th>4</th>\n",
       "      <td>101102-000001</td>\n",
       "      <td>2620</td>\n",
       "      <td>Chris Farmer</td>\n",
       "      <td>Medium</td>\n",
       "      <td>Solved</td>\n",
       "      <td>Solved</td>\n",
       "      <td>THA: The Family Information Direct/Helplines S...</td>\n",
       "      <td>No Value</td>\n",
       "      <td>562</td>\n",
       "      <td>24/02/2011 13:56</td>\n",
       "      <td>02/11/2010 12:46</td>\n",
       "      <td>2144</td>\n",
       "      <td>No Value</td>\n",
       "    </tr>\n",
       "    <tr>\n",
       "      <th>5</th>\n",
       "      <td>101105-000000</td>\n",
       "      <td>2632</td>\n",
       "      <td>Alan Cheng</td>\n",
       "      <td>Medium</td>\n",
       "      <td>Solved</td>\n",
       "      <td>Solved</td>\n",
       "      <td>incident screen freezing incident - Ref 100924...</td>\n",
       "      <td>Instance Freezing</td>\n",
       "      <td>473</td>\n",
       "      <td>16/02/2011 15:09</td>\n",
       "      <td>05/11/2010 09:50</td>\n",
       "      <td>1983</td>\n",
       "      <td>No Value</td>\n",
       "    </tr>\n",
       "  </tbody>\n",
       "</table>\n",
       "</div>"
      ],
      "text/plain": [
       "0    Reference # Incident ID Assigned Account  Severity  Status Status Type  \\\n",
       "1  100825-000001        2554  Stephen Pickett  No Value  Solved      Solved   \n",
       "2  101004-000000        2601   Adam Wilkinson  No Value  Solved      Solved   \n",
       "3  101102-000000        2619  Stephen Pickett  No Value  Solved      Solved   \n",
       "4  101102-000001        2620     Chris Farmer    Medium  Solved      Solved   \n",
       "5  101105-000000        2632       Alan Cheng    Medium  Solved      Solved   \n",
       "\n",
       "0                                            Subject         Product ID  \\\n",
       "1                     A4e Professional Services work           No Value   \n",
       "2    Measuring effectiveness increases effectiveness           No Value   \n",
       "3                          Infoco Answer Export Tool           RightNow   \n",
       "4  THA: The Family Information Direct/Helplines S...           No Value   \n",
       "5  incident screen freezing incident - Ref 100924...  Instance Freezing   \n",
       "\n",
       "0 Organisation ID       Date Closed      Date Created Contact ID Category ID  \n",
       "1               1  25/08/2010 12:00  25/08/2010 12:00        573    No Value  \n",
       "2              29  11/01/2011 12:07  04/10/2010 09:22        402    No Value  \n",
       "3             560  02/11/2010 12:05  02/11/2010 12:05       2157    No Value  \n",
       "4             562  24/02/2011 13:56  02/11/2010 12:46       2144    No Value  \n",
       "5             473  16/02/2011 15:09  05/11/2010 09:50       1983    No Value  "
      ]
     },
     "execution_count": 10,
     "metadata": {},
     "output_type": "execute_result"
    }
   ],
   "source": [
    "incident_df.head()"
   ]
  },
  {
   "cell_type": "code",
   "execution_count": 11,
   "metadata": {},
   "outputs": [],
   "source": [
    "thread_df.rename(columns={'Foreign Key':'Incident ID'}, inplace=True)\n",
    "incident_df.rename(columns={'Category ID':'CategoryID'}, inplace=True)"
   ]
  },
  {
   "cell_type": "code",
   "execution_count": 12,
   "metadata": {},
   "outputs": [],
   "source": [
    "def remove_tags(string):\n",
    "    result = re.sub('<.*?>','',string)\n",
    "    return result"
   ]
  },
  {
   "cell_type": "code",
   "execution_count": 13,
   "metadata": {},
   "outputs": [],
   "source": [
    "thread_df[\"Text\"]=thread_df[\"Text\"].apply(lambda cw: remove_tags(cw))"
   ]
  },
  {
   "cell_type": "code",
   "execution_count": 14,
   "metadata": {},
   "outputs": [
    {
     "data": {
      "text/html": [
       "<div>\n",
       "<style scoped>\n",
       "    .dataframe tbody tr th:only-of-type {\n",
       "        vertical-align: middle;\n",
       "    }\n",
       "\n",
       "    .dataframe tbody tr th {\n",
       "        vertical-align: top;\n",
       "    }\n",
       "\n",
       "    .dataframe thead th {\n",
       "        text-align: right;\n",
       "    }\n",
       "</style>\n",
       "<table border=\"1\" class=\"dataframe\">\n",
       "  <thead>\n",
       "    <tr style=\"text-align: right;\">\n",
       "      <th></th>\n",
       "      <th>Incident ID</th>\n",
       "      <th>Incident Thread ID</th>\n",
       "      <th>Account</th>\n",
       "      <th>Attributes</th>\n",
       "      <th>Date Created</th>\n",
       "      <th>Contact ID</th>\n",
       "      <th>Channel ID</th>\n",
       "      <th>Email Header</th>\n",
       "      <th>Sequence</th>\n",
       "      <th>SmartSense Indicator</th>\n",
       "      <th>Text</th>\n",
       "      <th>Thread Entry Type</th>\n",
       "    </tr>\n",
       "  </thead>\n",
       "  <tbody>\n",
       "    <tr>\n",
       "      <th>1</th>\n",
       "      <td>2601</td>\n",
       "      <td>2773</td>\n",
       "      <td>No Value</td>\n",
       "      <td>No Value</td>\n",
       "      <td>04/10/2010 09:22</td>\n",
       "      <td>402</td>\n",
       "      <td>MA Email</td>\n",
       "      <td>No Value</td>\n",
       "      <td>1</td>\n",
       "      <td>0</td>\n",
       "      <td>\\n\\n==================== text File Attachment ...</td>\n",
       "      <td>Customer</td>\n",
       "    </tr>\n",
       "    <tr>\n",
       "      <th>2</th>\n",
       "      <td>2632</td>\n",
       "      <td>2809</td>\n",
       "      <td>No Value</td>\n",
       "      <td>No Value</td>\n",
       "      <td>05/11/2010 09:50</td>\n",
       "      <td>1983</td>\n",
       "      <td>CSS Web</td>\n",
       "      <td>No Value</td>\n",
       "      <td>1</td>\n",
       "      <td>5</td>\n",
       "      <td>Agents are experiencing an issue with Rightnow...</td>\n",
       "      <td>Customer</td>\n",
       "    </tr>\n",
       "    <tr>\n",
       "      <th>3</th>\n",
       "      <td>2601</td>\n",
       "      <td>2839</td>\n",
       "      <td>Stephen Pickett</td>\n",
       "      <td>No Value</td>\n",
       "      <td>11/01/2011 11:58</td>\n",
       "      <td>0</td>\n",
       "      <td>No Value</td>\n",
       "      <td>No Value</td>\n",
       "      <td>1</td>\n",
       "      <td>0</td>\n",
       "      <td>Ad, see the attachment.</td>\n",
       "      <td>Note</td>\n",
       "    </tr>\n",
       "    <tr>\n",
       "      <th>4</th>\n",
       "      <td>2655</td>\n",
       "      <td>2842</td>\n",
       "      <td>No Value</td>\n",
       "      <td>No Value</td>\n",
       "      <td>12/01/2011 10:36</td>\n",
       "      <td>1243</td>\n",
       "      <td>CSS Web</td>\n",
       "      <td>No Value</td>\n",
       "      <td>1</td>\n",
       "      <td>-2</td>\n",
       "      <td>the phone display states \\nNo service\\nTrying ...</td>\n",
       "      <td>Customer</td>\n",
       "    </tr>\n",
       "    <tr>\n",
       "      <th>5</th>\n",
       "      <td>2655</td>\n",
       "      <td>2843</td>\n",
       "      <td>Alan Cheng</td>\n",
       "      <td>No Value</td>\n",
       "      <td>12/01/2011 11:02</td>\n",
       "      <td>0</td>\n",
       "      <td>Email</td>\n",
       "      <td>No Value</td>\n",
       "      <td>1</td>\n",
       "      <td>-48</td>\n",
       "      <td>Had a look, appears to be a network port issue...</td>\n",
       "      <td>Staff Account</td>\n",
       "    </tr>\n",
       "  </tbody>\n",
       "</table>\n",
       "</div>"
      ],
      "text/plain": [
       "0 Incident ID Incident Thread ID          Account Attributes  \\\n",
       "1        2601               2773         No Value   No Value   \n",
       "2        2632               2809         No Value   No Value   \n",
       "3        2601               2839  Stephen Pickett   No Value   \n",
       "4        2655               2842         No Value   No Value   \n",
       "5        2655               2843       Alan Cheng   No Value   \n",
       "\n",
       "0      Date Created Contact ID Channel ID Email Header Sequence  \\\n",
       "1  04/10/2010 09:22        402   MA Email     No Value        1   \n",
       "2  05/11/2010 09:50       1983    CSS Web     No Value        1   \n",
       "3  11/01/2011 11:58          0   No Value     No Value        1   \n",
       "4  12/01/2011 10:36       1243    CSS Web     No Value        1   \n",
       "5  12/01/2011 11:02          0      Email     No Value        1   \n",
       "\n",
       "0 SmartSense Indicator                                               Text  \\\n",
       "1                    0  \\n\\n==================== text File Attachment ...   \n",
       "2                    5  Agents are experiencing an issue with Rightnow...   \n",
       "3                    0                            Ad, see the attachment.   \n",
       "4                   -2  the phone display states \\nNo service\\nTrying ...   \n",
       "5                  -48  Had a look, appears to be a network port issue...   \n",
       "\n",
       "0 Thread Entry Type  \n",
       "1          Customer  \n",
       "2          Customer  \n",
       "3              Note  \n",
       "4          Customer  \n",
       "5     Staff Account  "
      ]
     },
     "execution_count": 14,
     "metadata": {},
     "output_type": "execute_result"
    }
   ],
   "source": [
    "thread_df.head()"
   ]
  },
  {
   "cell_type": "code",
   "execution_count": 15,
   "metadata": {},
   "outputs": [
    {
     "data": {
      "text/html": [
       "<div>\n",
       "<style scoped>\n",
       "    .dataframe tbody tr th:only-of-type {\n",
       "        vertical-align: middle;\n",
       "    }\n",
       "\n",
       "    .dataframe tbody tr th {\n",
       "        vertical-align: top;\n",
       "    }\n",
       "\n",
       "    .dataframe thead th {\n",
       "        text-align: right;\n",
       "    }\n",
       "</style>\n",
       "<table border=\"1\" class=\"dataframe\">\n",
       "  <thead>\n",
       "    <tr style=\"text-align: right;\">\n",
       "      <th></th>\n",
       "      <th>Reference #</th>\n",
       "      <th>Incident ID</th>\n",
       "      <th>Assigned Account</th>\n",
       "      <th>Severity</th>\n",
       "      <th>Status</th>\n",
       "      <th>Status Type</th>\n",
       "      <th>Subject</th>\n",
       "      <th>Product ID</th>\n",
       "      <th>Organisation ID</th>\n",
       "      <th>Date Closed</th>\n",
       "      <th>Date Created</th>\n",
       "      <th>Contact ID</th>\n",
       "      <th>CategoryID</th>\n",
       "    </tr>\n",
       "  </thead>\n",
       "  <tbody>\n",
       "    <tr>\n",
       "      <th>1</th>\n",
       "      <td>100825-000001</td>\n",
       "      <td>2554</td>\n",
       "      <td>Stephen Pickett</td>\n",
       "      <td>No Value</td>\n",
       "      <td>Solved</td>\n",
       "      <td>Solved</td>\n",
       "      <td>A4e Professional Services work</td>\n",
       "      <td>No Value</td>\n",
       "      <td>1</td>\n",
       "      <td>25/08/2010 12:00</td>\n",
       "      <td>25/08/2010 12:00</td>\n",
       "      <td>573</td>\n",
       "      <td>No Value</td>\n",
       "    </tr>\n",
       "    <tr>\n",
       "      <th>2</th>\n",
       "      <td>101004-000000</td>\n",
       "      <td>2601</td>\n",
       "      <td>Adam Wilkinson</td>\n",
       "      <td>No Value</td>\n",
       "      <td>Solved</td>\n",
       "      <td>Solved</td>\n",
       "      <td>Measuring effectiveness increases effectiveness</td>\n",
       "      <td>No Value</td>\n",
       "      <td>29</td>\n",
       "      <td>11/01/2011 12:07</td>\n",
       "      <td>04/10/2010 09:22</td>\n",
       "      <td>402</td>\n",
       "      <td>No Value</td>\n",
       "    </tr>\n",
       "    <tr>\n",
       "      <th>3</th>\n",
       "      <td>101102-000000</td>\n",
       "      <td>2619</td>\n",
       "      <td>Stephen Pickett</td>\n",
       "      <td>No Value</td>\n",
       "      <td>Solved</td>\n",
       "      <td>Solved</td>\n",
       "      <td>Infoco Answer Export Tool</td>\n",
       "      <td>RightNow</td>\n",
       "      <td>560</td>\n",
       "      <td>02/11/2010 12:05</td>\n",
       "      <td>02/11/2010 12:05</td>\n",
       "      <td>2157</td>\n",
       "      <td>No Value</td>\n",
       "    </tr>\n",
       "    <tr>\n",
       "      <th>4</th>\n",
       "      <td>101102-000001</td>\n",
       "      <td>2620</td>\n",
       "      <td>Chris Farmer</td>\n",
       "      <td>Medium</td>\n",
       "      <td>Solved</td>\n",
       "      <td>Solved</td>\n",
       "      <td>THA: The Family Information Direct/Helplines S...</td>\n",
       "      <td>No Value</td>\n",
       "      <td>562</td>\n",
       "      <td>24/02/2011 13:56</td>\n",
       "      <td>02/11/2010 12:46</td>\n",
       "      <td>2144</td>\n",
       "      <td>No Value</td>\n",
       "    </tr>\n",
       "    <tr>\n",
       "      <th>5</th>\n",
       "      <td>101105-000000</td>\n",
       "      <td>2632</td>\n",
       "      <td>Alan Cheng</td>\n",
       "      <td>Medium</td>\n",
       "      <td>Solved</td>\n",
       "      <td>Solved</td>\n",
       "      <td>incident screen freezing incident - Ref 100924...</td>\n",
       "      <td>Instance Freezing</td>\n",
       "      <td>473</td>\n",
       "      <td>16/02/2011 15:09</td>\n",
       "      <td>05/11/2010 09:50</td>\n",
       "      <td>1983</td>\n",
       "      <td>No Value</td>\n",
       "    </tr>\n",
       "  </tbody>\n",
       "</table>\n",
       "</div>"
      ],
      "text/plain": [
       "0    Reference # Incident ID Assigned Account  Severity  Status Status Type  \\\n",
       "1  100825-000001        2554  Stephen Pickett  No Value  Solved      Solved   \n",
       "2  101004-000000        2601   Adam Wilkinson  No Value  Solved      Solved   \n",
       "3  101102-000000        2619  Stephen Pickett  No Value  Solved      Solved   \n",
       "4  101102-000001        2620     Chris Farmer    Medium  Solved      Solved   \n",
       "5  101105-000000        2632       Alan Cheng    Medium  Solved      Solved   \n",
       "\n",
       "0                                            Subject         Product ID  \\\n",
       "1                     A4e Professional Services work           No Value   \n",
       "2    Measuring effectiveness increases effectiveness           No Value   \n",
       "3                          Infoco Answer Export Tool           RightNow   \n",
       "4  THA: The Family Information Direct/Helplines S...           No Value   \n",
       "5  incident screen freezing incident - Ref 100924...  Instance Freezing   \n",
       "\n",
       "0 Organisation ID       Date Closed      Date Created Contact ID CategoryID  \n",
       "1               1  25/08/2010 12:00  25/08/2010 12:00        573   No Value  \n",
       "2              29  11/01/2011 12:07  04/10/2010 09:22        402   No Value  \n",
       "3             560  02/11/2010 12:05  02/11/2010 12:05       2157   No Value  \n",
       "4             562  24/02/2011 13:56  02/11/2010 12:46       2144   No Value  \n",
       "5             473  16/02/2011 15:09  05/11/2010 09:50       1983   No Value  "
      ]
     },
     "execution_count": 15,
     "metadata": {},
     "output_type": "execute_result"
    }
   ],
   "source": [
    "incident_df.head()"
   ]
  },
  {
   "cell_type": "code",
   "execution_count": 16,
   "metadata": {},
   "outputs": [
    {
     "data": {
      "text/plain": [
       "array(['No Value', 'Update process', 'Oracle', 'Sharepoint',\n",
       "       'Infrastructure', 'Telephony', 'Business Process', 'Contract',\n",
       "       'CiviCRM', 'Reporting', 'Not working as expected', 'Added account',\n",
       "       'Updated account', 'Leaver', 'Starter', 'Update report', 'Other',\n",
       "       'Slow loading/response', 'Delete a record',\n",
       "       'Add new number or routing', 'New report', 'Connection error'],\n",
       "      dtype=object)"
      ]
     },
     "execution_count": 16,
     "metadata": {},
     "output_type": "execute_result"
    }
   ],
   "source": [
    "incident_df.CategoryID.unique()"
   ]
  },
  {
   "cell_type": "code",
   "execution_count": 17,
   "metadata": {},
   "outputs": [],
   "source": [
    "incident_df=incident_df[incident_df['Status']=='Solved']"
   ]
  },
  {
   "cell_type": "code",
   "execution_count": 18,
   "metadata": {},
   "outputs": [
    {
     "data": {
      "text/plain": [
       "array(['No Value', 'Oracle', 'Sharepoint', 'Infrastructure', 'Telephony',\n",
       "       'Business Process', 'Contract', 'CiviCRM', 'Reporting',\n",
       "       'Added account', 'Not working as expected', 'Updated account',\n",
       "       'Leaver', 'Update process', 'Starter', 'Update report', 'Other',\n",
       "       'Slow loading/response'], dtype=object)"
      ]
     },
     "execution_count": 18,
     "metadata": {},
     "output_type": "execute_result"
    }
   ],
   "source": [
    "incident_df.CategoryID.unique()"
   ]
  },
  {
   "cell_type": "code",
   "execution_count": 19,
   "metadata": {},
   "outputs": [
    {
     "data": {
      "text/plain": [
       "(19197, 13)"
      ]
     },
     "execution_count": 19,
     "metadata": {},
     "output_type": "execute_result"
    }
   ],
   "source": [
    "incident_df.shape"
   ]
  },
  {
   "cell_type": "code",
   "execution_count": 20,
   "metadata": {},
   "outputs": [],
   "source": [
    "thread_df['Text']=thread_df['Text'].str.replace('\\n','').str.replace('=','')"
   ]
  },
  {
   "cell_type": "code",
   "execution_count": 21,
   "metadata": {},
   "outputs": [],
   "source": [
    "inc_thread_df=thread_df[[\"Incident ID\",\"Text\"]].merge(incident_df[[\"Incident ID\",\"Status\",\"Subject\",\"CategoryID\"]],on=\"Incident ID\",how=\"right\")"
   ]
  },
  {
   "cell_type": "code",
   "execution_count": 22,
   "metadata": {},
   "outputs": [],
   "source": [
    "inc_thread_df=inc_thread_df[inc_thread_df['CategoryID']!='No Value']"
   ]
  },
  {
   "cell_type": "code",
   "execution_count": 23,
   "metadata": {},
   "outputs": [
    {
     "data": {
      "text/html": [
       "<div>\n",
       "<style scoped>\n",
       "    .dataframe tbody tr th:only-of-type {\n",
       "        vertical-align: middle;\n",
       "    }\n",
       "\n",
       "    .dataframe tbody tr th {\n",
       "        vertical-align: top;\n",
       "    }\n",
       "\n",
       "    .dataframe thead th {\n",
       "        text-align: right;\n",
       "    }\n",
       "</style>\n",
       "<table border=\"1\" class=\"dataframe\">\n",
       "  <thead>\n",
       "    <tr style=\"text-align: right;\">\n",
       "      <th></th>\n",
       "      <th>Incident ID</th>\n",
       "      <th>Text</th>\n",
       "      <th>Status</th>\n",
       "      <th>Subject</th>\n",
       "      <th>CategoryID</th>\n",
       "    </tr>\n",
       "  </thead>\n",
       "  <tbody>\n",
       "    <tr>\n",
       "      <th>28152</th>\n",
       "      <td>11751.0</td>\n",
       "      <td>Hi Mike  As we discussed yesterday. We wish to...</td>\n",
       "      <td>Solved</td>\n",
       "      <td>Email Verification</td>\n",
       "      <td>Oracle</td>\n",
       "    </tr>\n",
       "    <tr>\n",
       "      <th>28153</th>\n",
       "      <td>11751.0</td>\n",
       "      <td>Hi MikeThis one needs picking up please, Beth ...</td>\n",
       "      <td>Solved</td>\n",
       "      <td>Email Verification</td>\n",
       "      <td>Oracle</td>\n",
       "    </tr>\n",
       "    <tr>\n",
       "      <th>28154</th>\n",
       "      <td>11751.0</td>\n",
       "      <td>Response via E-mail:From: Mike Griffiths Sent:...</td>\n",
       "      <td>Solved</td>\n",
       "      <td>Email Verification</td>\n",
       "      <td>Oracle</td>\n",
       "    </tr>\n",
       "    <tr>\n",
       "      <th>28155</th>\n",
       "      <td>11751.0</td>\n",
       "      <td>Need to create a CR after speaking with Mike</td>\n",
       "      <td>Solved</td>\n",
       "      <td>Email Verification</td>\n",
       "      <td>Oracle</td>\n",
       "    </tr>\n",
       "    <tr>\n",
       "      <th>28156</th>\n",
       "      <td>11751.0</td>\n",
       "      <td>Dear Joe,Thank you for contacting Connect Assi...</td>\n",
       "      <td>Solved</td>\n",
       "      <td>Email Verification</td>\n",
       "      <td>Oracle</td>\n",
       "    </tr>\n",
       "    <tr>\n",
       "      <th>28157</th>\n",
       "      <td>11751.0</td>\n",
       "      <td>Dear Joe,Thank you for contacting Connect Assi...</td>\n",
       "      <td>Solved</td>\n",
       "      <td>Email Verification</td>\n",
       "      <td>Oracle</td>\n",
       "    </tr>\n",
       "    <tr>\n",
       "      <th>28158</th>\n",
       "      <td>11751.0</td>\n",
       "      <td>Dear Joe,We are still awaiting an update from ...</td>\n",
       "      <td>Solved</td>\n",
       "      <td>Email Verification</td>\n",
       "      <td>Oracle</td>\n",
       "    </tr>\n",
       "    <tr>\n",
       "      <th>28159</th>\n",
       "      <td>11751.0</td>\n",
       "      <td>Dear Joe,Thank you for contacting Connect Assi...</td>\n",
       "      <td>Solved</td>\n",
       "      <td>Email Verification</td>\n",
       "      <td>Oracle</td>\n",
       "    </tr>\n",
       "    <tr>\n",
       "      <th>28160</th>\n",
       "      <td>11751.0</td>\n",
       "      <td>Dear Joe,We are still awaiting an update from ...</td>\n",
       "      <td>Solved</td>\n",
       "      <td>Email Verification</td>\n",
       "      <td>Oracle</td>\n",
       "    </tr>\n",
       "    <tr>\n",
       "      <th>28161</th>\n",
       "      <td>11751.0</td>\n",
       "      <td>Dear Joe,Thank you for contacting Connect Assi...</td>\n",
       "      <td>Solved</td>\n",
       "      <td>Email Verification</td>\n",
       "      <td>Oracle</td>\n",
       "    </tr>\n",
       "    <tr>\n",
       "      <th>28162</th>\n",
       "      <td>11751.0</td>\n",
       "      <td>Dear Joe,We are still awaiting an update from ...</td>\n",
       "      <td>Solved</td>\n",
       "      <td>Email Verification</td>\n",
       "      <td>Oracle</td>\n",
       "    </tr>\n",
       "    <tr>\n",
       "      <th>28163</th>\n",
       "      <td>11751.0</td>\n",
       "      <td>Dear Joe,We are still awaiting an update from ...</td>\n",
       "      <td>Solved</td>\n",
       "      <td>Email Verification</td>\n",
       "      <td>Oracle</td>\n",
       "    </tr>\n",
       "    <tr>\n",
       "      <th>28164</th>\n",
       "      <td>11751.0</td>\n",
       "      <td>Dear Joe,We are still awaiting an update from ...</td>\n",
       "      <td>Solved</td>\n",
       "      <td>Email Verification</td>\n",
       "      <td>Oracle</td>\n",
       "    </tr>\n",
       "    <tr>\n",
       "      <th>28165</th>\n",
       "      <td>11751.0</td>\n",
       "      <td>Dear Joe,We are still awaiting an update from ...</td>\n",
       "      <td>Solved</td>\n",
       "      <td>Email Verification</td>\n",
       "      <td>Oracle</td>\n",
       "    </tr>\n",
       "    <tr>\n",
       "      <th>28166</th>\n",
       "      <td>11751.0</td>\n",
       "      <td>Dear Joe,We are still awaiting an update from ...</td>\n",
       "      <td>Solved</td>\n",
       "      <td>Email Verification</td>\n",
       "      <td>Oracle</td>\n",
       "    </tr>\n",
       "    <tr>\n",
       "      <th>28167</th>\n",
       "      <td>11751.0</td>\n",
       "      <td>Dear Joe,We are still awaiting an update from ...</td>\n",
       "      <td>Solved</td>\n",
       "      <td>Email Verification</td>\n",
       "      <td>Oracle</td>\n",
       "    </tr>\n",
       "    <tr>\n",
       "      <th>28168</th>\n",
       "      <td>11751.0</td>\n",
       "      <td>Call Joe today,I advised that we need informat...</td>\n",
       "      <td>Solved</td>\n",
       "      <td>Email Verification</td>\n",
       "      <td>Oracle</td>\n",
       "    </tr>\n",
       "    <tr>\n",
       "      <th>28169</th>\n",
       "      <td>11751.0</td>\n",
       "      <td>Dear Joe,Thank you for contacting Connect Assi...</td>\n",
       "      <td>Solved</td>\n",
       "      <td>Email Verification</td>\n",
       "      <td>Oracle</td>\n",
       "    </tr>\n",
       "    <tr>\n",
       "      <th>28170</th>\n",
       "      <td>11751.0</td>\n",
       "      <td>Dear Joe,Thank you for contacting Connect Assi...</td>\n",
       "      <td>Solved</td>\n",
       "      <td>Email Verification</td>\n",
       "      <td>Oracle</td>\n",
       "    </tr>\n",
       "    <tr>\n",
       "      <th>28171</th>\n",
       "      <td>11751.0</td>\n",
       "      <td>Hi Gareth I’ve spoken to our Policy Officer an...</td>\n",
       "      <td>Solved</td>\n",
       "      <td>Email Verification</td>\n",
       "      <td>Oracle</td>\n",
       "    </tr>\n",
       "  </tbody>\n",
       "</table>\n",
       "</div>"
      ],
      "text/plain": [
       "0      Incident ID                                               Text  Status  \\\n",
       "28152      11751.0  Hi Mike  As we discussed yesterday. We wish to...  Solved   \n",
       "28153      11751.0  Hi MikeThis one needs picking up please, Beth ...  Solved   \n",
       "28154      11751.0  Response via E-mail:From: Mike Griffiths Sent:...  Solved   \n",
       "28155      11751.0       Need to create a CR after speaking with Mike  Solved   \n",
       "28156      11751.0  Dear Joe,Thank you for contacting Connect Assi...  Solved   \n",
       "28157      11751.0  Dear Joe,Thank you for contacting Connect Assi...  Solved   \n",
       "28158      11751.0  Dear Joe,We are still awaiting an update from ...  Solved   \n",
       "28159      11751.0  Dear Joe,Thank you for contacting Connect Assi...  Solved   \n",
       "28160      11751.0  Dear Joe,We are still awaiting an update from ...  Solved   \n",
       "28161      11751.0  Dear Joe,Thank you for contacting Connect Assi...  Solved   \n",
       "28162      11751.0  Dear Joe,We are still awaiting an update from ...  Solved   \n",
       "28163      11751.0  Dear Joe,We are still awaiting an update from ...  Solved   \n",
       "28164      11751.0  Dear Joe,We are still awaiting an update from ...  Solved   \n",
       "28165      11751.0  Dear Joe,We are still awaiting an update from ...  Solved   \n",
       "28166      11751.0  Dear Joe,We are still awaiting an update from ...  Solved   \n",
       "28167      11751.0  Dear Joe,We are still awaiting an update from ...  Solved   \n",
       "28168      11751.0  Call Joe today,I advised that we need informat...  Solved   \n",
       "28169      11751.0  Dear Joe,Thank you for contacting Connect Assi...  Solved   \n",
       "28170      11751.0  Dear Joe,Thank you for contacting Connect Assi...  Solved   \n",
       "28171      11751.0  Hi Gareth I’ve spoken to our Policy Officer an...  Solved   \n",
       "\n",
       "0                 Subject CategoryID  \n",
       "28152  Email Verification     Oracle  \n",
       "28153  Email Verification     Oracle  \n",
       "28154  Email Verification     Oracle  \n",
       "28155  Email Verification     Oracle  \n",
       "28156  Email Verification     Oracle  \n",
       "28157  Email Verification     Oracle  \n",
       "28158  Email Verification     Oracle  \n",
       "28159  Email Verification     Oracle  \n",
       "28160  Email Verification     Oracle  \n",
       "28161  Email Verification     Oracle  \n",
       "28162  Email Verification     Oracle  \n",
       "28163  Email Verification     Oracle  \n",
       "28164  Email Verification     Oracle  \n",
       "28165  Email Verification     Oracle  \n",
       "28166  Email Verification     Oracle  \n",
       "28167  Email Verification     Oracle  \n",
       "28168  Email Verification     Oracle  \n",
       "28169  Email Verification     Oracle  \n",
       "28170  Email Verification     Oracle  \n",
       "28171  Email Verification     Oracle  "
      ]
     },
     "execution_count": 23,
     "metadata": {},
     "output_type": "execute_result"
    }
   ],
   "source": [
    "inc_thread_df.head(20)"
   ]
  },
  {
   "cell_type": "code",
   "execution_count": 24,
   "metadata": {},
   "outputs": [],
   "source": [
    "inc_thread_df['Text'] = inc_thread_df.groupby(['Incident ID'])['Text'].transform(lambda x : ''.join(str(x)))"
   ]
  },
  {
   "cell_type": "code",
   "execution_count": 25,
   "metadata": {},
   "outputs": [],
   "source": [
    "inc_thread_df = inc_thread_df.drop_duplicates()"
   ]
  },
  {
   "cell_type": "code",
   "execution_count": 26,
   "metadata": {},
   "outputs": [],
   "source": [
    "inc_thread_df[\"Text\"]=inc_thread_df[\"Subject\"]+\" \"+inc_thread_df[\"Text\"]"
   ]
  },
  {
   "cell_type": "code",
   "execution_count": 27,
   "metadata": {},
   "outputs": [
    {
     "data": {
      "text/plain": [
       "28152     Email Verification 28152    Hi Mike  As we dis...\n",
       "32196     NWR: Customer portal re-design 32196    Our we...\n",
       "33137     UCU CP Law Extra and Future Status 33137    Mi...\n",
       "37213     Right Now - BDMA Tab Mail Merge 37213    Hi,  ...\n",
       "42683     Mind - Legal SLA Report - CR - Amend Filters/S...\n",
       "                                ...                        \n",
       "102899    Login & KeePass saving 102899    NaN\\nName: 24...\n",
       "102900    UKVI Customer File Upload 102900    NaN\\nName:...\n",
       "102901    Ellis issues 102901    NaN\\nName: 24646.0, dty...\n",
       "102902     test 102902    NaN\\nName: 24654.0, dtype: object\n",
       "102903    test2 102903    NaN\\nName: 24655.0, dtype: object\n",
       "Name: Text, Length: 2304, dtype: object"
      ]
     },
     "execution_count": 27,
     "metadata": {},
     "output_type": "execute_result"
    }
   ],
   "source": [
    "inc_thread_df['Text']"
   ]
  },
  {
   "cell_type": "code",
   "execution_count": 28,
   "metadata": {},
   "outputs": [
    {
     "data": {
      "text/html": [
       "<div>\n",
       "<style scoped>\n",
       "    .dataframe tbody tr th:only-of-type {\n",
       "        vertical-align: middle;\n",
       "    }\n",
       "\n",
       "    .dataframe tbody tr th {\n",
       "        vertical-align: top;\n",
       "    }\n",
       "\n",
       "    .dataframe thead th {\n",
       "        text-align: right;\n",
       "    }\n",
       "</style>\n",
       "<table border=\"1\" class=\"dataframe\">\n",
       "  <thead>\n",
       "    <tr style=\"text-align: right;\">\n",
       "      <th></th>\n",
       "      <th>Incident ID</th>\n",
       "      <th>Text</th>\n",
       "      <th>Status</th>\n",
       "      <th>Subject</th>\n",
       "      <th>CategoryID</th>\n",
       "    </tr>\n",
       "  </thead>\n",
       "  <tbody>\n",
       "    <tr>\n",
       "      <th>28152</th>\n",
       "      <td>11751.0</td>\n",
       "      <td>Email Verification 28152    Hi Mike  As we dis...</td>\n",
       "      <td>Solved</td>\n",
       "      <td>Email Verification</td>\n",
       "      <td>Oracle</td>\n",
       "    </tr>\n",
       "    <tr>\n",
       "      <th>32196</th>\n",
       "      <td>12395.0</td>\n",
       "      <td>NWR: Customer portal re-design 32196    Our we...</td>\n",
       "      <td>Solved</td>\n",
       "      <td>NWR: Customer portal re-design</td>\n",
       "      <td>Oracle</td>\n",
       "    </tr>\n",
       "    <tr>\n",
       "      <th>33137</th>\n",
       "      <td>12528.0</td>\n",
       "      <td>UCU CP Law Extra and Future Status 33137    Mi...</td>\n",
       "      <td>Solved</td>\n",
       "      <td>UCU CP Law Extra and Future Status</td>\n",
       "      <td>Oracle</td>\n",
       "    </tr>\n",
       "    <tr>\n",
       "      <th>37213</th>\n",
       "      <td>13055.0</td>\n",
       "      <td>Right Now - BDMA Tab Mail Merge 37213    Hi,  ...</td>\n",
       "      <td>Solved</td>\n",
       "      <td>Right Now - BDMA Tab Mail Merge</td>\n",
       "      <td>Oracle</td>\n",
       "    </tr>\n",
       "    <tr>\n",
       "      <th>42683</th>\n",
       "      <td>13678.0</td>\n",
       "      <td>Mind - Legal SLA Report - CR - Amend Filters/S...</td>\n",
       "      <td>Solved</td>\n",
       "      <td>Mind - Legal SLA Report - CR - Amend Filters/S...</td>\n",
       "      <td>Oracle</td>\n",
       "    </tr>\n",
       "    <tr>\n",
       "      <th>42900</th>\n",
       "      <td>13702.0</td>\n",
       "      <td>CALM For CA Support 42900    We need to introd...</td>\n",
       "      <td>Solved</td>\n",
       "      <td>CALM For CA Support</td>\n",
       "      <td>Oracle</td>\n",
       "    </tr>\n",
       "    <tr>\n",
       "      <th>43800</th>\n",
       "      <td>13809.0</td>\n",
       "      <td>Change requirest for additional table and impo...</td>\n",
       "      <td>Solved</td>\n",
       "      <td>Change requirest for additional table and impo...</td>\n",
       "      <td>Oracle</td>\n",
       "    </tr>\n",
       "    <tr>\n",
       "      <th>43847</th>\n",
       "      <td>13811.0</td>\n",
       "      <td>Change the Country field in CABA workspace to ...</td>\n",
       "      <td>Solved</td>\n",
       "      <td>Change the Country field in CABA workspace to ...</td>\n",
       "      <td>Oracle</td>\n",
       "    </tr>\n",
       "    <tr>\n",
       "      <th>44015</th>\n",
       "      <td>13838.0</td>\n",
       "      <td>Wiltshire table added to CA support along with...</td>\n",
       "      <td>Solved</td>\n",
       "      <td>Wiltshire table added to CA support along with...</td>\n",
       "      <td>Oracle</td>\n",
       "    </tr>\n",
       "    <tr>\n",
       "      <th>44283</th>\n",
       "      <td>13866.0</td>\n",
       "      <td>CHANGE REQUEST - Flagging Contact &amp; Incident R...</td>\n",
       "      <td>Solved</td>\n",
       "      <td>CHANGE REQUEST - Flagging Contact &amp; Incident R...</td>\n",
       "      <td>Oracle</td>\n",
       "    </tr>\n",
       "  </tbody>\n",
       "</table>\n",
       "</div>"
      ],
      "text/plain": [
       "0      Incident ID                                               Text  Status  \\\n",
       "28152      11751.0  Email Verification 28152    Hi Mike  As we dis...  Solved   \n",
       "32196      12395.0  NWR: Customer portal re-design 32196    Our we...  Solved   \n",
       "33137      12528.0  UCU CP Law Extra and Future Status 33137    Mi...  Solved   \n",
       "37213      13055.0  Right Now - BDMA Tab Mail Merge 37213    Hi,  ...  Solved   \n",
       "42683      13678.0  Mind - Legal SLA Report - CR - Amend Filters/S...  Solved   \n",
       "42900      13702.0  CALM For CA Support 42900    We need to introd...  Solved   \n",
       "43800      13809.0  Change requirest for additional table and impo...  Solved   \n",
       "43847      13811.0  Change the Country field in CABA workspace to ...  Solved   \n",
       "44015      13838.0  Wiltshire table added to CA support along with...  Solved   \n",
       "44283      13866.0  CHANGE REQUEST - Flagging Contact & Incident R...  Solved   \n",
       "\n",
       "0                                                Subject CategoryID  \n",
       "28152                                 Email Verification     Oracle  \n",
       "32196                     NWR: Customer portal re-design     Oracle  \n",
       "33137                 UCU CP Law Extra and Future Status     Oracle  \n",
       "37213                    Right Now - BDMA Tab Mail Merge     Oracle  \n",
       "42683  Mind - Legal SLA Report - CR - Amend Filters/S...     Oracle  \n",
       "42900                                CALM For CA Support     Oracle  \n",
       "43800  Change requirest for additional table and impo...     Oracle  \n",
       "43847  Change the Country field in CABA workspace to ...     Oracle  \n",
       "44015  Wiltshire table added to CA support along with...     Oracle  \n",
       "44283  CHANGE REQUEST - Flagging Contact & Incident R...     Oracle  "
      ]
     },
     "execution_count": 28,
     "metadata": {},
     "output_type": "execute_result"
    }
   ],
   "source": [
    "inc_thread_df.head(10)"
   ]
  },
  {
   "cell_type": "code",
   "execution_count": 29,
   "metadata": {},
   "outputs": [
    {
     "data": {
      "text/plain": [
       "(2304, 5)"
      ]
     },
     "execution_count": 29,
     "metadata": {},
     "output_type": "execute_result"
    }
   ],
   "source": [
    "inc_thread_df.shape"
   ]
  },
  {
   "cell_type": "code",
   "execution_count": 30,
   "metadata": {},
   "outputs": [
    {
     "data": {
      "text/plain": [
       "array(['Oracle', 'Sharepoint', 'Infrastructure', 'Telephony',\n",
       "       'Business Process', 'Contract', 'CiviCRM', 'Reporting',\n",
       "       'Added account', 'Not working as expected', 'Updated account',\n",
       "       'Leaver', 'Update process', 'Starter', 'Update report', 'Other',\n",
       "       'Slow loading/response'], dtype=object)"
      ]
     },
     "execution_count": 30,
     "metadata": {},
     "output_type": "execute_result"
    }
   ],
   "source": [
    "inc_thread_df.CategoryID.unique()"
   ]
  },
  {
   "cell_type": "code",
   "execution_count": 31,
   "metadata": {},
   "outputs": [
    {
     "data": {
      "text/html": [
       "<div>\n",
       "<style scoped>\n",
       "    .dataframe tbody tr th:only-of-type {\n",
       "        vertical-align: middle;\n",
       "    }\n",
       "\n",
       "    .dataframe tbody tr th {\n",
       "        vertical-align: top;\n",
       "    }\n",
       "\n",
       "    .dataframe thead th {\n",
       "        text-align: right;\n",
       "    }\n",
       "</style>\n",
       "<table border=\"1\" class=\"dataframe\">\n",
       "  <thead>\n",
       "    <tr style=\"text-align: right;\">\n",
       "      <th></th>\n",
       "      <th>Incident ID</th>\n",
       "      <th>Text</th>\n",
       "      <th>Status</th>\n",
       "      <th>Subject</th>\n",
       "      <th>CategoryID</th>\n",
       "    </tr>\n",
       "  </thead>\n",
       "  <tbody>\n",
       "    <tr>\n",
       "      <th>28152</th>\n",
       "      <td>11751.0</td>\n",
       "      <td>Email Verification 28152    Hi Mike  As we dis...</td>\n",
       "      <td>Solved</td>\n",
       "      <td>Email Verification</td>\n",
       "      <td>Oracle</td>\n",
       "    </tr>\n",
       "    <tr>\n",
       "      <th>32196</th>\n",
       "      <td>12395.0</td>\n",
       "      <td>NWR: Customer portal re-design 32196    Our we...</td>\n",
       "      <td>Solved</td>\n",
       "      <td>NWR: Customer portal re-design</td>\n",
       "      <td>Oracle</td>\n",
       "    </tr>\n",
       "    <tr>\n",
       "      <th>33137</th>\n",
       "      <td>12528.0</td>\n",
       "      <td>UCU CP Law Extra and Future Status 33137    Mi...</td>\n",
       "      <td>Solved</td>\n",
       "      <td>UCU CP Law Extra and Future Status</td>\n",
       "      <td>Oracle</td>\n",
       "    </tr>\n",
       "    <tr>\n",
       "      <th>37213</th>\n",
       "      <td>13055.0</td>\n",
       "      <td>Right Now - BDMA Tab Mail Merge 37213    Hi,  ...</td>\n",
       "      <td>Solved</td>\n",
       "      <td>Right Now - BDMA Tab Mail Merge</td>\n",
       "      <td>Oracle</td>\n",
       "    </tr>\n",
       "    <tr>\n",
       "      <th>42683</th>\n",
       "      <td>13678.0</td>\n",
       "      <td>Mind - Legal SLA Report - CR - Amend Filters/S...</td>\n",
       "      <td>Solved</td>\n",
       "      <td>Mind - Legal SLA Report - CR - Amend Filters/S...</td>\n",
       "      <td>Oracle</td>\n",
       "    </tr>\n",
       "    <tr>\n",
       "      <th>42900</th>\n",
       "      <td>13702.0</td>\n",
       "      <td>CALM For CA Support 42900    We need to introd...</td>\n",
       "      <td>Solved</td>\n",
       "      <td>CALM For CA Support</td>\n",
       "      <td>Oracle</td>\n",
       "    </tr>\n",
       "    <tr>\n",
       "      <th>43800</th>\n",
       "      <td>13809.0</td>\n",
       "      <td>Change requirest for additional table and impo...</td>\n",
       "      <td>Solved</td>\n",
       "      <td>Change requirest for additional table and impo...</td>\n",
       "      <td>Oracle</td>\n",
       "    </tr>\n",
       "    <tr>\n",
       "      <th>43847</th>\n",
       "      <td>13811.0</td>\n",
       "      <td>Change the Country field in CABA workspace to ...</td>\n",
       "      <td>Solved</td>\n",
       "      <td>Change the Country field in CABA workspace to ...</td>\n",
       "      <td>Oracle</td>\n",
       "    </tr>\n",
       "    <tr>\n",
       "      <th>44015</th>\n",
       "      <td>13838.0</td>\n",
       "      <td>Wiltshire table added to CA support along with...</td>\n",
       "      <td>Solved</td>\n",
       "      <td>Wiltshire table added to CA support along with...</td>\n",
       "      <td>Oracle</td>\n",
       "    </tr>\n",
       "    <tr>\n",
       "      <th>44283</th>\n",
       "      <td>13866.0</td>\n",
       "      <td>CHANGE REQUEST - Flagging Contact &amp; Incident R...</td>\n",
       "      <td>Solved</td>\n",
       "      <td>CHANGE REQUEST - Flagging Contact &amp; Incident R...</td>\n",
       "      <td>Oracle</td>\n",
       "    </tr>\n",
       "  </tbody>\n",
       "</table>\n",
       "</div>"
      ],
      "text/plain": [
       "0      Incident ID                                               Text  Status  \\\n",
       "28152      11751.0  Email Verification 28152    Hi Mike  As we dis...  Solved   \n",
       "32196      12395.0  NWR: Customer portal re-design 32196    Our we...  Solved   \n",
       "33137      12528.0  UCU CP Law Extra and Future Status 33137    Mi...  Solved   \n",
       "37213      13055.0  Right Now - BDMA Tab Mail Merge 37213    Hi,  ...  Solved   \n",
       "42683      13678.0  Mind - Legal SLA Report - CR - Amend Filters/S...  Solved   \n",
       "42900      13702.0  CALM For CA Support 42900    We need to introd...  Solved   \n",
       "43800      13809.0  Change requirest for additional table and impo...  Solved   \n",
       "43847      13811.0  Change the Country field in CABA workspace to ...  Solved   \n",
       "44015      13838.0  Wiltshire table added to CA support along with...  Solved   \n",
       "44283      13866.0  CHANGE REQUEST - Flagging Contact & Incident R...  Solved   \n",
       "\n",
       "0                                                Subject CategoryID  \n",
       "28152                                 Email Verification     Oracle  \n",
       "32196                     NWR: Customer portal re-design     Oracle  \n",
       "33137                 UCU CP Law Extra and Future Status     Oracle  \n",
       "37213                    Right Now - BDMA Tab Mail Merge     Oracle  \n",
       "42683  Mind - Legal SLA Report - CR - Amend Filters/S...     Oracle  \n",
       "42900                                CALM For CA Support     Oracle  \n",
       "43800  Change requirest for additional table and impo...     Oracle  \n",
       "43847  Change the Country field in CABA workspace to ...     Oracle  \n",
       "44015  Wiltshire table added to CA support along with...     Oracle  \n",
       "44283  CHANGE REQUEST - Flagging Contact & Incident R...     Oracle  "
      ]
     },
     "execution_count": 31,
     "metadata": {},
     "output_type": "execute_result"
    }
   ],
   "source": [
    "inc_thread_df.head(10)"
   ]
  },
  {
   "cell_type": "code",
   "execution_count": 32,
   "metadata": {},
   "outputs": [
    {
     "data": {
      "text/plain": [
       "Series([], dtype: float64)"
      ]
     },
     "execution_count": 32,
     "metadata": {},
     "output_type": "execute_result"
    }
   ],
   "source": [
    "null_columns=inc_thread_df.columns[inc_thread_df.isnull().any()]\n",
    "inc_thread_df[null_columns].isnull().sum()"
   ]
  },
  {
   "cell_type": "code",
   "execution_count": 33,
   "metadata": {},
   "outputs": [
    {
     "data": {
      "text/plain": [
       "(2304, 5)"
      ]
     },
     "execution_count": 33,
     "metadata": {},
     "output_type": "execute_result"
    }
   ],
   "source": [
    "inc_thread_df.shape"
   ]
  },
  {
   "cell_type": "code",
   "execution_count": 34,
   "metadata": {},
   "outputs": [
    {
     "data": {
      "text/plain": [
       "array(['Oracle', 'Sharepoint', 'Infrastructure', 'Telephony',\n",
       "       'Business Process', 'Contract', 'CiviCRM', 'Reporting',\n",
       "       'Added account', 'Not working as expected', 'Updated account',\n",
       "       'Leaver', 'Update process', 'Starter', 'Update report', 'Other',\n",
       "       'Slow loading/response'], dtype=object)"
      ]
     },
     "execution_count": 34,
     "metadata": {},
     "output_type": "execute_result"
    }
   ],
   "source": [
    "inc_thread_df.CategoryID.unique()"
   ]
  },
  {
   "cell_type": "code",
   "execution_count": 35,
   "metadata": {},
   "outputs": [],
   "source": [
    "inc_thread_df['Text']=inc_thread_df['Text'].str.replace('\\n','').str.replace('.','')"
   ]
  },
  {
   "cell_type": "code",
   "execution_count": 36,
   "metadata": {},
   "outputs": [
    {
     "data": {
      "text/html": [
       "<div>\n",
       "<style scoped>\n",
       "    .dataframe tbody tr th:only-of-type {\n",
       "        vertical-align: middle;\n",
       "    }\n",
       "\n",
       "    .dataframe tbody tr th {\n",
       "        vertical-align: top;\n",
       "    }\n",
       "\n",
       "    .dataframe thead th {\n",
       "        text-align: right;\n",
       "    }\n",
       "</style>\n",
       "<table border=\"1\" class=\"dataframe\">\n",
       "  <thead>\n",
       "    <tr style=\"text-align: right;\">\n",
       "      <th></th>\n",
       "      <th>Incident ID</th>\n",
       "      <th>Text</th>\n",
       "      <th>Status</th>\n",
       "      <th>Subject</th>\n",
       "      <th>CategoryID</th>\n",
       "    </tr>\n",
       "  </thead>\n",
       "  <tbody>\n",
       "    <tr>\n",
       "      <th>28152</th>\n",
       "      <td>11751.0</td>\n",
       "      <td>Email Verification 28152    Hi Mike  As we dis...</td>\n",
       "      <td>Solved</td>\n",
       "      <td>Email Verification</td>\n",
       "      <td>Oracle</td>\n",
       "    </tr>\n",
       "    <tr>\n",
       "      <th>32196</th>\n",
       "      <td>12395.0</td>\n",
       "      <td>NWR: Customer portal re-design 32196    Our we...</td>\n",
       "      <td>Solved</td>\n",
       "      <td>NWR: Customer portal re-design</td>\n",
       "      <td>Oracle</td>\n",
       "    </tr>\n",
       "    <tr>\n",
       "      <th>33137</th>\n",
       "      <td>12528.0</td>\n",
       "      <td>UCU CP Law Extra and Future Status 33137    Mi...</td>\n",
       "      <td>Solved</td>\n",
       "      <td>UCU CP Law Extra and Future Status</td>\n",
       "      <td>Oracle</td>\n",
       "    </tr>\n",
       "    <tr>\n",
       "      <th>37213</th>\n",
       "      <td>13055.0</td>\n",
       "      <td>Right Now - BDMA Tab Mail Merge 37213    Hi,  ...</td>\n",
       "      <td>Solved</td>\n",
       "      <td>Right Now - BDMA Tab Mail Merge</td>\n",
       "      <td>Oracle</td>\n",
       "    </tr>\n",
       "    <tr>\n",
       "      <th>42683</th>\n",
       "      <td>13678.0</td>\n",
       "      <td>Mind - Legal SLA Report - CR - Amend Filters/S...</td>\n",
       "      <td>Solved</td>\n",
       "      <td>Mind - Legal SLA Report - CR - Amend Filters/S...</td>\n",
       "      <td>Oracle</td>\n",
       "    </tr>\n",
       "    <tr>\n",
       "      <th>42900</th>\n",
       "      <td>13702.0</td>\n",
       "      <td>CALM For CA Support 42900    We need to introd...</td>\n",
       "      <td>Solved</td>\n",
       "      <td>CALM For CA Support</td>\n",
       "      <td>Oracle</td>\n",
       "    </tr>\n",
       "    <tr>\n",
       "      <th>43800</th>\n",
       "      <td>13809.0</td>\n",
       "      <td>Change requirest for additional table and impo...</td>\n",
       "      <td>Solved</td>\n",
       "      <td>Change requirest for additional table and impo...</td>\n",
       "      <td>Oracle</td>\n",
       "    </tr>\n",
       "    <tr>\n",
       "      <th>43847</th>\n",
       "      <td>13811.0</td>\n",
       "      <td>Change the Country field in CABA workspace to ...</td>\n",
       "      <td>Solved</td>\n",
       "      <td>Change the Country field in CABA workspace to ...</td>\n",
       "      <td>Oracle</td>\n",
       "    </tr>\n",
       "    <tr>\n",
       "      <th>44015</th>\n",
       "      <td>13838.0</td>\n",
       "      <td>Wiltshire table added to CA support along with...</td>\n",
       "      <td>Solved</td>\n",
       "      <td>Wiltshire table added to CA support along with...</td>\n",
       "      <td>Oracle</td>\n",
       "    </tr>\n",
       "    <tr>\n",
       "      <th>44283</th>\n",
       "      <td>13866.0</td>\n",
       "      <td>CHANGE REQUEST - Flagging Contact &amp; Incident R...</td>\n",
       "      <td>Solved</td>\n",
       "      <td>CHANGE REQUEST - Flagging Contact &amp; Incident R...</td>\n",
       "      <td>Oracle</td>\n",
       "    </tr>\n",
       "  </tbody>\n",
       "</table>\n",
       "</div>"
      ],
      "text/plain": [
       "0      Incident ID                                               Text  Status  \\\n",
       "28152      11751.0  Email Verification 28152    Hi Mike  As we dis...  Solved   \n",
       "32196      12395.0  NWR: Customer portal re-design 32196    Our we...  Solved   \n",
       "33137      12528.0  UCU CP Law Extra and Future Status 33137    Mi...  Solved   \n",
       "37213      13055.0  Right Now - BDMA Tab Mail Merge 37213    Hi,  ...  Solved   \n",
       "42683      13678.0  Mind - Legal SLA Report - CR - Amend Filters/S...  Solved   \n",
       "42900      13702.0  CALM For CA Support 42900    We need to introd...  Solved   \n",
       "43800      13809.0  Change requirest for additional table and impo...  Solved   \n",
       "43847      13811.0  Change the Country field in CABA workspace to ...  Solved   \n",
       "44015      13838.0  Wiltshire table added to CA support along with...  Solved   \n",
       "44283      13866.0  CHANGE REQUEST - Flagging Contact & Incident R...  Solved   \n",
       "\n",
       "0                                                Subject CategoryID  \n",
       "28152                                 Email Verification     Oracle  \n",
       "32196                     NWR: Customer portal re-design     Oracle  \n",
       "33137                 UCU CP Law Extra and Future Status     Oracle  \n",
       "37213                    Right Now - BDMA Tab Mail Merge     Oracle  \n",
       "42683  Mind - Legal SLA Report - CR - Amend Filters/S...     Oracle  \n",
       "42900                                CALM For CA Support     Oracle  \n",
       "43800  Change requirest for additional table and impo...     Oracle  \n",
       "43847  Change the Country field in CABA workspace to ...     Oracle  \n",
       "44015  Wiltshire table added to CA support along with...     Oracle  \n",
       "44283  CHANGE REQUEST - Flagging Contact & Incident R...     Oracle  "
      ]
     },
     "execution_count": 36,
     "metadata": {},
     "output_type": "execute_result"
    }
   ],
   "source": [
    "inc_thread_df.head(10)"
   ]
  },
  {
   "cell_type": "code",
   "execution_count": 37,
   "metadata": {},
   "outputs": [
    {
     "data": {
      "image/png": "[encoded data removed]",
      "text/plain": [
       "<Figure size 576x360 with 1 Axes>"
      ]
     },
     "metadata": {
      "needs_background": "light"
     },
     "output_type": "display_data"
    }
   ],
   "source": [
    "import matplotlib.pyplot as plt\n",
    "fig = plt.figure(figsize=(8,5))\n",
    "inc_thread_df.groupby('CategoryID').Text.count().plot.bar(ylim=0)\n",
    "plt.show()"
   ]
  },
  {
   "cell_type": "code",
   "execution_count": 38,
   "metadata": {},
   "outputs": [],
   "source": [
    "inc_thread_df = inc_thread_df[inc_thread_df['Text'].notna()]"
   ]
  },
  {
   "cell_type": "code",
   "execution_count": 39,
   "metadata": {},
   "outputs": [
    {
     "data": {
      "text/plain": [
       "(2304, 5)"
      ]
     },
     "execution_count": 39,
     "metadata": {},
     "output_type": "execute_result"
    }
   ],
   "source": [
    "inc_thread_df.shape"
   ]
  },
  {
   "cell_type": "code",
   "execution_count": 40,
   "metadata": {},
   "outputs": [
    {
     "data": {
      "text/plain": [
       "array(['Oracle', 'Sharepoint', 'Infrastructure', 'Telephony',\n",
       "       'Business Process', 'Contract', 'CiviCRM', 'Reporting',\n",
       "       'Added account', 'Not working as expected', 'Updated account',\n",
       "       'Leaver', 'Update process', 'Starter', 'Update report', 'Other',\n",
       "       'Slow loading/response'], dtype=object)"
      ]
     },
     "execution_count": 40,
     "metadata": {},
     "output_type": "execute_result"
    }
   ],
   "source": [
    "inc_thread_df.CategoryID.unique()"
   ]
  },
  {
   "cell_type": "code",
   "execution_count": 41,
   "metadata": {},
   "outputs": [
    {
     "data": {
      "image/png": "[encoded data removed]",
      "text/plain": [
       "<Figure size 576x360 with 1 Axes>"
      ]
     },
     "metadata": {
      "needs_background": "light"
     },
     "output_type": "display_data"
    }
   ],
   "source": [
    "import matplotlib.pyplot as plt\n",
    "fig = plt.figure(figsize=(8,5))\n",
    "inc_thread_df.groupby('CategoryID').Text.count().plot.bar(ylim=0)\n",
    "plt.show()"
   ]
  },
  {
   "cell_type": "code",
   "execution_count": 42,
   "metadata": {},
   "outputs": [],
   "source": [
    "def decode_text(string):\n",
    "    result = html.unescape(string)\n",
    "    return result"
   ]
  },
  {
   "cell_type": "code",
   "execution_count": 43,
   "metadata": {},
   "outputs": [],
   "source": [
    "inc_thread_df[\"Text\"]=inc_thread_df[\"Text\"].apply(lambda cw: decode_text(cw))"
   ]
  },
  {
   "cell_type": "code",
   "execution_count": 44,
   "metadata": {},
   "outputs": [],
   "source": [
    "inc_thread_df['Text'] = inc_thread_df['Text'].replace(r'https?:\\/\\/.\\S+', '', regex=True).replace(r'www\\S+', '', regex=True)"
   ]
  },
  {
   "cell_type": "code",
   "execution_count": 45,
   "metadata": {},
   "outputs": [],
   "source": [
    "inc_thread_df[\"Text\"]=inc_thread_df[\"Text\"].str.lower()"
   ]
  },
  {
   "cell_type": "code",
   "execution_count": 46,
   "metadata": {},
   "outputs": [],
   "source": [
    "inc_thread_df[\"Text\"]=inc_thread_df[\"Text\"].str.replace('dtype','').str.replace('nanname','').str.replace('hi','')"
   ]
  },
  {
   "cell_type": "code",
   "execution_count": 47,
   "metadata": {},
   "outputs": [],
   "source": [
    "Apos_dict={\"'s\":\" is\",\"n't\":\" not\",\"'m\":\" am\",\"'ll\":\" will\",\"'d\":\" would\",\"'ve\":\" have\",\"'re\":\" are\"}\n",
    "def contraction_text(string):\n",
    "    for key,value in Apos_dict.items():\n",
    "        if key in string:\n",
    "            result=string.replace(key,value)\n",
    "            return result\n",
    "        else:\n",
    "            return string"
   ]
  },
  {
   "cell_type": "code",
   "execution_count": 48,
   "metadata": {},
   "outputs": [],
   "source": [
    "inc_thread_df[\"Text\"]=inc_thread_df[\"Text\"].apply(lambda cw: contraction_text(cw))"
   ]
  },
  {
   "cell_type": "code",
   "execution_count": 49,
   "metadata": {},
   "outputs": [],
   "source": [
    "def punction_text(string):\n",
    "    result = re.sub(r'[^\\w\\s]', '', string)\n",
    "    return result"
   ]
  },
  {
   "cell_type": "code",
   "execution_count": 50,
   "metadata": {},
   "outputs": [],
   "source": [
    "inc_thread_df[\"Text\"]=inc_thread_df[\"Text\"].apply(lambda cw: punction_text(cw))"
   ]
  },
  {
   "cell_type": "code",
   "execution_count": 51,
   "metadata": {},
   "outputs": [],
   "source": [
    "pattern = r'[0-9]'\n",
    "def nums_text(string):\n",
    "    result=re.sub(pattern, '', string)\n",
    "    return result"
   ]
  },
  {
   "cell_type": "code",
   "execution_count": 52,
   "metadata": {},
   "outputs": [],
   "source": [
    "inc_thread_df[\"Text\"]=inc_thread_df[\"Text\"].apply(lambda cw: nums_text(cw))"
   ]
  },
  {
   "cell_type": "code",
   "execution_count": 53,
   "metadata": {},
   "outputs": [],
   "source": [
    "import numpy as np\n",
    "from scipy.stats import randint\n",
    "import seaborn as sns # used for plot interactive graph. \n",
    "import matplotlib.pyplot as plt\n",
    "import seaborn as sns\n",
    "from io import StringIO\n",
    "from sklearn.feature_extraction.text import TfidfVectorizer\n",
    "from sklearn.feature_selection import chi2\n",
    "from IPython.display import display\n",
    "from sklearn.model_selection import train_test_split\n",
    "from sklearn.feature_extraction.text import TfidfTransformer\n",
    "from sklearn.naive_bayes import MultinomialNB\n",
    "from sklearn.linear_model import LogisticRegression\n",
    "from sklearn.ensemble import RandomForestClassifier\n",
    "from sklearn.svm import LinearSVC\n",
    "from sklearn import svm\n",
    "from sklearn.model_selection import cross_val_score\n",
    "from sklearn.metrics import confusion_matrix\n",
    "from sklearn import metrics"
   ]
  },
  {
   "cell_type": "code",
   "execution_count": 54,
   "metadata": {},
   "outputs": [],
   "source": [
    "inc_thread_df['cat_id'] = inc_thread_df['CategoryID'].factorize()[0]\n",
    "category_id_f2 = inc_thread_df[['CategoryID', 'cat_id']].drop_duplicates()\n",
    "\n",
    "cat_to_id = dict(category_id_f2.values)\n",
    "id_to_category = dict(category_id_f2[['cat_id', 'CategoryID']].values)"
   ]
  },
  {
   "cell_type": "code",
   "execution_count": 55,
   "metadata": {},
   "outputs": [
    {
     "data": {
      "text/html": [
       "<div>\n",
       "<style scoped>\n",
       "    .dataframe tbody tr th:only-of-type {\n",
       "        vertical-align: middle;\n",
       "    }\n",
       "\n",
       "    .dataframe tbody tr th {\n",
       "        vertical-align: top;\n",
       "    }\n",
       "\n",
       "    .dataframe thead th {\n",
       "        text-align: right;\n",
       "    }\n",
       "</style>\n",
       "<table border=\"1\" class=\"dataframe\">\n",
       "  <thead>\n",
       "    <tr style=\"text-align: right;\">\n",
       "      <th></th>\n",
       "      <th>Incident ID</th>\n",
       "      <th>Text</th>\n",
       "      <th>Status</th>\n",
       "      <th>Subject</th>\n",
       "      <th>CategoryID</th>\n",
       "      <th>cat_id</th>\n",
       "    </tr>\n",
       "  </thead>\n",
       "  <tbody>\n",
       "    <tr>\n",
       "      <th>28152</th>\n",
       "      <td>11751.0</td>\n",
       "      <td>email verification      mike  as we discussed ...</td>\n",
       "      <td>Solved</td>\n",
       "      <td>Email Verification</td>\n",
       "      <td>Oracle</td>\n",
       "      <td>0</td>\n",
       "    </tr>\n",
       "    <tr>\n",
       "      <th>32196</th>\n",
       "      <td>12395.0</td>\n",
       "      <td>nwr customer portal redesign     our website  ...</td>\n",
       "      <td>Solved</td>\n",
       "      <td>NWR: Customer portal re-design</td>\n",
       "      <td>Oracle</td>\n",
       "      <td>0</td>\n",
       "    </tr>\n",
       "    <tr>\n",
       "      <th>33137</th>\n",
       "      <td>12528.0</td>\n",
       "      <td>ucu cp law extra and future status     michael...</td>\n",
       "      <td>Solved</td>\n",
       "      <td>UCU CP Law Extra and Future Status</td>\n",
       "      <td>Oracle</td>\n",
       "      <td>0</td>\n",
       "    </tr>\n",
       "    <tr>\n",
       "      <th>37213</th>\n",
       "      <td>13055.0</td>\n",
       "      <td>right now  bdma tab mail merge       i need to...</td>\n",
       "      <td>Solved</td>\n",
       "      <td>Right Now - BDMA Tab Mail Merge</td>\n",
       "      <td>Oracle</td>\n",
       "      <td>0</td>\n",
       "    </tr>\n",
       "    <tr>\n",
       "      <th>42683</th>\n",
       "      <td>13678.0</td>\n",
       "      <td>mind  legal sla report  cr  amend filterssla c...</td>\n",
       "      <td>Solved</td>\n",
       "      <td>Mind - Legal SLA Report - CR - Amend Filters/S...</td>\n",
       "      <td>Oracle</td>\n",
       "      <td>0</td>\n",
       "    </tr>\n",
       "    <tr>\n",
       "      <th>42900</th>\n",
       "      <td>13702.0</td>\n",
       "      <td>calm for ca support     we need to introduce c...</td>\n",
       "      <td>Solved</td>\n",
       "      <td>CALM For CA Support</td>\n",
       "      <td>Oracle</td>\n",
       "      <td>0</td>\n",
       "    </tr>\n",
       "    <tr>\n",
       "      <th>43800</th>\n",
       "      <td>13809.0</td>\n",
       "      <td>change requirest for additional table and impo...</td>\n",
       "      <td>Solved</td>\n",
       "      <td>Change requirest for additional table and impo...</td>\n",
       "      <td>Oracle</td>\n",
       "      <td>0</td>\n",
       "    </tr>\n",
       "    <tr>\n",
       "      <th>43847</th>\n",
       "      <td>13811.0</td>\n",
       "      <td>change the country field in caba workspace to ...</td>\n",
       "      <td>Solved</td>\n",
       "      <td>Change the Country field in CABA workspace to ...</td>\n",
       "      <td>Oracle</td>\n",
       "      <td>0</td>\n",
       "    </tr>\n",
       "    <tr>\n",
       "      <th>44015</th>\n",
       "      <td>13838.0</td>\n",
       "      <td>wiltsre table added to ca support along with a...</td>\n",
       "      <td>Solved</td>\n",
       "      <td>Wiltshire table added to CA support along with...</td>\n",
       "      <td>Oracle</td>\n",
       "      <td>0</td>\n",
       "    </tr>\n",
       "    <tr>\n",
       "      <th>44283</th>\n",
       "      <td>13866.0</td>\n",
       "      <td>change request  flagging contact  incident rec...</td>\n",
       "      <td>Solved</td>\n",
       "      <td>CHANGE REQUEST - Flagging Contact &amp; Incident R...</td>\n",
       "      <td>Oracle</td>\n",
       "      <td>0</td>\n",
       "    </tr>\n",
       "  </tbody>\n",
       "</table>\n",
       "</div>"
      ],
      "text/plain": [
       "0      Incident ID                                               Text  Status  \\\n",
       "28152      11751.0  email verification      mike  as we discussed ...  Solved   \n",
       "32196      12395.0  nwr customer portal redesign     our website  ...  Solved   \n",
       "33137      12528.0  ucu cp law extra and future status     michael...  Solved   \n",
       "37213      13055.0  right now  bdma tab mail merge       i need to...  Solved   \n",
       "42683      13678.0  mind  legal sla report  cr  amend filterssla c...  Solved   \n",
       "42900      13702.0  calm for ca support     we need to introduce c...  Solved   \n",
       "43800      13809.0  change requirest for additional table and impo...  Solved   \n",
       "43847      13811.0  change the country field in caba workspace to ...  Solved   \n",
       "44015      13838.0  wiltsre table added to ca support along with a...  Solved   \n",
       "44283      13866.0  change request  flagging contact  incident rec...  Solved   \n",
       "\n",
       "0                                                Subject CategoryID  cat_id  \n",
       "28152                                 Email Verification     Oracle       0  \n",
       "32196                     NWR: Customer portal re-design     Oracle       0  \n",
       "33137                 UCU CP Law Extra and Future Status     Oracle       0  \n",
       "37213                    Right Now - BDMA Tab Mail Merge     Oracle       0  \n",
       "42683  Mind - Legal SLA Report - CR - Amend Filters/S...     Oracle       0  \n",
       "42900                                CALM For CA Support     Oracle       0  \n",
       "43800  Change requirest for additional table and impo...     Oracle       0  \n",
       "43847  Change the Country field in CABA workspace to ...     Oracle       0  \n",
       "44015  Wiltshire table added to CA support along with...     Oracle       0  \n",
       "44283  CHANGE REQUEST - Flagging Contact & Incident R...     Oracle       0  "
      ]
     },
     "execution_count": 55,
     "metadata": {},
     "output_type": "execute_result"
    }
   ],
   "source": [
    "inc_thread_df.head(10)"
   ]
  },
  {
   "cell_type": "code",
   "execution_count": 56,
   "metadata": {},
   "outputs": [
    {
     "name": "stdout",
     "output_type": "stream",
     "text": [
      "Each of the 2304 complaints is represented by 2280 features (TF-IDF score of unigrams and bigrams)\n"
     ]
    }
   ],
   "source": [
    "tfidf = TfidfVectorizer(sublinear_tf=True, min_df=5,\n",
    "                        ngram_range=(1, 2), \n",
    "                        stop_words='english')\n",
    "\n",
    "# We transform each complaint into a vector\n",
    "features = tfidf.fit_transform(inc_thread_df.Text)\n",
    "\n",
    "labels = inc_thread_df.cat_id\n",
    "\n",
    "print(\"Each of the %d complaints is represented by %d features (TF-IDF score of unigrams and bigrams)\" %(features.shape))"
   ]
  },
  {
   "cell_type": "code",
   "execution_count": 57,
   "metadata": {},
   "outputs": [
    {
     "data": {
      "text/plain": [
       "array(['Oracle', 'Sharepoint', 'Infrastructure', 'Telephony',\n",
       "       'Business Process', 'Contract', 'CiviCRM', 'Reporting',\n",
       "       'Added account', 'Not working as expected', 'Updated account',\n",
       "       'Leaver', 'Update process', 'Starter', 'Update report', 'Other',\n",
       "       'Slow loading/response'], dtype=object)"
      ]
     },
     "execution_count": 57,
     "metadata": {},
     "output_type": "execute_result"
    }
   ],
   "source": [
    "inc_thread_df.CategoryID.unique()"
   ]
  },
  {
   "cell_type": "code",
   "execution_count": 58,
   "metadata": {},
   "outputs": [
    {
     "name": "stdout",
     "output_type": "stream",
     "text": [
      "\n",
      "==> Added account:\n",
      "  * Most Correlated Unigrams are: setup, trbl, creation\n",
      "  * Most Correlated Bigrams are: oracle object, account object, oracle access\n",
      "\n",
      "==> Business Process:\n",
      "  * Most Correlated Unigrams are: schedule, scheduled, repor\n",
      "  * Most Correlated Bigrams are: email attached, paul maksimovic, rach ts\n",
      "\n",
      "==> CiviCRM:\n",
      "  * Most Correlated Unigrams are: civi, shaw, healthcare\n",
      "  * Most Correlated Bigrams are: healthcare crm, civi crm, shaw healthcare\n",
      "\n",
      "==> Contract:\n",
      "  * Most Correlated Unigrams are: cust, ctcould, christmas\n",
      "  * Most Correlated Bigrams are: user request, issues headset, discussed ts\n",
      "\n",
      "==> Infrastructure:\n",
      "  * Most Correlated Unigrams are: room, printer, howardmiller\n",
      "  * Most Correlated Bigrams are: debbiethank contacting, mike update, paul howardmiller\n",
      "\n",
      "==> Leaver:\n",
      "  * Most Correlated Unigrams are: volt, close, accounts\n",
      "  * Most Correlated Bigrams are: contacting crm, new starter, accounts object\n",
      "\n",
      "==> Not working as expected:\n",
      "  * Most Correlated Unigrams are: product, blocked, test\n",
      "  * Most Correlated Bigrams are: work object, error object, forwarding object\n",
      "\n",
      "==> Oracle:\n",
      "  * Most Correlated Unigrams are: report, reporting, ross\n",
      "  * Most Correlated Bigrams are: report object, shaw healthcare, reporting object\n",
      "\n",
      "==> Other:\n",
      "  * Most Correlated Unigrams are: notification, card, score\n",
      "  * Most Correlated Bigrams are: contacting crm, new starter, combat stress\n",
      "\n",
      "==> Reporting:\n",
      "  * Most Correlated Unigrams are: reporting, report, ross\n",
      "  * Most Correlated Bigrams are: report ross, reporting object, report object\n",
      "\n",
      "==> Sharepoint:\n",
      "  * Most Correlated Unigrams are: uktv, warrior, sharepoint\n",
      "  * Most Correlated Bigrams are: warrior programme, sharepoint password, sharepoint object\n",
      "\n",
      "==> Slow loading/response:\n",
      "  * Most Correlated Unigrams are: ts, ellis, issues\n",
      "  * Most Correlated Bigrams are: contacting crm, new starter, issues object\n",
      "\n",
      "==> Starter:\n",
      "  * Most Correlated Unigrams are: new, ellis, account\n",
      "  * Most Correlated Bigrams are: new starter, account object, ellis account\n",
      "\n",
      "==> Telephony:\n",
      "  * Most Correlated Unigrams are: demi, jenna, closure\n",
      "  * Most Correlated Bigrams are: demi thank, demithank contacting, ethernet cable\n",
      "\n",
      "==> Update process:\n",
      "  * Most Correlated Unigrams are: object, customer, file\n",
      "  * Most Correlated Bigrams are: oracle object, contacting crm, new starter\n",
      "\n",
      "==> Update report:\n",
      "  * Most Correlated Unigrams are: price, test, ooh\n",
      "  * Most Correlated Bigrams are: contacting crm, new starter, reports object\n",
      "\n",
      "==> Updated account:\n",
      "  * Most Correlated Unigrams are: profile, tl, removal\n",
      "  * Most Correlated Bigrams are: oracle object, contacting crm, new starter\n"
     ]
    }
   ],
   "source": [
    "N = 3\n",
    "for CategoryID, cat_id in sorted(cat_to_id.items()):\n",
    "    features_chi = chi2(features, labels == cat_id)\n",
    "    indices = np.argsort(features_chi[0])\n",
    "    feature_names = np.array(tfidf.get_feature_names())[indices]\n",
    "    unigrams = [v for v in feature_names if len(v.split(' ')) == 1]\n",
    "    bigrams = [v for v in feature_names if len(v.split(' ')) == 2]\n",
    "    print(\"\\n==> %s:\" %(CategoryID))\n",
    "    print(\"  * Most Correlated Unigrams are: %s\" %(', '.join(unigrams[-N:])))\n",
    "    print(\"  * Most Correlated Bigrams are: %s\" %(', '.join(bigrams[-N:])))"
   ]
  },
  {
   "cell_type": "code",
   "execution_count": 59,
   "metadata": {},
   "outputs": [],
   "source": [
    "X=inc_thread_df['Text']\n",
    "y=inc_thread_df['CategoryID']"
   ]
  },
  {
   "cell_type": "code",
   "execution_count": 60,
   "metadata": {},
   "outputs": [],
   "source": [
    "X_train, X_test, y_train, y_test = train_test_split(X, y,test_size=0.25,random_state = 0)"
   ]
  },
  {
   "cell_type": "code",
   "execution_count": 61,
   "metadata": {},
   "outputs": [
    {
     "name": "stderr",
     "output_type": "stream",
     "text": [
      "C:\\Users\\tarun\\anaconda3\\lib\\site-packages\\sklearn\\model_selection\\_split.py:665: UserWarning: The least populated class in y has only 1 members, which is less than n_splits=5.\n",
      "  warnings.warn((\"The least populated class in y has only %d\"\n",
      "C:\\Users\\tarun\\anaconda3\\lib\\site-packages\\sklearn\\model_selection\\_split.py:665: UserWarning: The least populated class in y has only 1 members, which is less than n_splits=5.\n",
      "  warnings.warn((\"The least populated class in y has only %d\"\n",
      "C:\\Users\\tarun\\anaconda3\\lib\\site-packages\\sklearn\\model_selection\\_split.py:665: UserWarning: The least populated class in y has only 1 members, which is less than n_splits=5.\n",
      "  warnings.warn((\"The least populated class in y has only %d\"\n",
      "C:\\Users\\tarun\\anaconda3\\lib\\site-packages\\sklearn\\model_selection\\_split.py:665: UserWarning: The least populated class in y has only 1 members, which is less than n_splits=5.\n",
      "  warnings.warn((\"The least populated class in y has only %d\"\n",
      "C:\\Users\\tarun\\anaconda3\\lib\\site-packages\\sklearn\\model_selection\\_split.py:665: UserWarning: The least populated class in y has only 1 members, which is less than n_splits=5.\n",
      "  warnings.warn((\"The least populated class in y has only %d\"\n"
     ]
    }
   ],
   "source": [
    "models = [\n",
    "    RandomForestClassifier(n_estimators=100, max_depth=5, random_state=0),\n",
    "    LinearSVC(),\n",
    "    MultinomialNB(),\n",
    "    LogisticRegression(random_state=0),\n",
    "    svm.SVC()\n",
    "]\n",
    "\n",
    "# 5 Cross-validation\n",
    "CV = 5\n",
    "cv_df = pd.DataFrame(index=range(CV * len(models)))\n",
    "\n",
    "entries = []\n",
    "for model in models:\n",
    "    model_name = model.__class__.__name__\n",
    "    accuracies = cross_val_score(model, features, labels, scoring='accuracy', cv=CV)\n",
    "    for fold_idx, accuracy in enumerate(accuracies):\n",
    "        entries.append((model_name, fold_idx, accuracy))\n",
    "    \n",
    "cv_df = pd.DataFrame(entries, columns=['model_name', 'fold_idx', 'accuracy'])"
   ]
  },
  {
   "cell_type": "code",
   "execution_count": 62,
   "metadata": {},
   "outputs": [
    {
     "data": {
      "text/html": [
       "<div>\n",
       "<style scoped>\n",
       "    .dataframe tbody tr th:only-of-type {\n",
       "        vertical-align: middle;\n",
       "    }\n",
       "\n",
       "    .dataframe tbody tr th {\n",
       "        vertical-align: top;\n",
       "    }\n",
       "\n",
       "    .dataframe thead th {\n",
       "        text-align: right;\n",
       "    }\n",
       "</style>\n",
       "<table border=\"1\" class=\"dataframe\">\n",
       "  <thead>\n",
       "    <tr style=\"text-align: right;\">\n",
       "      <th></th>\n",
       "      <th>Mean Accuracy</th>\n",
       "      <th>Standard deviation</th>\n",
       "    </tr>\n",
       "    <tr>\n",
       "      <th>model_name</th>\n",
       "      <th></th>\n",
       "      <th></th>\n",
       "    </tr>\n",
       "  </thead>\n",
       "  <tbody>\n",
       "    <tr>\n",
       "      <th>LinearSVC</th>\n",
       "      <td>0.774318</td>\n",
       "      <td>0.019124</td>\n",
       "    </tr>\n",
       "    <tr>\n",
       "      <th>LogisticRegression</th>\n",
       "      <td>0.770840</td>\n",
       "      <td>0.016449</td>\n",
       "    </tr>\n",
       "    <tr>\n",
       "      <th>MultinomialNB</th>\n",
       "      <td>0.749140</td>\n",
       "      <td>0.020954</td>\n",
       "    </tr>\n",
       "    <tr>\n",
       "      <th>RandomForestClassifier</th>\n",
       "      <td>0.673611</td>\n",
       "      <td>0.001886</td>\n",
       "    </tr>\n",
       "    <tr>\n",
       "      <th>SVC</th>\n",
       "      <td>0.768241</td>\n",
       "      <td>0.020046</td>\n",
       "    </tr>\n",
       "  </tbody>\n",
       "</table>\n",
       "</div>"
      ],
      "text/plain": [
       "                        Mean Accuracy  Standard deviation\n",
       "model_name                                               \n",
       "LinearSVC                    0.774318            0.019124\n",
       "LogisticRegression           0.770840            0.016449\n",
       "MultinomialNB                0.749140            0.020954\n",
       "RandomForestClassifier       0.673611            0.001886\n",
       "SVC                          0.768241            0.020046"
      ]
     },
     "execution_count": 62,
     "metadata": {},
     "output_type": "execute_result"
    }
   ],
   "source": [
    "mean_accuracy = cv_df.groupby('model_name').accuracy.mean()\n",
    "std_accuracy = cv_df.groupby('model_name').accuracy.std()\n",
    "\n",
    "acc = pd.concat([mean_accuracy, std_accuracy], axis= 1, \n",
    "          ignore_index=True)\n",
    "acc.columns = ['Mean Accuracy', 'Standard deviation']\n",
    "acc"
   ]
  },
  {
   "cell_type": "code",
   "execution_count": 63,
   "metadata": {},
   "outputs": [
    {
     "data": {
      "image/png": "[encoded data removed]",
      "text/plain": [
       "<Figure size 576x360 with 1 Axes>"
      ]
     },
     "metadata": {
      "needs_background": "light"
     },
     "output_type": "display_data"
    }
   ],
   "source": [
    "plt.figure(figsize=(8,5))\n",
    "sns.boxplot(x='model_name', y='accuracy', \n",
    "            data=cv_df, \n",
    "            color='lightblue', \n",
    "            showmeans=True)\n",
    "plt.title(\"MEAN ACCURACY (cv = 5)\\n\", size=14);"
   ]
  },
  {
   "cell_type": "code",
   "execution_count": 64,
   "metadata": {},
   "outputs": [],
   "source": [
    "X_train, X_test, y_train, y_test,indices_train,indices_test = train_test_split(features, \n",
    "                                                               labels, \n",
    "                                                               inc_thread_df.index, test_size=0.2, \n",
    "                                                               random_state=42)\n",
    "model = LogisticRegression()\n",
    "model.fit(X_train, y_train)\n",
    "y_pred = model.predict(X_test)"
   ]
  },
  {
   "cell_type": "code",
   "execution_count": 65,
   "metadata": {},
   "outputs": [
    {
     "name": "stdout",
     "output_type": "stream",
     "text": [
      "\t\t\t\tCLASSIFICATIION METRICS\n",
      "\n",
      "              precision    recall  f1-score   support\n",
      "\n",
      "           0       0.76      0.99      0.86       307\n",
      "           1       0.89      0.22      0.36        36\n",
      "           2       0.00      0.00      0.00         5\n",
      "           3       0.50      0.04      0.07        28\n",
      "           5       0.00      0.00      0.00         1\n",
      "           6       1.00      0.20      0.33        10\n",
      "           7       0.90      0.65      0.75        71\n",
      "           8       0.00      0.00      0.00         2\n",
      "           9       0.00      0.00      0.00         1\n",
      "\n",
      "    accuracy                           0.78       461\n",
      "   macro avg       0.45      0.23      0.26       461\n",
      "weighted avg       0.77      0.78      0.73       461\n",
      "\n"
     ]
    },
    {
     "name": "stderr",
     "output_type": "stream",
     "text": [
      "C:\\Users\\tarun\\anaconda3\\lib\\site-packages\\sklearn\\metrics\\_classification.py:1272: UndefinedMetricWarning: Precision and F-score are ill-defined and being set to 0.0 in labels with no predicted samples. Use `zero_division` parameter to control this behavior.\n",
      "  _warn_prf(average, modifier, msg_start, len(result))\n"
     ]
    }
   ],
   "source": [
    "print('\\t\\t\\t\\tCLASSIFICATIION METRICS\\n')\n",
    "print(metrics.classification_report(y_test, y_pred))"
   ]
  },
  {
   "cell_type": "code",
   "execution_count": 66,
   "metadata": {},
   "outputs": [],
   "source": [
    "X_train, X_test, y_train, y_test,indices_train,indices_test = train_test_split(features, \n",
    "                                                               labels, \n",
    "                                                               inc_thread_df.index, test_size=0.2, \n",
    "                                                               random_state=42)\n",
    "model = LinearSVC()\n",
    "model.fit(X_train, y_train)\n",
    "y_pred = model.predict(X_test)"
   ]
  },
  {
   "cell_type": "code",
   "execution_count": 67,
   "metadata": {},
   "outputs": [
    {
     "name": "stdout",
     "output_type": "stream",
     "text": [
      "\t\t\t\tCLASSIFICATIION METRICS\n",
      "\n",
      "              precision    recall  f1-score   support\n",
      "\n",
      "           0       0.83      0.96      0.89       307\n",
      "           1       0.85      0.47      0.61        36\n",
      "           2       0.00      0.00      0.00         5\n",
      "           3       0.33      0.18      0.23        28\n",
      "           5       0.00      0.00      0.00         1\n",
      "           6       0.67      0.40      0.50        10\n",
      "           7       0.84      0.75      0.79        71\n",
      "           8       0.00      0.00      0.00         2\n",
      "           9       0.00      0.00      0.00         1\n",
      "          15       0.00      0.00      0.00         0\n",
      "\n",
      "    accuracy                           0.81       461\n",
      "   macro avg       0.35      0.28      0.30       461\n",
      "weighted avg       0.78      0.81      0.79       461\n",
      "\n"
     ]
    },
    {
     "name": "stderr",
     "output_type": "stream",
     "text": [
      "C:\\Users\\tarun\\anaconda3\\lib\\site-packages\\sklearn\\metrics\\_classification.py:1272: UndefinedMetricWarning: Recall and F-score are ill-defined and being set to 0.0 in labels with no true samples. Use `zero_division` parameter to control this behavior.\n",
      "  _warn_prf(average, modifier, msg_start, len(result))\n"
     ]
    }
   ],
   "source": [
    "print('\\t\\t\\t\\tCLASSIFICATIION METRICS\\n')\n",
    "print(metrics.classification_report(y_test, y_pred))"
   ]
  },
  {
   "cell_type": "code",
   "execution_count": 68,
   "metadata": {},
   "outputs": [],
   "source": [
    "X_train, X_test, y_train, y_test = train_test_split(X, y, \n",
    "                                                    test_size=0.25,\n",
    "                                                    random_state = 0)\n",
    "\n",
    "tfidf = TfidfVectorizer(sublinear_tf=True, min_df=5,\n",
    "                        ngram_range=(1, 3), \n",
    "                        stop_words='english')\n",
    "\n",
    "fitted_vectorizer = tfidf.fit(X_train)\n",
    "tfidf_vectorizer_vectors = fitted_vectorizer.transform(X_train)\n",
    "\n",
    "model = LogisticRegression().fit(tfidf_vectorizer_vectors, y_train)"
   ]
  },
  {
   "cell_type": "code",
   "execution_count": 69,
   "metadata": {},
   "outputs": [
    {
     "name": "stdout",
     "output_type": "stream",
     "text": [
      "['Oracle']\n"
     ]
    }
   ],
   "source": [
    "new_complaint = \"\"\"Good morning,I have been locked out of my Right Now account, please can you assist?Many thanksHelenHelen TesterWellbeing CoordinatorPharmacist Support5th Floor196 DeansgateManchesterM3 3WFDirect: 0161 441 0811Enquiry Line: 0808 168 2233Website: www.pharmacistsupport.org<http://www.pharmacistsupport.org/>NEW Charity Number:Pharmacist Support is a charitable company limited by guarantee registered in England and Wales with company number 9237609 and charity number 1158974.\"\"\"\n",
    "print(model.predict(fitted_vectorizer.transform([new_complaint])))"
   ]
  },
  {
   "cell_type": "code",
   "execution_count": 70,
   "metadata": {},
   "outputs": [],
   "source": [
    "X_train, X_test, y_train, y_test = train_test_split(X, y, \n",
    "                                                    test_size=0.25,\n",
    "                                                    random_state = 0)\n",
    "\n",
    "tfidf = TfidfVectorizer(sublinear_tf=True, min_df=5,\n",
    "                        ngram_range=(1, 3), \n",
    "                        stop_words='english')\n",
    "\n",
    "fitted_vectorizer = tfidf.fit(X_train)\n",
    "tfidf_vectorizer_vectors = fitted_vectorizer.transform(X_train)\n",
    "\n",
    "model = LinearSVC().fit(tfidf_vectorizer_vectors, y_train)"
   ]
  },
  {
   "cell_type": "code",
   "execution_count": 71,
   "metadata": {},
   "outputs": [
    {
     "name": "stdout",
     "output_type": "stream",
     "text": [
      "['Oracle']\n"
     ]
    }
   ],
   "source": [
    "print(model.predict(fitted_vectorizer.transform([new_complaint])))"
   ]
  },
  {
   "cell_type": "code",
   "execution_count": null,
   "metadata": {},
   "outputs": [],
   "source": []
  }
 ],
 "metadata": {
  "kernelspec": {
   "display_name": "Python 3",
   "language": "python",
   "name": "python3"
  },
  "language_info": {
   "codemirror_mode": {
    "name": "ipython",
    "version": 3
   },
   "file_extension": ".py",
   "mimetype": "text/x-python",
   "name": "python",
   "nbconvert_exporter": "python",
   "pygments_lexer": "ipython3",
   "version": "3.8.3"
  }
 },
 "nbformat": 4,
 "nbformat_minor": 4
}
