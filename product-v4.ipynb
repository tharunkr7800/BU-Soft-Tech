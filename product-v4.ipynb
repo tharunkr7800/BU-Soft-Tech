{
 "cells": [
  {
   "cell_type": "code",
   "execution_count": 1,
   "metadata": {},
   "outputs": [],
   "source": [
    "import pandas as pd\n",
    "import re as re\n",
    "import html"
   ]
  },
  {
   "cell_type": "code",
   "execution_count": 2,
   "metadata": {},
   "outputs": [],
   "source": [
    "thread_df=pd.read_excel(\"C:\\\\Users\\\\tarun\\\\Downloads\\\\Sample Data\\\\Sample Data\\\\Threads.xlsx\")"
   ]
  },
  {
   "cell_type": "code",
   "execution_count": 3,
   "metadata": {},
   "outputs": [],
   "source": [
    "incident_df=pd.read_excel(\"C:\\\\Users\\\\tarun\\\\Downloads\\\\Sample Data\\\\Sample Data\\\\Incidents.xlsx\")"
   ]
  },
  {
   "cell_type": "code",
   "execution_count": 4,
   "metadata": {},
   "outputs": [
    {
     "data": {
      "text/html": [
       "<div>\n",
       "<style scoped>\n",
       "    .dataframe tbody tr th:only-of-type {\n",
       "        vertical-align: middle;\n",
       "    }\n",
       "\n",
       "    .dataframe tbody tr th {\n",
       "        vertical-align: top;\n",
       "    }\n",
       "\n",
       "    .dataframe thead th {\n",
       "        text-align: right;\n",
       "    }\n",
       "</style>\n",
       "<table border=\"1\" class=\"dataframe\">\n",
       "  <thead>\n",
       "    <tr style=\"text-align: right;\">\n",
       "      <th></th>\n",
       "      <th>Threads</th>\n",
       "      <th>Unnamed: 1</th>\n",
       "      <th>Unnamed: 2</th>\n",
       "      <th>Unnamed: 3</th>\n",
       "      <th>Unnamed: 4</th>\n",
       "      <th>Unnamed: 5</th>\n",
       "      <th>Unnamed: 6</th>\n",
       "      <th>Unnamed: 7</th>\n",
       "      <th>Unnamed: 8</th>\n",
       "      <th>Unnamed: 9</th>\n",
       "      <th>Unnamed: 10</th>\n",
       "      <th>Unnamed: 11</th>\n",
       "    </tr>\n",
       "  </thead>\n",
       "  <tbody>\n",
       "    <tr>\n",
       "      <th>0</th>\n",
       "      <td>Foreign Key</td>\n",
       "      <td>Incident Thread ID</td>\n",
       "      <td>Account</td>\n",
       "      <td>Attributes</td>\n",
       "      <td>Date Created</td>\n",
       "      <td>Contact ID</td>\n",
       "      <td>Channel ID</td>\n",
       "      <td>Email Header</td>\n",
       "      <td>Sequence</td>\n",
       "      <td>SmartSense Indicator</td>\n",
       "      <td>Text</td>\n",
       "      <td>Thread Entry Type</td>\n",
       "    </tr>\n",
       "    <tr>\n",
       "      <th>1</th>\n",
       "      <td>2601</td>\n",
       "      <td>2773</td>\n",
       "      <td>No Value</td>\n",
       "      <td>No Value</td>\n",
       "      <td>04/10/2010 09:22</td>\n",
       "      <td>402</td>\n",
       "      <td>MA Email</td>\n",
       "      <td>No Value</td>\n",
       "      <td>1</td>\n",
       "      <td>0</td>\n",
       "      <td>\\n\\n==================== text File Attachment ...</td>\n",
       "      <td>Customer</td>\n",
       "    </tr>\n",
       "  </tbody>\n",
       "</table>\n",
       "</div>"
      ],
      "text/plain": [
       "       Threads          Unnamed: 1 Unnamed: 2  Unnamed: 3        Unnamed: 4  \\\n",
       "0  Foreign Key  Incident Thread ID    Account  Attributes      Date Created   \n",
       "1         2601                2773   No Value    No Value  04/10/2010 09:22   \n",
       "\n",
       "   Unnamed: 5  Unnamed: 6    Unnamed: 7 Unnamed: 8            Unnamed: 9  \\\n",
       "0  Contact ID  Channel ID  Email Header   Sequence  SmartSense Indicator   \n",
       "1         402    MA Email      No Value          1                     0   \n",
       "\n",
       "                                         Unnamed: 10        Unnamed: 11  \n",
       "0                                               Text  Thread Entry Type  \n",
       "1  \\n\\n==================== text File Attachment ...           Customer  "
      ]
     },
     "execution_count": 4,
     "metadata": {},
     "output_type": "execute_result"
    }
   ],
   "source": [
    "thread_df.head(2)"
   ]
  },
  {
   "cell_type": "code",
   "execution_count": 5,
   "metadata": {},
   "outputs": [
    {
     "data": {
      "text/html": [
       "<div>\n",
       "<style scoped>\n",
       "    .dataframe tbody tr th:only-of-type {\n",
       "        vertical-align: middle;\n",
       "    }\n",
       "\n",
       "    .dataframe tbody tr th {\n",
       "        vertical-align: top;\n",
       "    }\n",
       "\n",
       "    .dataframe thead th {\n",
       "        text-align: right;\n",
       "    }\n",
       "</style>\n",
       "<table border=\"1\" class=\"dataframe\">\n",
       "  <thead>\n",
       "    <tr style=\"text-align: right;\">\n",
       "      <th></th>\n",
       "      <th>Incidents</th>\n",
       "      <th>Unnamed: 1</th>\n",
       "      <th>Unnamed: 2</th>\n",
       "      <th>Unnamed: 3</th>\n",
       "      <th>Unnamed: 4</th>\n",
       "      <th>Unnamed: 5</th>\n",
       "      <th>Unnamed: 6</th>\n",
       "      <th>Unnamed: 7</th>\n",
       "      <th>Unnamed: 8</th>\n",
       "      <th>Unnamed: 9</th>\n",
       "      <th>Unnamed: 10</th>\n",
       "      <th>Unnamed: 11</th>\n",
       "      <th>Unnamed: 12</th>\n",
       "    </tr>\n",
       "  </thead>\n",
       "  <tbody>\n",
       "    <tr>\n",
       "      <th>0</th>\n",
       "      <td>Reference #</td>\n",
       "      <td>Incident ID</td>\n",
       "      <td>Assigned Account</td>\n",
       "      <td>Severity</td>\n",
       "      <td>Status</td>\n",
       "      <td>Status Type</td>\n",
       "      <td>Subject</td>\n",
       "      <td>Product ID</td>\n",
       "      <td>Organisation ID</td>\n",
       "      <td>Date Closed</td>\n",
       "      <td>Date Created</td>\n",
       "      <td>Contact ID</td>\n",
       "      <td>Category ID</td>\n",
       "    </tr>\n",
       "    <tr>\n",
       "      <th>1</th>\n",
       "      <td>100825-000001</td>\n",
       "      <td>2554</td>\n",
       "      <td>Stephen Pickett</td>\n",
       "      <td>No Value</td>\n",
       "      <td>Solved</td>\n",
       "      <td>Solved</td>\n",
       "      <td>A4e Professional Services work</td>\n",
       "      <td>No Value</td>\n",
       "      <td>1</td>\n",
       "      <td>25/08/2010 12:00</td>\n",
       "      <td>25/08/2010 12:00</td>\n",
       "      <td>573</td>\n",
       "      <td>No Value</td>\n",
       "    </tr>\n",
       "  </tbody>\n",
       "</table>\n",
       "</div>"
      ],
      "text/plain": [
       "       Incidents   Unnamed: 1        Unnamed: 2 Unnamed: 3 Unnamed: 4  \\\n",
       "0    Reference #  Incident ID  Assigned Account   Severity     Status   \n",
       "1  100825-000001         2554   Stephen Pickett   No Value     Solved   \n",
       "\n",
       "    Unnamed: 5                      Unnamed: 6  Unnamed: 7       Unnamed: 8  \\\n",
       "0  Status Type                         Subject  Product ID  Organisation ID   \n",
       "1       Solved  A4e Professional Services work    No Value                1   \n",
       "\n",
       "         Unnamed: 9       Unnamed: 10 Unnamed: 11  Unnamed: 12  \n",
       "0       Date Closed      Date Created  Contact ID  Category ID  \n",
       "1  25/08/2010 12:00  25/08/2010 12:00         573     No Value  "
      ]
     },
     "execution_count": 5,
     "metadata": {},
     "output_type": "execute_result"
    }
   ],
   "source": [
    "incident_df.head(2)"
   ]
  },
  {
   "cell_type": "code",
   "execution_count": 6,
   "metadata": {},
   "outputs": [],
   "source": [
    "header_row=0\n",
    "thread_df.columns = thread_df.iloc[header_row]\n",
    "incident_df.columns = incident_df.iloc[header_row]\n",
    "thread_df=thread_df.drop(header_row)\n",
    "incident_df=incident_df.drop(header_row)"
   ]
  },
  {
   "cell_type": "code",
   "execution_count": 7,
   "metadata": {},
   "outputs": [
    {
     "data": {
      "text/html": [
       "<div>\n",
       "<style scoped>\n",
       "    .dataframe tbody tr th:only-of-type {\n",
       "        vertical-align: middle;\n",
       "    }\n",
       "\n",
       "    .dataframe tbody tr th {\n",
       "        vertical-align: top;\n",
       "    }\n",
       "\n",
       "    .dataframe thead th {\n",
       "        text-align: right;\n",
       "    }\n",
       "</style>\n",
       "<table border=\"1\" class=\"dataframe\">\n",
       "  <thead>\n",
       "    <tr style=\"text-align: right;\">\n",
       "      <th></th>\n",
       "      <th>Foreign Key</th>\n",
       "      <th>Incident Thread ID</th>\n",
       "      <th>Account</th>\n",
       "      <th>Attributes</th>\n",
       "      <th>Date Created</th>\n",
       "      <th>Contact ID</th>\n",
       "      <th>Channel ID</th>\n",
       "      <th>Email Header</th>\n",
       "      <th>Sequence</th>\n",
       "      <th>SmartSense Indicator</th>\n",
       "      <th>Text</th>\n",
       "      <th>Thread Entry Type</th>\n",
       "    </tr>\n",
       "  </thead>\n",
       "  <tbody>\n",
       "    <tr>\n",
       "      <th>1</th>\n",
       "      <td>2601</td>\n",
       "      <td>2773</td>\n",
       "      <td>No Value</td>\n",
       "      <td>No Value</td>\n",
       "      <td>04/10/2010 09:22</td>\n",
       "      <td>402</td>\n",
       "      <td>MA Email</td>\n",
       "      <td>No Value</td>\n",
       "      <td>1</td>\n",
       "      <td>0</td>\n",
       "      <td>\\n\\n==================== text File Attachment ...</td>\n",
       "      <td>Customer</td>\n",
       "    </tr>\n",
       "    <tr>\n",
       "      <th>2</th>\n",
       "      <td>2632</td>\n",
       "      <td>2809</td>\n",
       "      <td>No Value</td>\n",
       "      <td>No Value</td>\n",
       "      <td>05/11/2010 09:50</td>\n",
       "      <td>1983</td>\n",
       "      <td>CSS Web</td>\n",
       "      <td>No Value</td>\n",
       "      <td>1</td>\n",
       "      <td>5</td>\n",
       "      <td>Agents are experiencing an issue with Rightnow...</td>\n",
       "      <td>Customer</td>\n",
       "    </tr>\n",
       "    <tr>\n",
       "      <th>3</th>\n",
       "      <td>2601</td>\n",
       "      <td>2839</td>\n",
       "      <td>Stephen Pickett</td>\n",
       "      <td>No Value</td>\n",
       "      <td>11/01/2011 11:58</td>\n",
       "      <td>0</td>\n",
       "      <td>No Value</td>\n",
       "      <td>No Value</td>\n",
       "      <td>1</td>\n",
       "      <td>0</td>\n",
       "      <td>Ad, see the attachment.</td>\n",
       "      <td>Note</td>\n",
       "    </tr>\n",
       "    <tr>\n",
       "      <th>4</th>\n",
       "      <td>2655</td>\n",
       "      <td>2842</td>\n",
       "      <td>No Value</td>\n",
       "      <td>No Value</td>\n",
       "      <td>12/01/2011 10:36</td>\n",
       "      <td>1243</td>\n",
       "      <td>CSS Web</td>\n",
       "      <td>No Value</td>\n",
       "      <td>1</td>\n",
       "      <td>-2</td>\n",
       "      <td>the phone display states \\nNo service\\nTrying ...</td>\n",
       "      <td>Customer</td>\n",
       "    </tr>\n",
       "    <tr>\n",
       "      <th>5</th>\n",
       "      <td>2655</td>\n",
       "      <td>2843</td>\n",
       "      <td>Alan Cheng</td>\n",
       "      <td>No Value</td>\n",
       "      <td>12/01/2011 11:02</td>\n",
       "      <td>0</td>\n",
       "      <td>Email</td>\n",
       "      <td>No Value</td>\n",
       "      <td>1</td>\n",
       "      <td>-48</td>\n",
       "      <td>Had a look, appears to be a network port issue...</td>\n",
       "      <td>Staff Account</td>\n",
       "    </tr>\n",
       "  </tbody>\n",
       "</table>\n",
       "</div>"
      ],
      "text/plain": [
       "0 Foreign Key Incident Thread ID          Account Attributes  \\\n",
       "1        2601               2773         No Value   No Value   \n",
       "2        2632               2809         No Value   No Value   \n",
       "3        2601               2839  Stephen Pickett   No Value   \n",
       "4        2655               2842         No Value   No Value   \n",
       "5        2655               2843       Alan Cheng   No Value   \n",
       "\n",
       "0      Date Created Contact ID Channel ID Email Header Sequence  \\\n",
       "1  04/10/2010 09:22        402   MA Email     No Value        1   \n",
       "2  05/11/2010 09:50       1983    CSS Web     No Value        1   \n",
       "3  11/01/2011 11:58          0   No Value     No Value        1   \n",
       "4  12/01/2011 10:36       1243    CSS Web     No Value        1   \n",
       "5  12/01/2011 11:02          0      Email     No Value        1   \n",
       "\n",
       "0 SmartSense Indicator                                               Text  \\\n",
       "1                    0  \\n\\n==================== text File Attachment ...   \n",
       "2                    5  Agents are experiencing an issue with Rightnow...   \n",
       "3                    0                            Ad, see the attachment.   \n",
       "4                   -2  the phone display states \\nNo service\\nTrying ...   \n",
       "5                  -48  Had a look, appears to be a network port issue...   \n",
       "\n",
       "0 Thread Entry Type  \n",
       "1          Customer  \n",
       "2          Customer  \n",
       "3              Note  \n",
       "4          Customer  \n",
       "5     Staff Account  "
      ]
     },
     "execution_count": 7,
     "metadata": {},
     "output_type": "execute_result"
    }
   ],
   "source": [
    "thread_df.head()"
   ]
  },
  {
   "cell_type": "code",
   "execution_count": 8,
   "metadata": {},
   "outputs": [
    {
     "data": {
      "text/html": [
       "<div>\n",
       "<style scoped>\n",
       "    .dataframe tbody tr th:only-of-type {\n",
       "        vertical-align: middle;\n",
       "    }\n",
       "\n",
       "    .dataframe tbody tr th {\n",
       "        vertical-align: top;\n",
       "    }\n",
       "\n",
       "    .dataframe thead th {\n",
       "        text-align: right;\n",
       "    }\n",
       "</style>\n",
       "<table border=\"1\" class=\"dataframe\">\n",
       "  <thead>\n",
       "    <tr style=\"text-align: right;\">\n",
       "      <th></th>\n",
       "      <th>Reference #</th>\n",
       "      <th>Incident ID</th>\n",
       "      <th>Assigned Account</th>\n",
       "      <th>Severity</th>\n",
       "      <th>Status</th>\n",
       "      <th>Status Type</th>\n",
       "      <th>Subject</th>\n",
       "      <th>Product ID</th>\n",
       "      <th>Organisation ID</th>\n",
       "      <th>Date Closed</th>\n",
       "      <th>Date Created</th>\n",
       "      <th>Contact ID</th>\n",
       "      <th>Category ID</th>\n",
       "    </tr>\n",
       "  </thead>\n",
       "  <tbody>\n",
       "    <tr>\n",
       "      <th>1</th>\n",
       "      <td>100825-000001</td>\n",
       "      <td>2554</td>\n",
       "      <td>Stephen Pickett</td>\n",
       "      <td>No Value</td>\n",
       "      <td>Solved</td>\n",
       "      <td>Solved</td>\n",
       "      <td>A4e Professional Services work</td>\n",
       "      <td>No Value</td>\n",
       "      <td>1</td>\n",
       "      <td>25/08/2010 12:00</td>\n",
       "      <td>25/08/2010 12:00</td>\n",
       "      <td>573</td>\n",
       "      <td>No Value</td>\n",
       "    </tr>\n",
       "    <tr>\n",
       "      <th>2</th>\n",
       "      <td>101004-000000</td>\n",
       "      <td>2601</td>\n",
       "      <td>Adam Wilkinson</td>\n",
       "      <td>No Value</td>\n",
       "      <td>Solved</td>\n",
       "      <td>Solved</td>\n",
       "      <td>Measuring effectiveness increases effectiveness</td>\n",
       "      <td>No Value</td>\n",
       "      <td>29</td>\n",
       "      <td>11/01/2011 12:07</td>\n",
       "      <td>04/10/2010 09:22</td>\n",
       "      <td>402</td>\n",
       "      <td>No Value</td>\n",
       "    </tr>\n",
       "    <tr>\n",
       "      <th>3</th>\n",
       "      <td>101102-000000</td>\n",
       "      <td>2619</td>\n",
       "      <td>Stephen Pickett</td>\n",
       "      <td>No Value</td>\n",
       "      <td>Solved</td>\n",
       "      <td>Solved</td>\n",
       "      <td>Infoco Answer Export Tool</td>\n",
       "      <td>RightNow</td>\n",
       "      <td>560</td>\n",
       "      <td>02/11/2010 12:05</td>\n",
       "      <td>02/11/2010 12:05</td>\n",
       "      <td>2157</td>\n",
       "      <td>No Value</td>\n",
       "    </tr>\n",
       "    <tr>\n",
       "      <th>4</th>\n",
       "      <td>101102-000001</td>\n",
       "      <td>2620</td>\n",
       "      <td>Chris Farmer</td>\n",
       "      <td>Medium</td>\n",
       "      <td>Solved</td>\n",
       "      <td>Solved</td>\n",
       "      <td>THA: The Family Information Direct/Helplines S...</td>\n",
       "      <td>No Value</td>\n",
       "      <td>562</td>\n",
       "      <td>24/02/2011 13:56</td>\n",
       "      <td>02/11/2010 12:46</td>\n",
       "      <td>2144</td>\n",
       "      <td>No Value</td>\n",
       "    </tr>\n",
       "    <tr>\n",
       "      <th>5</th>\n",
       "      <td>101105-000000</td>\n",
       "      <td>2632</td>\n",
       "      <td>Alan Cheng</td>\n",
       "      <td>Medium</td>\n",
       "      <td>Solved</td>\n",
       "      <td>Solved</td>\n",
       "      <td>incident screen freezing incident - Ref 100924...</td>\n",
       "      <td>Instance Freezing</td>\n",
       "      <td>473</td>\n",
       "      <td>16/02/2011 15:09</td>\n",
       "      <td>05/11/2010 09:50</td>\n",
       "      <td>1983</td>\n",
       "      <td>No Value</td>\n",
       "    </tr>\n",
       "  </tbody>\n",
       "</table>\n",
       "</div>"
      ],
      "text/plain": [
       "0    Reference # Incident ID Assigned Account  Severity  Status Status Type  \\\n",
       "1  100825-000001        2554  Stephen Pickett  No Value  Solved      Solved   \n",
       "2  101004-000000        2601   Adam Wilkinson  No Value  Solved      Solved   \n",
       "3  101102-000000        2619  Stephen Pickett  No Value  Solved      Solved   \n",
       "4  101102-000001        2620     Chris Farmer    Medium  Solved      Solved   \n",
       "5  101105-000000        2632       Alan Cheng    Medium  Solved      Solved   \n",
       "\n",
       "0                                            Subject         Product ID  \\\n",
       "1                     A4e Professional Services work           No Value   \n",
       "2    Measuring effectiveness increases effectiveness           No Value   \n",
       "3                          Infoco Answer Export Tool           RightNow   \n",
       "4  THA: The Family Information Direct/Helplines S...           No Value   \n",
       "5  incident screen freezing incident - Ref 100924...  Instance Freezing   \n",
       "\n",
       "0 Organisation ID       Date Closed      Date Created Contact ID Category ID  \n",
       "1               1  25/08/2010 12:00  25/08/2010 12:00        573    No Value  \n",
       "2              29  11/01/2011 12:07  04/10/2010 09:22        402    No Value  \n",
       "3             560  02/11/2010 12:05  02/11/2010 12:05       2157    No Value  \n",
       "4             562  24/02/2011 13:56  02/11/2010 12:46       2144    No Value  \n",
       "5             473  16/02/2011 15:09  05/11/2010 09:50       1983    No Value  "
      ]
     },
     "execution_count": 8,
     "metadata": {},
     "output_type": "execute_result"
    }
   ],
   "source": [
    "incident_df.head()"
   ]
  },
  {
   "cell_type": "code",
   "execution_count": 9,
   "metadata": {},
   "outputs": [],
   "source": [
    "thread_df.rename(columns={'Foreign Key':'Incident ID'}, inplace=True)\n",
    "incident_df.rename(columns={'Product ID':'ProductID'}, inplace=True)"
   ]
  },
  {
   "cell_type": "code",
   "execution_count": 10,
   "metadata": {},
   "outputs": [],
   "source": [
    "thread_df['Text']=thread_df['Text'].str.replace('\\n','').str.replace('=','')"
   ]
  },
  {
   "cell_type": "code",
   "execution_count": 11,
   "metadata": {},
   "outputs": [
    {
     "data": {
      "text/plain": [
       "(19408, 13)"
      ]
     },
     "execution_count": 11,
     "metadata": {},
     "output_type": "execute_result"
    }
   ],
   "source": [
    "incident_df.shape"
   ]
  },
  {
   "cell_type": "code",
   "execution_count": 12,
   "metadata": {},
   "outputs": [],
   "source": [
    "incident_df=incident_df[incident_df['Status']=='Solved']"
   ]
  },
  {
   "cell_type": "code",
   "execution_count": 13,
   "metadata": {},
   "outputs": [
    {
     "data": {
      "text/plain": [
       "(19197, 13)"
      ]
     },
     "execution_count": 13,
     "metadata": {},
     "output_type": "execute_result"
    }
   ],
   "source": [
    "incident_df.shape"
   ]
  },
  {
   "cell_type": "code",
   "execution_count": 14,
   "metadata": {},
   "outputs": [],
   "source": [
    "inc_thread_df=thread_df[[\"Incident ID\",\"Text\"]].merge(incident_df[[\"Incident ID\",\"Status\",\"Subject\",\"ProductID\"]],on=\"Incident ID\",how=\"left\")"
   ]
  },
  {
   "cell_type": "code",
   "execution_count": 15,
   "metadata": {},
   "outputs": [
    {
     "data": {
      "text/html": [
       "<div>\n",
       "<style scoped>\n",
       "    .dataframe tbody tr th:only-of-type {\n",
       "        vertical-align: middle;\n",
       "    }\n",
       "\n",
       "    .dataframe tbody tr th {\n",
       "        vertical-align: top;\n",
       "    }\n",
       "\n",
       "    .dataframe thead th {\n",
       "        text-align: right;\n",
       "    }\n",
       "</style>\n",
       "<table border=\"1\" class=\"dataframe\">\n",
       "  <thead>\n",
       "    <tr style=\"text-align: right;\">\n",
       "      <th></th>\n",
       "      <th>Incident ID</th>\n",
       "      <th>Text</th>\n",
       "      <th>Status</th>\n",
       "      <th>Subject</th>\n",
       "      <th>ProductID</th>\n",
       "    </tr>\n",
       "  </thead>\n",
       "  <tbody>\n",
       "    <tr>\n",
       "      <th>0</th>\n",
       "      <td>2601</td>\n",
       "      <td>text File Attachment Attachment 1.txt, 6224 b...</td>\n",
       "      <td>Solved</td>\n",
       "      <td>Measuring effectiveness increases effectiveness</td>\n",
       "      <td>No Value</td>\n",
       "    </tr>\n",
       "    <tr>\n",
       "      <th>1</th>\n",
       "      <td>2632</td>\n",
       "      <td>Agents are experiencing an issue with Rightnow...</td>\n",
       "      <td>Solved</td>\n",
       "      <td>incident screen freezing incident - Ref 100924...</td>\n",
       "      <td>Instance Freezing</td>\n",
       "    </tr>\n",
       "    <tr>\n",
       "      <th>2</th>\n",
       "      <td>2601</td>\n",
       "      <td>Ad, see the attachment.</td>\n",
       "      <td>Solved</td>\n",
       "      <td>Measuring effectiveness increases effectiveness</td>\n",
       "      <td>No Value</td>\n",
       "    </tr>\n",
       "    <tr>\n",
       "      <th>3</th>\n",
       "      <td>2655</td>\n",
       "      <td>the phone display states No serviceTrying 10.1...</td>\n",
       "      <td>Solved</td>\n",
       "      <td>Phone on Mandy's desk not working</td>\n",
       "      <td>Other</td>\n",
       "    </tr>\n",
       "    <tr>\n",
       "      <th>4</th>\n",
       "      <td>2655</td>\n",
       "      <td>Had a look, appears to be a network port issue...</td>\n",
       "      <td>Solved</td>\n",
       "      <td>Phone on Mandy's desk not working</td>\n",
       "      <td>Other</td>\n",
       "    </tr>\n",
       "  </tbody>\n",
       "</table>\n",
       "</div>"
      ],
      "text/plain": [
       "0 Incident ID                                               Text  Status  \\\n",
       "0        2601   text File Attachment Attachment 1.txt, 6224 b...  Solved   \n",
       "1        2632  Agents are experiencing an issue with Rightnow...  Solved   \n",
       "2        2601                            Ad, see the attachment.  Solved   \n",
       "3        2655  the phone display states No serviceTrying 10.1...  Solved   \n",
       "4        2655  Had a look, appears to be a network port issue...  Solved   \n",
       "\n",
       "0                                            Subject          ProductID  \n",
       "0    Measuring effectiveness increases effectiveness           No Value  \n",
       "1  incident screen freezing incident - Ref 100924...  Instance Freezing  \n",
       "2    Measuring effectiveness increases effectiveness           No Value  \n",
       "3                  Phone on Mandy's desk not working              Other  \n",
       "4                  Phone on Mandy's desk not working              Other  "
      ]
     },
     "execution_count": 15,
     "metadata": {},
     "output_type": "execute_result"
    }
   ],
   "source": [
    "inc_thread_df.head()"
   ]
  },
  {
   "cell_type": "code",
   "execution_count": 16,
   "metadata": {},
   "outputs": [
    {
     "data": {
      "text/plain": [
       "(100000, 5)"
      ]
     },
     "execution_count": 16,
     "metadata": {},
     "output_type": "execute_result"
    }
   ],
   "source": [
    "inc_thread_df.shape"
   ]
  },
  {
   "cell_type": "code",
   "execution_count": 17,
   "metadata": {},
   "outputs": [],
   "source": [
    "inc_thread_df=inc_thread_df[inc_thread_df['ProductID']!='No Value']"
   ]
  },
  {
   "cell_type": "code",
   "execution_count": 18,
   "metadata": {},
   "outputs": [
    {
     "data": {
      "text/html": [
       "<div>\n",
       "<style scoped>\n",
       "    .dataframe tbody tr th:only-of-type {\n",
       "        vertical-align: middle;\n",
       "    }\n",
       "\n",
       "    .dataframe tbody tr th {\n",
       "        vertical-align: top;\n",
       "    }\n",
       "\n",
       "    .dataframe thead th {\n",
       "        text-align: right;\n",
       "    }\n",
       "</style>\n",
       "<table border=\"1\" class=\"dataframe\">\n",
       "  <thead>\n",
       "    <tr style=\"text-align: right;\">\n",
       "      <th></th>\n",
       "      <th>Incident ID</th>\n",
       "      <th>Text</th>\n",
       "      <th>Status</th>\n",
       "      <th>Subject</th>\n",
       "      <th>ProductID</th>\n",
       "    </tr>\n",
       "  </thead>\n",
       "  <tbody>\n",
       "    <tr>\n",
       "      <th>1</th>\n",
       "      <td>2632</td>\n",
       "      <td>Agents are experiencing an issue with Rightnow...</td>\n",
       "      <td>Solved</td>\n",
       "      <td>incident screen freezing incident - Ref 100924...</td>\n",
       "      <td>Instance Freezing</td>\n",
       "    </tr>\n",
       "    <tr>\n",
       "      <th>3</th>\n",
       "      <td>2655</td>\n",
       "      <td>the phone display states No serviceTrying 10.1...</td>\n",
       "      <td>Solved</td>\n",
       "      <td>Phone on Mandy's desk not working</td>\n",
       "      <td>Other</td>\n",
       "    </tr>\n",
       "    <tr>\n",
       "      <th>4</th>\n",
       "      <td>2655</td>\n",
       "      <td>Had a look, appears to be a network port issue...</td>\n",
       "      <td>Solved</td>\n",
       "      <td>Phone on Mandy's desk not working</td>\n",
       "      <td>Other</td>\n",
       "    </tr>\n",
       "    <tr>\n",
       "      <th>5</th>\n",
       "      <td>2666</td>\n",
       "      <td>I have come into work this evening to find tha...</td>\n",
       "      <td>Solved</td>\n",
       "      <td>No Access to Rightnow on my computer</td>\n",
       "      <td>Other</td>\n",
       "    </tr>\n",
       "    <tr>\n",
       "      <th>6</th>\n",
       "      <td>2666</td>\n",
       "      <td>Hi Paddy,I've called you a number of times on ...</td>\n",
       "      <td>Solved</td>\n",
       "      <td>No Access to Rightnow on my computer</td>\n",
       "      <td>Other</td>\n",
       "    </tr>\n",
       "  </tbody>\n",
       "</table>\n",
       "</div>"
      ],
      "text/plain": [
       "0 Incident ID                                               Text  Status  \\\n",
       "1        2632  Agents are experiencing an issue with Rightnow...  Solved   \n",
       "3        2655  the phone display states No serviceTrying 10.1...  Solved   \n",
       "4        2655  Had a look, appears to be a network port issue...  Solved   \n",
       "5        2666  I have come into work this evening to find tha...  Solved   \n",
       "6        2666  Hi Paddy,I've called you a number of times on ...  Solved   \n",
       "\n",
       "0                                            Subject          ProductID  \n",
       "1  incident screen freezing incident - Ref 100924...  Instance Freezing  \n",
       "3                  Phone on Mandy's desk not working              Other  \n",
       "4                  Phone on Mandy's desk not working              Other  \n",
       "5               No Access to Rightnow on my computer              Other  \n",
       "6               No Access to Rightnow on my computer              Other  "
      ]
     },
     "execution_count": 18,
     "metadata": {},
     "output_type": "execute_result"
    }
   ],
   "source": [
    "inc_thread_df.head()"
   ]
  },
  {
   "cell_type": "code",
   "execution_count": 19,
   "metadata": {},
   "outputs": [
    {
     "data": {
      "text/plain": [
       "(98084, 5)"
      ]
     },
     "execution_count": 19,
     "metadata": {},
     "output_type": "execute_result"
    }
   ],
   "source": [
    "inc_thread_df.shape"
   ]
  },
  {
   "cell_type": "code",
   "execution_count": 20,
   "metadata": {},
   "outputs": [
    {
     "name": "stdout",
     "output_type": "stream",
     "text": [
      "0\n",
      "Incident ID      0\n",
      "Text             0\n",
      "Status         222\n",
      "Subject        222\n",
      "ProductID      222\n",
      "dtype: int64\n"
     ]
    }
   ],
   "source": [
    "print(inc_thread_df.isnull().sum())"
   ]
  },
  {
   "cell_type": "code",
   "execution_count": 21,
   "metadata": {},
   "outputs": [],
   "source": [
    "inc_thread_df=inc_thread_df.dropna()"
   ]
  },
  {
   "cell_type": "code",
   "execution_count": 22,
   "metadata": {},
   "outputs": [
    {
     "name": "stdout",
     "output_type": "stream",
     "text": [
      "0\n",
      "Incident ID    0\n",
      "Text           0\n",
      "Status         0\n",
      "Subject        0\n",
      "ProductID      0\n",
      "dtype: int64\n"
     ]
    }
   ],
   "source": [
    "print(inc_thread_df.isnull().sum())"
   ]
  },
  {
   "cell_type": "code",
   "execution_count": 23,
   "metadata": {},
   "outputs": [
    {
     "data": {
      "text/plain": [
       "(97862, 5)"
      ]
     },
     "execution_count": 23,
     "metadata": {},
     "output_type": "execute_result"
    }
   ],
   "source": [
    "inc_thread_df.shape"
   ]
  },
  {
   "cell_type": "code",
   "execution_count": 24,
   "metadata": {},
   "outputs": [],
   "source": [
    "inc_thread_df['Text'] = inc_thread_df.groupby(['Incident ID'])['Text'].transform(lambda x : ''.join(str(x)))"
   ]
  },
  {
   "cell_type": "code",
   "execution_count": 25,
   "metadata": {},
   "outputs": [],
   "source": [
    "inc_thread_df = inc_thread_df.drop_duplicates()"
   ]
  },
  {
   "cell_type": "code",
   "execution_count": 26,
   "metadata": {},
   "outputs": [],
   "source": [
    "inc_thread_df[\"Text\"]=inc_thread_df[\"Subject\"]+\" \"+inc_thread_df[\"Text\"]"
   ]
  },
  {
   "cell_type": "code",
   "execution_count": 27,
   "metadata": {},
   "outputs": [
    {
     "data": {
      "text/plain": [
       "(15524, 5)"
      ]
     },
     "execution_count": 27,
     "metadata": {},
     "output_type": "execute_result"
    }
   ],
   "source": [
    "inc_thread_df.shape"
   ]
  },
  {
   "cell_type": "code",
   "execution_count": 28,
   "metadata": {},
   "outputs": [
    {
     "data": {
      "text/html": [
       "<div>\n",
       "<style scoped>\n",
       "    .dataframe tbody tr th:only-of-type {\n",
       "        vertical-align: middle;\n",
       "    }\n",
       "\n",
       "    .dataframe tbody tr th {\n",
       "        vertical-align: top;\n",
       "    }\n",
       "\n",
       "    .dataframe thead th {\n",
       "        text-align: right;\n",
       "    }\n",
       "</style>\n",
       "<table border=\"1\" class=\"dataframe\">\n",
       "  <thead>\n",
       "    <tr style=\"text-align: right;\">\n",
       "      <th></th>\n",
       "      <th>Incident ID</th>\n",
       "      <th>Text</th>\n",
       "      <th>Status</th>\n",
       "      <th>Subject</th>\n",
       "      <th>ProductID</th>\n",
       "    </tr>\n",
       "  </thead>\n",
       "  <tbody>\n",
       "    <tr>\n",
       "      <th>1</th>\n",
       "      <td>2632</td>\n",
       "      <td>incident screen freezing incident - Ref 100924...</td>\n",
       "      <td>Solved</td>\n",
       "      <td>incident screen freezing incident - Ref 100924...</td>\n",
       "      <td>Instance Freezing</td>\n",
       "    </tr>\n",
       "    <tr>\n",
       "      <th>3</th>\n",
       "      <td>2655</td>\n",
       "      <td>Phone on Mandy's desk not working 3    the pho...</td>\n",
       "      <td>Solved</td>\n",
       "      <td>Phone on Mandy's desk not working</td>\n",
       "      <td>Other</td>\n",
       "    </tr>\n",
       "    <tr>\n",
       "      <th>5</th>\n",
       "      <td>2666</td>\n",
       "      <td>No Access to Rightnow on my computer 5    I ha...</td>\n",
       "      <td>Solved</td>\n",
       "      <td>No Access to Rightnow on my computer</td>\n",
       "      <td>Other</td>\n",
       "    </tr>\n",
       "    <tr>\n",
       "      <th>9</th>\n",
       "      <td>2669</td>\n",
       "      <td>BTB Right Now 9     Hiya, Can you re-install B...</td>\n",
       "      <td>Solved</td>\n",
       "      <td>BTB Right Now</td>\n",
       "      <td>Other</td>\n",
       "    </tr>\n",
       "    <tr>\n",
       "      <th>11</th>\n",
       "      <td>2670</td>\n",
       "      <td>Laptop Cal019 11    I am still unable to hear ...</td>\n",
       "      <td>Solved</td>\n",
       "      <td>Laptop Cal019</td>\n",
       "      <td>Other</td>\n",
       "    </tr>\n",
       "  </tbody>\n",
       "</table>\n",
       "</div>"
      ],
      "text/plain": [
       "0  Incident ID                                               Text  Status  \\\n",
       "1         2632  incident screen freezing incident - Ref 100924...  Solved   \n",
       "3         2655  Phone on Mandy's desk not working 3    the pho...  Solved   \n",
       "5         2666  No Access to Rightnow on my computer 5    I ha...  Solved   \n",
       "9         2669  BTB Right Now 9     Hiya, Can you re-install B...  Solved   \n",
       "11        2670  Laptop Cal019 11    I am still unable to hear ...  Solved   \n",
       "\n",
       "0                                             Subject          ProductID  \n",
       "1   incident screen freezing incident - Ref 100924...  Instance Freezing  \n",
       "3                   Phone on Mandy's desk not working              Other  \n",
       "5                No Access to Rightnow on my computer              Other  \n",
       "9                                       BTB Right Now              Other  \n",
       "11                                      Laptop Cal019              Other  "
      ]
     },
     "execution_count": 28,
     "metadata": {},
     "output_type": "execute_result"
    }
   ],
   "source": [
    "inc_thread_df.head()"
   ]
  },
  {
   "cell_type": "code",
   "execution_count": 29,
   "metadata": {},
   "outputs": [
    {
     "name": "stdout",
     "output_type": "stream",
     "text": [
      "1        incident screen freezing incident - Ref 100924...\n",
      "3        Phone on Mandy's desk not working 3    the pho...\n",
      "5        No Access to Rightnow on my computer 5    I ha...\n",
      "9        BTB Right Now 9     Hiya, Can you re-install B...\n",
      "11       Laptop Cal019 11    I am still unable to hear ...\n",
      "                               ...                        \n",
      "99982    Evergreen 99982    Hi,Jane from Evergreen want...\n",
      "99985    Password Encryption 99985    HiI've been asked...\n",
      "99987    Evergreen Oracle Access 99987    Hi, Please ca...\n",
      "99993    Ellis visibility 99993    HelloCurrently a few...\n",
      "99996    Shaw Healthcare CRM Access 99996    Hello, Ple...\n",
      "Name: Text, Length: 15524, dtype: object\n"
     ]
    }
   ],
   "source": [
    "print(inc_thread_df[\"Text\"])"
   ]
  },
  {
   "cell_type": "code",
   "execution_count": 30,
   "metadata": {},
   "outputs": [],
   "source": [
    "def remove_tags(string):\n",
    "    result = re.sub('<.*?>','',string)\n",
    "    return result"
   ]
  },
  {
   "cell_type": "code",
   "execution_count": 31,
   "metadata": {},
   "outputs": [],
   "source": [
    "inc_thread_df[\"Text\"]=inc_thread_df[\"Text\"].apply(lambda cw: remove_tags((cw)))"
   ]
  },
  {
   "cell_type": "code",
   "execution_count": 32,
   "metadata": {},
   "outputs": [
    {
     "name": "stdout",
     "output_type": "stream",
     "text": [
      "1        incident screen freezing incident - Ref 100924...\n",
      "3        Phone on Mandy's desk not working 3    the pho...\n",
      "5        No Access to Rightnow on my computer 5    I ha...\n",
      "9        BTB Right Now 9     Hiya, Can you re-install B...\n",
      "11       Laptop Cal019 11    I am still unable to hear ...\n",
      "                               ...                        \n",
      "99982    Evergreen 99982    Hi,Jane from Evergreen want...\n",
      "99985    Password Encryption 99985    HiI've been asked...\n",
      "99987    Evergreen Oracle Access 99987    Hi, Please ca...\n",
      "99993    Ellis visibility 99993    HelloCurrently a few...\n",
      "99996    Shaw Healthcare CRM Access 99996    Hello, Ple...\n",
      "Name: Text, Length: 15524, dtype: object\n"
     ]
    }
   ],
   "source": [
    "print(inc_thread_df[\"Text\"])"
   ]
  },
  {
   "cell_type": "code",
   "execution_count": 33,
   "metadata": {},
   "outputs": [],
   "source": [
    "inc_thread_df['Text']=inc_thread_df['Text'].str.replace('\\n','').str.replace('=','')"
   ]
  },
  {
   "cell_type": "code",
   "execution_count": 34,
   "metadata": {},
   "outputs": [
    {
     "name": "stdout",
     "output_type": "stream",
     "text": [
      "1        incident screen freezing incident - Ref 100924...\n",
      "3        Phone on Mandy's desk not working 3    the pho...\n",
      "5        No Access to Rightnow on my computer 5    I ha...\n",
      "9        BTB Right Now 9     Hiya, Can you re-install B...\n",
      "11       Laptop Cal019 11    I am still unable to hear ...\n",
      "                               ...                        \n",
      "99982    Evergreen 99982    Hi,Jane from Evergreen want...\n",
      "99985    Password Encryption 99985    HiI've been asked...\n",
      "99987    Evergreen Oracle Access 99987    Hi, Please ca...\n",
      "99993    Ellis visibility 99993    HelloCurrently a few...\n",
      "99996    Shaw Healthcare CRM Access 99996    Hello, Ple...\n",
      "Name: Text, Length: 15524, dtype: object\n"
     ]
    }
   ],
   "source": [
    "print(inc_thread_df[\"Text\"])"
   ]
  },
  {
   "cell_type": "code",
   "execution_count": 35,
   "metadata": {},
   "outputs": [],
   "source": [
    "def decode_text(string):\n",
    "    result = html.unescape(string)\n",
    "    return result"
   ]
  },
  {
   "cell_type": "code",
   "execution_count": 36,
   "metadata": {},
   "outputs": [],
   "source": [
    "inc_thread_df[\"Text\"]=inc_thread_df[\"Text\"].apply(lambda cw: decode_text(cw))"
   ]
  },
  {
   "cell_type": "code",
   "execution_count": 37,
   "metadata": {},
   "outputs": [
    {
     "name": "stdout",
     "output_type": "stream",
     "text": [
      "1        incident screen freezing incident - Ref 100924...\n",
      "3        Phone on Mandy's desk not working 3    the pho...\n",
      "5        No Access to Rightnow on my computer 5    I ha...\n",
      "9        BTB Right Now 9     Hiya, Can you re-install B...\n",
      "11       Laptop Cal019 11    I am still unable to hear ...\n",
      "                               ...                        \n",
      "99982    Evergreen 99982    Hi,Jane from Evergreen want...\n",
      "99985    Password Encryption 99985    HiI've been asked...\n",
      "99987    Evergreen Oracle Access 99987    Hi, Please ca...\n",
      "99993    Ellis visibility 99993    HelloCurrently a few...\n",
      "99996    Shaw Healthcare CRM Access 99996    Hello, Ple...\n",
      "Name: Text, Length: 15524, dtype: object\n"
     ]
    }
   ],
   "source": [
    "print(inc_thread_df[\"Text\"])"
   ]
  },
  {
   "cell_type": "code",
   "execution_count": 38,
   "metadata": {},
   "outputs": [],
   "source": [
    "inc_thread_df['Text'] = inc_thread_df['Text'].replace(r'https?:\\/\\/.\\S+', '', regex=True).replace(r'www\\S+', '', regex=True)"
   ]
  },
  {
   "cell_type": "code",
   "execution_count": 39,
   "metadata": {},
   "outputs": [],
   "source": [
    "inc_thread_df[\"Text\"]=inc_thread_df[\"Text\"].str.lower()"
   ]
  },
  {
   "cell_type": "code",
   "execution_count": 40,
   "metadata": {},
   "outputs": [
    {
     "name": "stdout",
     "output_type": "stream",
     "text": [
      "1        incident screen freezing incident - ref 100924...\n",
      "3        phone on mandy's desk not working 3    the pho...\n",
      "5        no access to rightnow on my computer 5    i ha...\n",
      "9        btb right now 9     hiya, can you re-install b...\n",
      "11       laptop cal019 11    i am still unable to hear ...\n",
      "                               ...                        \n",
      "99982    evergreen 99982    hi,jane from evergreen want...\n",
      "99985    password encryption 99985    hii've been asked...\n",
      "99987    evergreen oracle access 99987    hi, please ca...\n",
      "99993    ellis visibility 99993    hellocurrently a few...\n",
      "99996    shaw healthcare crm access 99996    hello, ple...\n",
      "Name: Text, Length: 15524, dtype: object\n"
     ]
    }
   ],
   "source": [
    "print(inc_thread_df[\"Text\"])"
   ]
  },
  {
   "cell_type": "code",
   "execution_count": 41,
   "metadata": {},
   "outputs": [],
   "source": [
    "Apos_dict={\"'s\":\" is\",\"n't\":\" not\",\"'m\":\" am\",\"'ll\":\" will\",\"'d\":\" would\",\"'ve\":\" have\",\"'re\":\" are\"}\n",
    "def contraction_text(string):\n",
    "    for key,value in Apos_dict.items():\n",
    "        if key in string:\n",
    "            result=string.replace(key,value)\n",
    "            return result\n",
    "        else:\n",
    "            return string"
   ]
  },
  {
   "cell_type": "code",
   "execution_count": 42,
   "metadata": {},
   "outputs": [],
   "source": [
    "inc_thread_df[\"Text\"]=inc_thread_df[\"Text\"].apply(lambda cw: contraction_text(cw))"
   ]
  },
  {
   "cell_type": "code",
   "execution_count": 43,
   "metadata": {},
   "outputs": [
    {
     "name": "stdout",
     "output_type": "stream",
     "text": [
      "1        incident screen freezing incident - ref 100924...\n",
      "3        phone on mandy is desk not working 3    the ph...\n",
      "5        no access to rightnow on my computer 5    i ha...\n",
      "9        btb right now 9     hiya, can you re-install b...\n",
      "11       laptop cal019 11    i am still unable to hear ...\n",
      "                               ...                        \n",
      "99982    evergreen 99982    hi,jane from evergreen want...\n",
      "99985    password encryption 99985    hii've been asked...\n",
      "99987    evergreen oracle access 99987    hi, please ca...\n",
      "99993    ellis visibility 99993    hellocurrently a few...\n",
      "99996    shaw healthcare crm access 99996    hello, ple...\n",
      "Name: Text, Length: 15524, dtype: object\n"
     ]
    }
   ],
   "source": [
    "print(inc_thread_df[\"Text\"])"
   ]
  },
  {
   "cell_type": "code",
   "execution_count": 44,
   "metadata": {},
   "outputs": [],
   "source": [
    "def space_text(string):\n",
    "    result=string.strip()\n",
    "    return result"
   ]
  },
  {
   "cell_type": "code",
   "execution_count": 45,
   "metadata": {},
   "outputs": [],
   "source": [
    "inc_thread_df[\"Text\"]=inc_thread_df[\"Text\"].apply(lambda cw: space_text(cw))"
   ]
  },
  {
   "cell_type": "code",
   "execution_count": 46,
   "metadata": {},
   "outputs": [],
   "source": [
    "def punction_text(string):\n",
    "    result = re.sub(r'[^\\w\\s]', '', string)\n",
    "    return result"
   ]
  },
  {
   "cell_type": "code",
   "execution_count": 47,
   "metadata": {},
   "outputs": [],
   "source": [
    "#removing punctions\n",
    "inc_thread_df[\"Text\"]=inc_thread_df[\"Text\"].apply(lambda cw: punction_text(cw))"
   ]
  },
  {
   "cell_type": "code",
   "execution_count": 48,
   "metadata": {},
   "outputs": [
    {
     "name": "stdout",
     "output_type": "stream",
     "text": [
      "1        incident screen freezing incident  ref 1009240...\n",
      "3        phone on mandy is desk not working 3    the ph...\n",
      "5        no access to rightnow on my computer 5    i ha...\n",
      "9        btb right now 9     hiya can you reinstall btb...\n",
      "11       laptop cal019 11    i am still unable to hear ...\n",
      "                               ...                        \n",
      "99982    evergreen 99982    hijane from evergreen wants...\n",
      "99985    password encryption 99985    hiive been asked ...\n",
      "99987    evergreen oracle access 99987    hi please can...\n",
      "99993    ellis visibility 99993    hellocurrently a few...\n",
      "99996    shaw healthcare crm access 99996    hello plea...\n",
      "Name: Text, Length: 15524, dtype: object\n"
     ]
    }
   ],
   "source": [
    "print(inc_thread_df[\"Text\"])"
   ]
  },
  {
   "cell_type": "code",
   "execution_count": 49,
   "metadata": {},
   "outputs": [
    {
     "data": {
      "text/plain": [
       "(15524, 5)"
      ]
     },
     "execution_count": 49,
     "metadata": {},
     "output_type": "execute_result"
    }
   ],
   "source": [
    "inc_thread_df.shape"
   ]
  },
  {
   "cell_type": "code",
   "execution_count": 50,
   "metadata": {},
   "outputs": [],
   "source": [
    "pattern = r'[0-9]'\n",
    "def nums_text(string):\n",
    "    result=re.sub(pattern, '', string)\n",
    "    return result"
   ]
  },
  {
   "cell_type": "code",
   "execution_count": 51,
   "metadata": {},
   "outputs": [],
   "source": [
    "inc_thread_df[\"Text\"]=inc_thread_df[\"Text\"].apply(lambda cw: nums_text(cw))"
   ]
  },
  {
   "cell_type": "code",
   "execution_count": 52,
   "metadata": {},
   "outputs": [
    {
     "data": {
      "text/html": [
       "<div>\n",
       "<style scoped>\n",
       "    .dataframe tbody tr th:only-of-type {\n",
       "        vertical-align: middle;\n",
       "    }\n",
       "\n",
       "    .dataframe tbody tr th {\n",
       "        vertical-align: top;\n",
       "    }\n",
       "\n",
       "    .dataframe thead th {\n",
       "        text-align: right;\n",
       "    }\n",
       "</style>\n",
       "<table border=\"1\" class=\"dataframe\">\n",
       "  <thead>\n",
       "    <tr style=\"text-align: right;\">\n",
       "      <th></th>\n",
       "      <th>Incident ID</th>\n",
       "      <th>Text</th>\n",
       "      <th>Status</th>\n",
       "      <th>Subject</th>\n",
       "      <th>ProductID</th>\n",
       "    </tr>\n",
       "  </thead>\n",
       "  <tbody>\n",
       "    <tr>\n",
       "      <th>1</th>\n",
       "      <td>2632</td>\n",
       "      <td>incident screen freezing incident  ref        ...</td>\n",
       "      <td>Solved</td>\n",
       "      <td>incident screen freezing incident - Ref 100924...</td>\n",
       "      <td>Instance Freezing</td>\n",
       "    </tr>\n",
       "    <tr>\n",
       "      <th>3</th>\n",
       "      <td>2655</td>\n",
       "      <td>phone on mandy is desk not working     the pho...</td>\n",
       "      <td>Solved</td>\n",
       "      <td>Phone on Mandy's desk not working</td>\n",
       "      <td>Other</td>\n",
       "    </tr>\n",
       "    <tr>\n",
       "      <th>5</th>\n",
       "      <td>2666</td>\n",
       "      <td>no access to rightnow on my computer     i hav...</td>\n",
       "      <td>Solved</td>\n",
       "      <td>No Access to Rightnow on my computer</td>\n",
       "      <td>Other</td>\n",
       "    </tr>\n",
       "    <tr>\n",
       "      <th>9</th>\n",
       "      <td>2669</td>\n",
       "      <td>btb right now      hiya can you reinstall btb ...</td>\n",
       "      <td>Solved</td>\n",
       "      <td>BTB Right Now</td>\n",
       "      <td>Other</td>\n",
       "    </tr>\n",
       "    <tr>\n",
       "      <th>11</th>\n",
       "      <td>2670</td>\n",
       "      <td>laptop cal     i am still unable to hear voice...</td>\n",
       "      <td>Solved</td>\n",
       "      <td>Laptop Cal019</td>\n",
       "      <td>Other</td>\n",
       "    </tr>\n",
       "  </tbody>\n",
       "</table>\n",
       "</div>"
      ],
      "text/plain": [
       "0  Incident ID                                               Text  Status  \\\n",
       "1         2632  incident screen freezing incident  ref        ...  Solved   \n",
       "3         2655  phone on mandy is desk not working     the pho...  Solved   \n",
       "5         2666  no access to rightnow on my computer     i hav...  Solved   \n",
       "9         2669  btb right now      hiya can you reinstall btb ...  Solved   \n",
       "11        2670  laptop cal     i am still unable to hear voice...  Solved   \n",
       "\n",
       "0                                             Subject          ProductID  \n",
       "1   incident screen freezing incident - Ref 100924...  Instance Freezing  \n",
       "3                   Phone on Mandy's desk not working              Other  \n",
       "5                No Access to Rightnow on my computer              Other  \n",
       "9                                       BTB Right Now              Other  \n",
       "11                                      Laptop Cal019              Other  "
      ]
     },
     "execution_count": 52,
     "metadata": {},
     "output_type": "execute_result"
    }
   ],
   "source": [
    "inc_thread_df.head()"
   ]
  },
  {
   "cell_type": "code",
   "execution_count": 53,
   "metadata": {},
   "outputs": [
    {
     "name": "stdout",
     "output_type": "stream",
     "text": [
      "1        incident screen freezing incident  ref        ...\n",
      "3        phone on mandy is desk not working     the pho...\n",
      "5        no access to rightnow on my computer     i hav...\n",
      "9        btb right now      hiya can you reinstall btb ...\n",
      "11       laptop cal     i am still unable to hear voice...\n",
      "                               ...                        \n",
      "99982    evergreen     hijane from evergreen wants to k...\n",
      "99985    password encryption     hiive been asked to fi...\n",
      "99987    evergreen oracle access     hi please can i re...\n",
      "99993    ellis visibility     hellocurrently a few of u...\n",
      "99996    shaw healthcare crm access     hello please ca...\n",
      "Name: Text, Length: 15524, dtype: object\n"
     ]
    }
   ],
   "source": [
    "print(inc_thread_df[\"Text\"])"
   ]
  },
  {
   "cell_type": "code",
   "execution_count": 54,
   "metadata": {},
   "outputs": [
    {
     "data": {
      "text/html": [
       "<div>\n",
       "<style scoped>\n",
       "    .dataframe tbody tr th:only-of-type {\n",
       "        vertical-align: middle;\n",
       "    }\n",
       "\n",
       "    .dataframe tbody tr th {\n",
       "        vertical-align: top;\n",
       "    }\n",
       "\n",
       "    .dataframe thead th {\n",
       "        text-align: right;\n",
       "    }\n",
       "</style>\n",
       "<table border=\"1\" class=\"dataframe\">\n",
       "  <thead>\n",
       "    <tr style=\"text-align: right;\">\n",
       "      <th></th>\n",
       "      <th>Incident ID</th>\n",
       "      <th>Text</th>\n",
       "      <th>Status</th>\n",
       "      <th>Subject</th>\n",
       "      <th>ProductID</th>\n",
       "    </tr>\n",
       "  </thead>\n",
       "  <tbody>\n",
       "    <tr>\n",
       "      <th>count</th>\n",
       "      <td>15524</td>\n",
       "      <td>15524</td>\n",
       "      <td>15524</td>\n",
       "      <td>15524</td>\n",
       "      <td>15524</td>\n",
       "    </tr>\n",
       "    <tr>\n",
       "      <th>unique</th>\n",
       "      <td>15524</td>\n",
       "      <td>15204</td>\n",
       "      <td>1</td>\n",
       "      <td>12456</td>\n",
       "      <td>92</td>\n",
       "    </tr>\n",
       "    <tr>\n",
       "      <th>top</th>\n",
       "      <td>22200</td>\n",
       "      <td>service alert  migrant help  no callschats ans...</td>\n",
       "      <td>Solved</td>\n",
       "      <td>Service Alert - Migrant Help - No Calls/Chats ...</td>\n",
       "      <td>Other</td>\n",
       "    </tr>\n",
       "    <tr>\n",
       "      <th>freq</th>\n",
       "      <td>1</td>\n",
       "      <td>21</td>\n",
       "      <td>15524</td>\n",
       "      <td>176</td>\n",
       "      <td>3071</td>\n",
       "    </tr>\n",
       "  </tbody>\n",
       "</table>\n",
       "</div>"
      ],
      "text/plain": [
       "0       Incident ID                                               Text  \\\n",
       "count         15524                                              15524   \n",
       "unique        15524                                              15204   \n",
       "top           22200  service alert  migrant help  no callschats ans...   \n",
       "freq              1                                                 21   \n",
       "\n",
       "0       Status                                            Subject ProductID  \n",
       "count    15524                                              15524     15524  \n",
       "unique       1                                              12456        92  \n",
       "top     Solved  Service Alert - Migrant Help - No Calls/Chats ...     Other  \n",
       "freq     15524                                                176      3071  "
      ]
     },
     "execution_count": 54,
     "metadata": {},
     "output_type": "execute_result"
    }
   ],
   "source": [
    "inc_thread_df.describe()"
   ]
  },
  {
   "cell_type": "code",
   "execution_count": 55,
   "metadata": {},
   "outputs": [
    {
     "data": {
      "text/plain": [
       "array(['Instance Freezing', 'Other', 'Outlook', 'Communicator',\n",
       "       'Wireless Password', 'Missing Data', 'Password Issue',\n",
       "       'CommsOffice', 'Website', 'Intranet', 'Wallboard', 'Agent Toolbar',\n",
       "       'Shared Drive', 'Custom Application', 'Login Error', 'Printer',\n",
       "       'Customer Portal', 'Existing Customer', 'Mouse',\n",
       "       'Installations and Upgrades', 'Monitor', 'Keyboard', 'Logins',\n",
       "       'Microsoft Office (Excluding Outlook)', 'Connect for PHP',\n",
       "       'Answers', 'Outbound E-mail', 'Wireless Issue', 'Analytics',\n",
       "       'Contacts and Organisations', 'Facebook App',\n",
       "       'Oracle Service Cloud', 'Software', 'Custom Objects',\n",
       "       'Web Services (SOAP/WSDL)', 'System Configuration',\n",
       "       'Agent Desktop', 'Customisation', 'Campaigns', 'Workspaces',\n",
       "       'Incidents', 'Marketing', 'Multi-Channel Helplines',\n",
       "       'Telephone Service', 'RightNow', 'Upgrade', 'Windows', 'Rules',\n",
       "       'Profiles / Staff Accounts', 'Client Workstation',\n",
       "       'Internal Projects', 'Connect API', 'General Enquiries',\n",
       "       'Feedback', 'Chat', 'Service', 'Internal Process', 'Internal',\n",
       "       'Phone System', 'Integration', 'Hardware', 'Common', 'Helpline',\n",
       "       'Business Engagement Systems', 'Interested Party', 'Sales',\n",
       "       'Tender Writing', 'Online Organisation Feedback', 'Training',\n",
       "       'Audiences', 'Cloud Monitor', 'General Internet Connectivity',\n",
       "       'SuiteCRM', 'Test Site Refresh Request', 'Visual E-mail',\n",
       "       'Sharepoint', 'non-Service Cloud CRMs', 'IT Work', 'Reporting',\n",
       "       'Infrastructure', 'New Starter', 'Leaver', 'LAP Pack',\n",
       "       'E-learning', 'XML API', 'CiviCRM', 'Test Sites', 'DFT Loader',\n",
       "       'Integrator', 'IT Services', 'Business Support', 'Co-browse'],\n",
       "      dtype=object)"
      ]
     },
     "execution_count": 55,
     "metadata": {},
     "output_type": "execute_result"
    }
   ],
   "source": [
    "inc_thread_df.ProductID.unique()"
   ]
  },
  {
   "cell_type": "code",
   "execution_count": 56,
   "metadata": {},
   "outputs": [],
   "source": [
    "inc_thread_df[\"Text\"]=inc_thread_df[\"Text\"].str.replace('dtype','').str.replace('name','').str.replace('hi','').str.replace('hello','').str.replace('dear','').str.replace('thank','').str.replace('sorry','')"
   ]
  },
  {
   "cell_type": "code",
   "execution_count": 57,
   "metadata": {},
   "outputs": [],
   "source": [
    "import numpy as np\n",
    "from scipy.stats import randint\n",
    "import seaborn as sns # used for plot interactive graph. \n",
    "import matplotlib.pyplot as plt\n",
    "import seaborn as sns\n",
    "from io import StringIO\n",
    "from sklearn.feature_extraction.text import TfidfVectorizer\n",
    "from sklearn.feature_selection import chi2\n",
    "from IPython.display import display\n",
    "from sklearn.model_selection import train_test_split\n",
    "from sklearn.feature_extraction.text import TfidfTransformer\n",
    "from sklearn.naive_bayes import MultinomialNB\n",
    "from sklearn.linear_model import LogisticRegression\n",
    "from sklearn.ensemble import RandomForestClassifier\n",
    "from sklearn.svm import LinearSVC\n",
    "from sklearn import svm\n",
    "from sklearn.model_selection import cross_val_score\n",
    "from sklearn.metrics import confusion_matrix\n",
    "from sklearn import metrics"
   ]
  },
  {
   "cell_type": "code",
   "execution_count": 58,
   "metadata": {},
   "outputs": [],
   "source": [
    "inc_thread_df['pro_id'] = inc_thread_df['ProductID'].factorize()[0]\n",
    "category_id_f2 = inc_thread_df[['ProductID', 'pro_id']].drop_duplicates()\n",
    "\n",
    "pro_to_id = dict(category_id_f2.values)\n",
    "id_to_category = dict(category_id_f2[['pro_id', 'ProductID']].values)"
   ]
  },
  {
   "cell_type": "code",
   "execution_count": 59,
   "metadata": {},
   "outputs": [
    {
     "data": {
      "text/html": [
       "<div>\n",
       "<style scoped>\n",
       "    .dataframe tbody tr th:only-of-type {\n",
       "        vertical-align: middle;\n",
       "    }\n",
       "\n",
       "    .dataframe tbody tr th {\n",
       "        vertical-align: top;\n",
       "    }\n",
       "\n",
       "    .dataframe thead th {\n",
       "        text-align: right;\n",
       "    }\n",
       "</style>\n",
       "<table border=\"1\" class=\"dataframe\">\n",
       "  <thead>\n",
       "    <tr style=\"text-align: right;\">\n",
       "      <th></th>\n",
       "      <th>Incident ID</th>\n",
       "      <th>Text</th>\n",
       "      <th>Status</th>\n",
       "      <th>Subject</th>\n",
       "      <th>ProductID</th>\n",
       "      <th>pro_id</th>\n",
       "    </tr>\n",
       "  </thead>\n",
       "  <tbody>\n",
       "    <tr>\n",
       "      <th>1</th>\n",
       "      <td>2632</td>\n",
       "      <td>incident screen freezing incident  ref        ...</td>\n",
       "      <td>Solved</td>\n",
       "      <td>incident screen freezing incident - Ref 100924...</td>\n",
       "      <td>Instance Freezing</td>\n",
       "      <td>0</td>\n",
       "    </tr>\n",
       "    <tr>\n",
       "      <th>3</th>\n",
       "      <td>2655</td>\n",
       "      <td>phone on mandy is desk not working     the pho...</td>\n",
       "      <td>Solved</td>\n",
       "      <td>Phone on Mandy's desk not working</td>\n",
       "      <td>Other</td>\n",
       "      <td>1</td>\n",
       "    </tr>\n",
       "    <tr>\n",
       "      <th>5</th>\n",
       "      <td>2666</td>\n",
       "      <td>no access to rightnow on my computer     i hav...</td>\n",
       "      <td>Solved</td>\n",
       "      <td>No Access to Rightnow on my computer</td>\n",
       "      <td>Other</td>\n",
       "      <td>1</td>\n",
       "    </tr>\n",
       "    <tr>\n",
       "      <th>9</th>\n",
       "      <td>2669</td>\n",
       "      <td>btb right now      ya can you reinstall btb ri...</td>\n",
       "      <td>Solved</td>\n",
       "      <td>BTB Right Now</td>\n",
       "      <td>Other</td>\n",
       "      <td>1</td>\n",
       "    </tr>\n",
       "    <tr>\n",
       "      <th>11</th>\n",
       "      <td>2670</td>\n",
       "      <td>laptop cal     i am still unable to hear voice...</td>\n",
       "      <td>Solved</td>\n",
       "      <td>Laptop Cal019</td>\n",
       "      <td>Other</td>\n",
       "      <td>1</td>\n",
       "    </tr>\n",
       "    <tr>\n",
       "      <th>14</th>\n",
       "      <td>2672</td>\n",
       "      <td>outlook     can you install outlook for me ple...</td>\n",
       "      <td>Solved</td>\n",
       "      <td>Outlook</td>\n",
       "      <td>Outlook</td>\n",
       "      <td>2</td>\n",
       "    </tr>\n",
       "    <tr>\n",
       "      <th>16</th>\n",
       "      <td>2673</td>\n",
       "      <td>shoreware agent manager     ya shoreware agent...</td>\n",
       "      <td>Solved</td>\n",
       "      <td>Shoreware Agent manager</td>\n",
       "      <td>Other</td>\n",
       "      <td>1</td>\n",
       "    </tr>\n",
       "    <tr>\n",
       "      <th>18</th>\n",
       "      <td>2674</td>\n",
       "      <td>patrick has an issue logging in to casupport  ...</td>\n",
       "      <td>Solved</td>\n",
       "      <td>Patrick has an issue logging in to CASupport</td>\n",
       "      <td>Other</td>\n",
       "      <td>1</td>\n",
       "    </tr>\n",
       "    <tr>\n",
       "      <th>20</th>\n",
       "      <td>2675</td>\n",
       "      <td>phone recorder not working     joanne gauntlet...</td>\n",
       "      <td>Solved</td>\n",
       "      <td>Phone Recorder not working</td>\n",
       "      <td>Communicator</td>\n",
       "      <td>3</td>\n",
       "    </tr>\n",
       "    <tr>\n",
       "      <th>21</th>\n",
       "      <td>2676</td>\n",
       "      <td>wireless login issue     stuart isnt sure wch ...</td>\n",
       "      <td>Solved</td>\n",
       "      <td>Wireless login issue</td>\n",
       "      <td>Wireless Password</td>\n",
       "      <td>4</td>\n",
       "    </tr>\n",
       "  </tbody>\n",
       "</table>\n",
       "</div>"
      ],
      "text/plain": [
       "0  Incident ID                                               Text  Status  \\\n",
       "1         2632  incident screen freezing incident  ref        ...  Solved   \n",
       "3         2655  phone on mandy is desk not working     the pho...  Solved   \n",
       "5         2666  no access to rightnow on my computer     i hav...  Solved   \n",
       "9         2669  btb right now      ya can you reinstall btb ri...  Solved   \n",
       "11        2670  laptop cal     i am still unable to hear voice...  Solved   \n",
       "14        2672  outlook     can you install outlook for me ple...  Solved   \n",
       "16        2673  shoreware agent manager     ya shoreware agent...  Solved   \n",
       "18        2674  patrick has an issue logging in to casupport  ...  Solved   \n",
       "20        2675  phone recorder not working     joanne gauntlet...  Solved   \n",
       "21        2676  wireless login issue     stuart isnt sure wch ...  Solved   \n",
       "\n",
       "0                                             Subject          ProductID  \\\n",
       "1   incident screen freezing incident - Ref 100924...  Instance Freezing   \n",
       "3                   Phone on Mandy's desk not working              Other   \n",
       "5                No Access to Rightnow on my computer              Other   \n",
       "9                                       BTB Right Now              Other   \n",
       "11                                      Laptop Cal019              Other   \n",
       "14                                            Outlook            Outlook   \n",
       "16                            Shoreware Agent manager              Other   \n",
       "18       Patrick has an issue logging in to CASupport              Other   \n",
       "20                         Phone Recorder not working       Communicator   \n",
       "21                               Wireless login issue  Wireless Password   \n",
       "\n",
       "0   pro_id  \n",
       "1        0  \n",
       "3        1  \n",
       "5        1  \n",
       "9        1  \n",
       "11       1  \n",
       "14       2  \n",
       "16       1  \n",
       "18       1  \n",
       "20       3  \n",
       "21       4  "
      ]
     },
     "execution_count": 59,
     "metadata": {},
     "output_type": "execute_result"
    }
   ],
   "source": [
    "inc_thread_df.head(10)"
   ]
  },
  {
   "cell_type": "code",
   "execution_count": 60,
   "metadata": {},
   "outputs": [
    {
     "data": {
      "text/plain": [
       "(15524, 6)"
      ]
     },
     "execution_count": 60,
     "metadata": {},
     "output_type": "execute_result"
    }
   ],
   "source": [
    "inc_thread_df.shape"
   ]
  },
  {
   "cell_type": "code",
   "execution_count": 61,
   "metadata": {},
   "outputs": [
    {
     "data": {
      "image/png": "[encoded data removed]",
      "text/plain": [
       "<Figure size 1368x720 with 1 Axes>"
      ]
     },
     "metadata": {
      "needs_background": "light"
     },
     "output_type": "display_data"
    }
   ],
   "source": [
    "import matplotlib.pyplot as plt\n",
    "fig = plt.figure(figsize=(19,10))\n",
    "inc_thread_df.groupby('ProductID').Text.count().plot.bar(ylim=0)\n",
    "plt.show()"
   ]
  },
  {
   "cell_type": "code",
   "execution_count": 62,
   "metadata": {},
   "outputs": [
    {
     "name": "stdout",
     "output_type": "stream",
     "text": [
      "Each of the 15524 complaints is represented by 12597 features (TF-IDF score of unigrams and bigrams)\n"
     ]
    }
   ],
   "source": [
    "tfidf = TfidfVectorizer(sublinear_tf=True, min_df=5, norm='l2', encoding='latin-1', ngram_range=(1, 2), stop_words='english')\n",
    "features = tfidf.fit_transform(inc_thread_df.Text)\n",
    "labels = inc_thread_df.pro_id\n",
    "print(\"Each of the %d complaints is represented by %d features (TF-IDF score of unigrams and bigrams)\" %(features.shape))"
   ]
  },
  {
   "cell_type": "code",
   "execution_count": 63,
   "metadata": {},
   "outputs": [
    {
     "name": "stdout",
     "output_type": "stream",
     "text": [
      "\n",
      "==> Agent Desktop:\n",
      "  * Most Correlated Unigrams are: chat, accountnew, creationnew\n",
      "  * Most Correlated Bigrams are: created email, order created, work order\n",
      "\n",
      "==> Agent Toolbar:\n",
      "  * Most Correlated Unigrams are: shortel, toolbar, shoretel\n",
      "  * Most Correlated Bigrams are: copy incident, agent toolbar, ts copy\n",
      "\n",
      "==> Analytics:\n",
      "  * Most Correlated Unigrams are: daily, reports, report\n",
      "  * Most Correlated Bigrams are: barbaraplease fin, monthly reports, ts report\n",
      "\n",
      "==> Answers:\n",
      "  * Most Correlated Unigrams are: factsheets, knowledgebase, answers\n",
      "  * Most Correlated Bigrams are: alice contacting, checking object, kevin contacting\n",
      "\n",
      "==> Audiences:\n",
      "  * Most Correlated Unigrams are: claudiawe, translation, series\n",
      "  * Most Correlated Bigrams are: professi mohanplease, connect yes, renie cont\n",
      "\n",
      "==> Business Engagement Systems:\n",
      "  * Most Correlated Unigrams are: steph, sendgrid, preferred\n",
      "  * Most Correlated Bigrams are: barnardo toy, paddy power, project object\n",
      "\n",
      "==> Business Support:\n",
      "  * Most Correlated Unigrams are: lisaspa, pay, coburn\n",
      "  * Most Correlated Bigrams are: payment terminal, cifas payment, terminal good\n",
      "\n",
      "==> Campaigns:\n",
      "  * Most Correlated Unigrams are: campaign, annaleigh, campaigns\n",
      "  * Most Correlated Bigrams are: th spoke, just like, im ts\n",
      "\n",
      "==> Chat:\n",
      "  * Most Correlated Unigrams are: joannes, unusual, gamesys\n",
      "  * Most Correlated Bigrams are: update harrietwe, unable launch, week object\n",
      "\n",
      "==> CiviCRM:\n",
      "  * Most Correlated Unigrams are: civicrm, healthcare, shaw\n",
      "  * Most Correlated Bigrams are: theatre reporting, request shaw, shaw healthcare\n",
      "\n",
      "==> Client Workstation:\n",
      "  * Most Correlated Unigrams are: life, common, chriswe\n",
      "  * Most Correlated Bigrams are: keeps logging, right problems, called stating\n",
      "\n",
      "==> Cloud Monitor:\n",
      "  * Most Correlated Unigrams are: en, fgm, social\n",
      "  * Most Correlated Bigrams are: px px, span object, span span\n",
      "\n",
      "==> Co-browse:\n",
      "  * Most Correlated Unigrams are: visited, jai, sopes\n",
      "  * Most Correlated Bigrams are: stylemarginpx px, px px, span object\n",
      "\n",
      "==> Common:\n",
      "  * Most Correlated Unigrams are: laurayour, porch, session\n",
      "  * Most Correlated Bigrams are: session tim, roberts help, session steven\n",
      "\n",
      "==> CommsOffice:\n",
      "  * Most Correlated Unigrams are: recording, recordings, listen\n",
      "  * Most Correlated Bigrams are: ill speak, sha object, access listen\n",
      "\n",
      "==> Communicator:\n",
      "  * Most Correlated Unigrams are: shoretel, shortel, communicator\n",
      "  * Most Correlated Bigrams are: ca kinga, did update, shoreware agent\n",
      "\n",
      "==> Connect API:\n",
      "  * Most Correlated Unigrams are: marcusi, buttons, sso\n",
      "  * Most Correlated Bigrams are: rob ryan, chase sent, evergreen oracle\n",
      "\n",
      "==> Connect for PHP:\n",
      "  * Most Correlated Unigrams are: cheng, family, evidence\n",
      "  * Most Correlated Bigrams are: session alan, alan cheng, cheng help\n",
      "\n",
      "==> Contacts and Organisations:\n",
      "  * Most Correlated Unigrams are: bethanyas, duplicate, duplicates\n",
      "  * Most Correlated Bigrams are: duplicate files, attached duplicates, duplicate contact\n",
      "\n",
      "==> Custom Application:\n",
      "  * Most Correlated Unigrams are: wfm, callback, output\n",
      "  * Most Correlated Bigrams are: february gareth, caba webchat, email richard\n",
      "\n",
      "==> Custom Objects:\n",
      "  * Most Correlated Unigrams are: alessia, jayspan, cswe\n",
      "  * Most Correlated Bigrams are: custom object, cswe awaiting, jayspan span\n",
      "\n",
      "==> Customer Portal:\n",
      "  * Most Correlated Unigrams are: live, dawn, portal\n",
      "  * Most Correlated Bigrams are: new bugissue, dawn contacting, customer portal\n",
      "\n",
      "==> Customisation:\n",
      "  * Most Correlated Unigrams are: garden, review, kindred\n",
      "  * Most Correlated Bigrams are: guys tom, garden waste, tom latest\n",
      "\n",
      "==> DFT Loader:\n",
      "  * Most Correlated Unigrams are: phm, dtf, loader\n",
      "  * Most Correlated Bigrams are: div stylefontstylenormalfontweightnorma, action task, dtf loader\n",
      "\n",
      "==> E-learning:\n",
      "  * Most Correlated Unigrams are: learning, moodle, elearning\n",
      "  * Most Correlated Bigrams are: elearning set, isms training, elearning account\n",
      "\n",
      "==> Existing Customer:\n",
      "  * Most Correlated Unigrams are: meganyes, megancan, megani\n",
      "  * Most Correlated Bigrams are: jane grayerproject, connect object, maria contacting\n",
      "\n",
      "==> Facebook App:\n",
      "  * Most Correlated Unigrams are: reading, rossi, turns\n",
      "  * Most Correlated Bigrams are: got response, remove contact, earlier just\n",
      "\n",
      "==> Feedback:\n",
      "  * Most Correlated Unigrams are: discontent, dur, poor\n",
      "  * Most Correlated Bigrams are: project dur, discontent project, support feedback\n",
      "\n",
      "==> General Enquiries:\n",
      "  * Most Correlated Unigrams are: wilkinson, download, downloading\n",
      "  * Most Correlated Bigrams are: adam wilkinson, issue related, ive fixed\n",
      "\n",
      "==> General Internet Connectivity:\n",
      "  * Most Correlated Unigrams are: kevins, fundraisers, kevints\n",
      "  * Most Correlated Bigrams are: taking long, contacted westgate, long time\n",
      "\n",
      "==> Hardware:\n",
      "  * Most Correlated Unigrams are: steveplease, lau, kit\n",
      "  * Most Correlated Bigrams are: issue new, sharon update, new set\n",
      "\n",
      "==> Helpline:\n",
      "  * Most Correlated Unigrams are: stats, recording, fungai\n",
      "  * Most Correlated Bigrams are: sharon contacting, professio jay, ross ross\n",
      "\n",
      "==> IT Services:\n",
      "  * Most Correlated Unigrams are: cai, lillysp, butler\n",
      "  * Most Correlated Bigrams are: chat support, left business, issue hey\n",
      "\n",
      "==> IT Work:\n",
      "  * Most Correlated Unigrams are: swap, laptop, headset\n",
      "  * Most Correlated Bigrams are: ethernet cable, new headset, laptop swap\n",
      "\n",
      "==> Incidents:\n",
      "  * Most Correlated Unigrams are: incident, fighting, incidents\n",
      "  * Most Correlated Bigrams are: incidents span, issue aware, janet cont\n",
      "\n",
      "==> Infrastructure:\n",
      "  * Most Correlated Unigrams are: storage, stored, consulted\n",
      "  * Most Correlated Bigrams are: timi removed, ts sufficient, witn object\n",
      "\n",
      "==> Installations and Upgrades:\n",
      "  * Most Correlated Unigrams are: cutover, reschedule, upgrade\n",
      "  * Most Correlated Bigrams are: upgrade request, ucu upgrade, auto upgrade\n",
      "\n",
      "==> Instance Freezing:\n",
      "  * Most Correlated Unigrams are: johnts, froze, mem\n",
      "  * Most Correlated Bigrams are: ian ts, right frozen, tu right\n",
      "\n",
      "==> Integration:\n",
      "  * Most Correlated Unigrams are: edward, lap_integrator, integration\n",
      "  * Most Correlated Bigrams are: cms integration, edwardwe awaiting, oasis integration\n",
      "\n",
      "==> Integrator:\n",
      "  * Most Correlated Unigrams are: relayed, specifically, decembe\n",
      "  * Most Correlated Bigrams are: adamspa object, sent decembe, ticket added\n",
      "\n",
      "==> Interested Party:\n",
      "  * Most Correlated Unigrams are: gather, spec, demo\n",
      "  * Most Correlated Bigrams are: password issue, passw object, problem regarding\n",
      "\n",
      "==> Internal:\n",
      "  * Most Correlated Unigrams are: craig, cerias, meetings\n",
      "  * Most Correlated Bigrams are: requested incident, form closed, cerias requested\n",
      "\n",
      "==> Internal Process:\n",
      "  * Most Correlated Unigrams are: outgoing, uktv, suite\n",
      "  * Most Correlated Bigrams are: incident deletion, test testing, jonathan update\n",
      "\n",
      "==> Internal Projects:\n",
      "  * Most Correlated Unigrams are: wiki, major, integrator\n",
      "  * Most Correlated Bigrams are: pauli believe, let access, issue closing\n",
      "\n",
      "==> Intranet:\n",
      "  * Most Correlated Unigrams are: stopping, joined, intranet\n",
      "  * Most Correlated Bigrams are: ive changed, ts going, robert ts\n",
      "\n",
      "==> Keyboard:\n",
      "  * Most Correlated Unigrams are: loose, key, keyboard\n",
      "  * Most Correlated Bigrams are: rach ive, new keyboard, keyboard mouse\n",
      "\n",
      "==> LAP Pack:\n",
      "  * Most Correlated Unigrams are: craigsp, burnett, howardmiller\n",
      "  * Most Correlated Bigrams are: sutra sent, tim burnett, paul howardmiller\n",
      "\n",
      "==> Leaver:\n",
      "  * Most Correlated Unigrams are: servicedeskwestgateitco, leavers, leaver\n",
      "  * Most Correlated Bigrams are: attached leaver, leavers request, leaver request\n",
      "\n",
      "==> Login Error:\n",
      "  * Most Correlated Unigrams are: tsn, yorks, cbh\n",
      "  * Most Correlated Bigrams are: rightnow issue, rightnow attached, mid yorks\n",
      "\n",
      "==> Logins:\n",
      "  * Most Correlated Unigrams are: password, unlock, locked\n",
      "  * Most Correlated Bigrams are: unlock account, locked span, span object\n",
      "\n",
      "==> Marketing:\n",
      "  * Most Correlated Unigrams are: templates, mailing, reniei\n",
      "  * Most Correlated Bigrams are: link ts, didnt want, set email\n",
      "\n",
      "==> Microsoft Office (Excluding Outlook):\n",
      "  * Most Correlated Unigrams are: paddys, encrypt, perform\n",
      "  * Most Correlated Bigrams are: email error, th april, microsoft office\n",
      "\n",
      "==> Missing Data:\n",
      "  * Most Correlated Unigrams are: nurses, txt, hw\n",
      "  * Most Correlated Bigrams are: popped downstairs, attachment txt, hw live\n"
     ]
    },
    {
     "name": "stdout",
     "output_type": "stream",
     "text": [
      "\n",
      "==> Monitor:\n",
      "  * Most Correlated Unigrams are: screen, turned, monitor\n",
      "  * Most Correlated Bigrams are: kellyjust confirm, agent screen, welcome screen\n",
      "\n",
      "==> Mouse:\n",
      "  * Most Correlated Unigrams are: kimmins, informing, mouse\n",
      "  * Most Correlated Bigrams are: rory demery, amanda kimmins, new mouse\n",
      "\n",
      "==> Multi-Channel Helplines:\n",
      "  * Most Correlated Unigrams are: implementation, matters, sugges\n",
      "  * Most Correlated Bigrams are: natalie object, access volt, site object\n",
      "\n",
      "==> New Starter:\n",
      "  * Most Correlated Unigrams are: mh, asset, starter\n",
      "  * Most Correlated Bigrams are: ready attached, new starter, starter form\n",
      "\n",
      "==> Online Organisation Feedback:\n",
      "  * Most Correlated Unigrams are: trust, weekly, giles\n",
      "  * Most Correlated Bigrams are: sent customer, giles trust, update sent\n",
      "\n",
      "==> Oracle Service Cloud:\n",
      "  * Most Correlated Unigrams are: span, employer, oracle\n",
      "  * Most Correlated Bigrams are: contacting se, aaronweve confirmation, confirmation issue\n",
      "\n",
      "==> Other:\n",
      "  * Most Correlated Unigrams are: yacan, chats, alert\n",
      "  * Most Correlated Bigrams are: alert chats, chats firedno, scheduled alert\n",
      "\n",
      "==> Outbound E-mail:\n",
      "  * Most Correlated Unigrams are: resent, reniei, mailings\n",
      "  * Most Correlated Bigrams are: csv file, customer testing, confirmation email\n",
      "\n",
      "==> Outlook:\n",
      "  * Most Correlated Unigrams are: circle, calendar, outlook\n",
      "  * Most Correlated Bigrams are: contact circle, youll need, contact certus\n",
      "\n",
      "==> Password Issue:\n",
      "  * Most Correlated Unigrams are: cbh, rightnw, bfime\n",
      "  * Most Correlated Bigrams are: rightnow reset, right arrange, cbh right\n",
      "\n",
      "==> Phone System:\n",
      "  * Most Correlated Unigrams are: lik, recall, tho\n",
      "  * Most Correlated Bigrams are: ive updated, discussed person, assigning ts\n",
      "\n",
      "==> Printer:\n",
      "  * Most Correlated Unigrams are: print, roll, printer\n",
      "  * Most Correlated Bigrams are: printer working, ts friday, rachels time\n",
      "\n",
      "==> Profiles / Staff Accounts:\n",
      "  * Most Correlated Unigrams are: access, locked, account\n",
      "  * Most Correlated Bigrams are: unlocked object, user accounts, account unlocked\n",
      "\n",
      "==> Reporting:\n",
      "  * Most Correlated Unigrams are: carers, qa, ross\n",
      "  * Most Correlated Bigrams are: carers uk, reporting ross, report ross\n",
      "\n",
      "==> RightNow:\n",
      "  * Most Correlated Unigrams are: farmer, recreate, css\n",
      "  * Most Correlated Bigrams are: account details, ellis set, workspace changes\n",
      "\n",
      "==> Rules:\n",
      "  * Most Correlated Unigrams are: lukespa, workplace, daisywe\n",
      "  * Most Correlated Bigrams are: assi mike, lukespa object, everytng looks\n",
      "\n",
      "==> Sales:\n",
      "  * Most Correlated Unigrams are: strange, youbr, engagement\n",
      "  * Most Correlated Bigrams are: help youbr, youbr object, checked object\n",
      "\n",
      "==> Service:\n",
      "  * Most Correlated Unigrams are: undertaken, jennats, rns\n",
      "  * Most Correlated Bigrams are: chat update, ts undertaken, linda contacting\n",
      "\n",
      "==> Shared Drive:\n",
      "  * Most Correlated Unigrams are: documents, shared, drive\n",
      "  * Most Correlated Bigrams are: access shared, shared drive, share drive\n",
      "\n",
      "==> Sharepoint:\n",
      "  * Most Correlated Unigrams are: trail, warrior, sharepoint\n",
      "  * Most Correlated Bigrams are: warrior requested, sharepoint access, audit trail\n",
      "\n",
      "==> Software:\n",
      "  * Most Correlated Unigrams are: accepting, applications, lind\n",
      "  * Most Correlated Bigrams are: px px, span object, wasnt able\n",
      "\n",
      "==> SuiteCRM:\n",
      "  * Most Correlated Unigrams are: warrior, rannonapologies, rannon\n",
      "  * Most Correlated Bigrams are: rannon contacting, rannon update, warrior crm\n",
      "\n",
      "==> System Configuration:\n",
      "  * Most Correlated Unigrams are: photobox, claudia, steven\n",
      "  * Most Correlated Bigrams are: scr cna, steven roberts, roberts sent\n",
      "\n",
      "==> Telephone Service:\n",
      "  * Most Correlated Unigrams are: tsi, director, outage\n",
      "  * Most Correlated Bigrams are: megani just, inform object, wasnt able\n",
      "\n",
      "==> Tender Writing:\n",
      "  * Most Correlated Unigrams are: unabel, paddyi, stevecan\n",
      "  * Most Correlated Bigrams are: make aware, patrick contacting, rightnow freezing\n",
      "\n",
      "==> Test Site Refresh Request:\n",
      "  * Most Correlated Unigrams are: refre, hyweli, refresh\n",
      "  * Most Correlated Bigrams are: refresh refresh, test site, site refresh\n",
      "\n",
      "==> Test Sites:\n",
      "  * Most Correlated Unigrams are: music, minds, messagebird\n",
      "  * Most Correlated Bigrams are: minds matter, mind sms, account access\n",
      "\n",
      "==> Training:\n",
      "  * Most Correlated Unigrams are: moore, activate, training\n",
      "  * Most Correlated Bigrams are: responded email, alison moore, training object\n",
      "\n",
      "==> Upgrade:\n",
      "  * Most Correlated Unigrams are: analytics, profil, analy\n",
      "  * Most Correlated Bigrams are: head office, hw live, txtm right\n",
      "\n",
      "==> Visual E-mail:\n",
      "  * Most Correlated Unigrams are: claudia, photobox, garethas\n",
      "  * Most Correlated Bigrams are: contact form, email contact, email form\n",
      "\n",
      "==> Wallboard:\n",
      "  * Most Correlated Unigrams are: guessing, board, wall\n",
      "  * Most Correlated Bigrams are: close sharon, ts close, wall board\n",
      "\n",
      "==> Web Services (SOAP/WSDL):\n",
      "  * Most Correlated Unigrams are: queried, press, mkm\n",
      "  * Most Correlated Bigrams are: post code, mail merge, sure youve\n",
      "\n",
      "==> Website:\n",
      "  * Most Correlated Unigrams are: wordpress, wiki, website\n",
      "  * Most Correlated Bigrams are: link working, ca website, assist website\n",
      "\n",
      "==> Windows:\n",
      "  * Most Correlated Unigrams are: mas, windows, gavinive\n",
      "  * Most Correlated Bigrams are: request certus, user log, gavinive sent\n",
      "\n",
      "==> Wireless Issue:\n",
      "  * Most Correlated Unigrams are: carolynne, success, rachaelfollowing\n",
      "  * Most Correlated Bigrams are: wit object, work home, able connect\n",
      "\n",
      "==> Wireless Password:\n",
      "  * Most Correlated Unigrams are: isnt, logon, stuart\n",
      "  * Most Correlated Bigrams are: span object, login issue, sure wch\n",
      "\n",
      "==> Workspaces:\n",
      "  * Most Correlated Unigrams are: field, tab, workspace\n",
      "  * Most Correlated Bigrams are: aid right, right jaycan, lynne cont\n",
      "\n",
      "==> XML API:\n",
      "  * Most Correlated Unigrams are: millers, characters, adamspa\n",
      "  * Most Correlated Bigrams are: ive advised, lap adapter, dont believe\n",
      "\n",
      "==> non-Service Cloud CRMs:\n",
      "  * Most Correlated Unigrams are: francine, jonspan, isms\n",
      "  * Most Correlated Bigrams are: kirsty osman, adviser self, service adviser\n"
     ]
    }
   ],
   "source": [
    "N = 3\n",
    "for ProductID,pro_id in sorted(pro_to_id.items()):\n",
    "    features_chi = chi2(features, labels == pro_id)\n",
    "    indices = np.argsort(features_chi[0])\n",
    "    feature_names = np.array(tfidf.get_feature_names())[indices]\n",
    "    unigrams = [v for v in feature_names if len(v.split(' ')) == 1]\n",
    "    bigrams = [v for v in feature_names if len(v.split(' ')) == 2]\n",
    "    print(\"\\n==> %s:\" %(ProductID))\n",
    "    print(\"  * Most Correlated Unigrams are: %s\" %(', '.join(unigrams[-N:])))\n",
    "    print(\"  * Most Correlated Bigrams are: %s\" %(', '.join(bigrams[-N:])))"
   ]
  },
  {
   "cell_type": "code",
   "execution_count": 64,
   "metadata": {},
   "outputs": [],
   "source": [
    "X=inc_thread_df['Text']\n",
    "y=inc_thread_df['ProductID']"
   ]
  },
  {
   "cell_type": "code",
   "execution_count": 65,
   "metadata": {},
   "outputs": [],
   "source": [
    "X_train, X_test, y_train, y_test = train_test_split(X, y,test_size=0.15,random_state = 42)"
   ]
  },
  {
   "cell_type": "code",
   "execution_count": 66,
   "metadata": {},
   "outputs": [
    {
     "name": "stderr",
     "output_type": "stream",
     "text": [
      "C:\\Users\\tarun\\anaconda3\\lib\\site-packages\\sklearn\\model_selection\\_split.py:665: UserWarning: The least populated class in y has only 1 members, which is less than n_splits=5.\n",
      "  warnings.warn((\"The least populated class in y has only %d\"\n",
      "C:\\Users\\tarun\\anaconda3\\lib\\site-packages\\sklearn\\model_selection\\_split.py:665: UserWarning: The least populated class in y has only 1 members, which is less than n_splits=5.\n",
      "  warnings.warn((\"The least populated class in y has only %d\"\n",
      "C:\\Users\\tarun\\anaconda3\\lib\\site-packages\\sklearn\\model_selection\\_split.py:665: UserWarning: The least populated class in y has only 1 members, which is less than n_splits=5.\n",
      "  warnings.warn((\"The least populated class in y has only %d\"\n",
      "C:\\Users\\tarun\\anaconda3\\lib\\site-packages\\sklearn\\model_selection\\_split.py:665: UserWarning: The least populated class in y has only 1 members, which is less than n_splits=5.\n",
      "  warnings.warn((\"The least populated class in y has only %d\"\n",
      "C:\\Users\\tarun\\anaconda3\\lib\\site-packages\\sklearn\\linear_model\\_logistic.py:938: ConvergenceWarning: lbfgs failed to converge (status=1):\n",
      "STOP: TOTAL NO. of ITERATIONS REACHED LIMIT.\n",
      "\n",
      "Increase the number of iterations (max_iter) or scale the data as shown in:\n",
      "    https://scikit-learn.org/stable/modules/preprocessing.html\n",
      "Please also refer to the documentation for alternative solver options:\n",
      "    https://scikit-learn.org/stable/modules/linear_model.html#logistic-regression\n",
      "  n_iter_i = _check_optimize_result(\n",
      "C:\\Users\\tarun\\anaconda3\\lib\\site-packages\\sklearn\\linear_model\\_logistic.py:938: ConvergenceWarning: lbfgs failed to converge (status=1):\n",
      "STOP: TOTAL NO. of ITERATIONS REACHED LIMIT.\n",
      "\n",
      "Increase the number of iterations (max_iter) or scale the data as shown in:\n",
      "    https://scikit-learn.org/stable/modules/preprocessing.html\n",
      "Please also refer to the documentation for alternative solver options:\n",
      "    https://scikit-learn.org/stable/modules/linear_model.html#logistic-regression\n",
      "  n_iter_i = _check_optimize_result(\n",
      "C:\\Users\\tarun\\anaconda3\\lib\\site-packages\\sklearn\\linear_model\\_logistic.py:938: ConvergenceWarning: lbfgs failed to converge (status=1):\n",
      "STOP: TOTAL NO. of ITERATIONS REACHED LIMIT.\n",
      "\n",
      "Increase the number of iterations (max_iter) or scale the data as shown in:\n",
      "    https://scikit-learn.org/stable/modules/preprocessing.html\n",
      "Please also refer to the documentation for alternative solver options:\n",
      "    https://scikit-learn.org/stable/modules/linear_model.html#logistic-regression\n",
      "  n_iter_i = _check_optimize_result(\n",
      "C:\\Users\\tarun\\anaconda3\\lib\\site-packages\\sklearn\\linear_model\\_logistic.py:938: ConvergenceWarning: lbfgs failed to converge (status=1):\n",
      "STOP: TOTAL NO. of ITERATIONS REACHED LIMIT.\n",
      "\n",
      "Increase the number of iterations (max_iter) or scale the data as shown in:\n",
      "    https://scikit-learn.org/stable/modules/preprocessing.html\n",
      "Please also refer to the documentation for alternative solver options:\n",
      "    https://scikit-learn.org/stable/modules/linear_model.html#logistic-regression\n",
      "  n_iter_i = _check_optimize_result(\n",
      "C:\\Users\\tarun\\anaconda3\\lib\\site-packages\\sklearn\\linear_model\\_logistic.py:938: ConvergenceWarning: lbfgs failed to converge (status=1):\n",
      "STOP: TOTAL NO. of ITERATIONS REACHED LIMIT.\n",
      "\n",
      "Increase the number of iterations (max_iter) or scale the data as shown in:\n",
      "    https://scikit-learn.org/stable/modules/preprocessing.html\n",
      "Please also refer to the documentation for alternative solver options:\n",
      "    https://scikit-learn.org/stable/modules/linear_model.html#logistic-regression\n",
      "  n_iter_i = _check_optimize_result(\n",
      "C:\\Users\\tarun\\anaconda3\\lib\\site-packages\\sklearn\\model_selection\\_split.py:665: UserWarning: The least populated class in y has only 1 members, which is less than n_splits=5.\n",
      "  warnings.warn((\"The least populated class in y has only %d\"\n"
     ]
    }
   ],
   "source": [
    "models = [\n",
    "    RandomForestClassifier(n_estimators=100, max_depth=5, random_state=0),\n",
    "    LinearSVC(),\n",
    "    MultinomialNB(),\n",
    "    LogisticRegression(random_state=0),\n",
    "    svm.SVC()\n",
    "]\n",
    "\n",
    "# 5 Cross-validation\n",
    "CV = 5\n",
    "cv_df = pd.DataFrame(index=range(CV * len(models)))\n",
    "\n",
    "entries = []\n",
    "for model in models:\n",
    "    model_name = model.__class__.__name__\n",
    "    accuracies = cross_val_score(model, features, labels, scoring='accuracy', cv=CV)\n",
    "    for fold_idx, accuracy in enumerate(accuracies):\n",
    "        entries.append((model_name, fold_idx, accuracy))\n",
    "    \n",
    "cv_df = pd.DataFrame(entries, columns=['model_name', 'fold_idx', 'accuracy'])"
   ]
  },
  {
   "cell_type": "code",
   "execution_count": 67,
   "metadata": {},
   "outputs": [
    {
     "data": {
      "text/html": [
       "<div>\n",
       "<style scoped>\n",
       "    .dataframe tbody tr th:only-of-type {\n",
       "        vertical-align: middle;\n",
       "    }\n",
       "\n",
       "    .dataframe tbody tr th {\n",
       "        vertical-align: top;\n",
       "    }\n",
       "\n",
       "    .dataframe thead th {\n",
       "        text-align: right;\n",
       "    }\n",
       "</style>\n",
       "<table border=\"1\" class=\"dataframe\">\n",
       "  <thead>\n",
       "    <tr style=\"text-align: right;\">\n",
       "      <th></th>\n",
       "      <th>Mean Accuracy</th>\n",
       "      <th>Standard deviation</th>\n",
       "    </tr>\n",
       "    <tr>\n",
       "      <th>model_name</th>\n",
       "      <th></th>\n",
       "      <th></th>\n",
       "    </tr>\n",
       "  </thead>\n",
       "  <tbody>\n",
       "    <tr>\n",
       "      <th>LinearSVC</th>\n",
       "      <td>0.296635</td>\n",
       "      <td>0.035175</td>\n",
       "    </tr>\n",
       "    <tr>\n",
       "      <th>LogisticRegression</th>\n",
       "      <td>0.327235</td>\n",
       "      <td>0.018463</td>\n",
       "    </tr>\n",
       "    <tr>\n",
       "      <th>MultinomialNB</th>\n",
       "      <td>0.282466</td>\n",
       "      <td>0.016206</td>\n",
       "    </tr>\n",
       "    <tr>\n",
       "      <th>RandomForestClassifier</th>\n",
       "      <td>0.221399</td>\n",
       "      <td>0.009369</td>\n",
       "    </tr>\n",
       "    <tr>\n",
       "      <th>SVC</th>\n",
       "      <td>0.323241</td>\n",
       "      <td>0.015724</td>\n",
       "    </tr>\n",
       "  </tbody>\n",
       "</table>\n",
       "</div>"
      ],
      "text/plain": [
       "                        Mean Accuracy  Standard deviation\n",
       "model_name                                               \n",
       "LinearSVC                    0.296635            0.035175\n",
       "LogisticRegression           0.327235            0.018463\n",
       "MultinomialNB                0.282466            0.016206\n",
       "RandomForestClassifier       0.221399            0.009369\n",
       "SVC                          0.323241            0.015724"
      ]
     },
     "execution_count": 67,
     "metadata": {},
     "output_type": "execute_result"
    }
   ],
   "source": [
    "mean_accuracy = cv_df.groupby('model_name').accuracy.mean()\n",
    "std_accuracy = cv_df.groupby('model_name').accuracy.std()\n",
    "\n",
    "acc = pd.concat([mean_accuracy, std_accuracy], axis= 1, \n",
    "          ignore_index=True)\n",
    "acc.columns = ['Mean Accuracy', 'Standard deviation']\n",
    "acc"
   ]
  },
  {
   "cell_type": "code",
   "execution_count": 68,
   "metadata": {},
   "outputs": [
    {
     "data": {
      "image/png": "[encoded data removed]",
      "text/plain": [
       "<Figure size 576x360 with 1 Axes>"
      ]
     },
     "metadata": {
      "needs_background": "light"
     },
     "output_type": "display_data"
    }
   ],
   "source": [
    "plt.figure(figsize=(8,5))\n",
    "sns.boxplot(x='model_name', y='accuracy', \n",
    "            data=cv_df, \n",
    "            color='lightblue', \n",
    "            showmeans=True)\n",
    "plt.title(\"MEAN ACCURACY (cv = 5)\\n\", size=14);"
   ]
  },
  {
   "cell_type": "code",
   "execution_count": 69,
   "metadata": {},
   "outputs": [
    {
     "name": "stderr",
     "output_type": "stream",
     "text": [
      "C:\\Users\\tarun\\anaconda3\\lib\\site-packages\\sklearn\\linear_model\\_logistic.py:938: ConvergenceWarning: lbfgs failed to converge (status=1):\n",
      "STOP: TOTAL NO. of ITERATIONS REACHED LIMIT.\n",
      "\n",
      "Increase the number of iterations (max_iter) or scale the data as shown in:\n",
      "    https://scikit-learn.org/stable/modules/preprocessing.html\n",
      "Please also refer to the documentation for alternative solver options:\n",
      "    https://scikit-learn.org/stable/modules/linear_model.html#logistic-regression\n",
      "  n_iter_i = _check_optimize_result(\n"
     ]
    }
   ],
   "source": [
    "X_train, X_test, y_train, y_test,indices_train,indices_test = train_test_split(features, \n",
    "                                                               labels, \n",
    "                                                               inc_thread_df.index, test_size=0.15, \n",
    "                                                               random_state=1)\n",
    "model = LogisticRegression()\n",
    "model.fit(X_train, y_train)\n",
    "y_pred = model.predict(X_test)"
   ]
  },
  {
   "cell_type": "code",
   "execution_count": 70,
   "metadata": {},
   "outputs": [
    {
     "name": "stdout",
     "output_type": "stream",
     "text": [
      "\t\t\t\tCLASSIFICATIION METRICS\n",
      "\n",
      "              precision    recall  f1-score   support\n",
      "\n",
      "           1       0.36      0.80      0.50       461\n",
      "           2       0.00      0.00      0.00         7\n",
      "           3       0.00      0.00      0.00         4\n",
      "           5       0.00      0.00      0.00         9\n",
      "           6       0.00      0.00      0.00        12\n",
      "           7       0.00      0.00      0.00         3\n",
      "           8       0.00      0.00      0.00        11\n",
      "          10       0.00      0.00      0.00         1\n",
      "          11       0.00      0.00      0.00         9\n",
      "          12       0.00      0.00      0.00         2\n",
      "          13       0.00      0.00      0.00         6\n",
      "          14       0.00      0.00      0.00        21\n",
      "          15       0.00      0.00      0.00         2\n",
      "          16       0.51      0.37      0.43        90\n",
      "          17       0.45      0.09      0.15        55\n",
      "          18       0.00      0.00      0.00         1\n",
      "          19       0.00      0.00      0.00        12\n",
      "          20       0.00      0.00      0.00         2\n",
      "          21       0.00      0.00      0.00         3\n",
      "          22       0.43      0.35      0.39       178\n",
      "          23       0.00      0.00      0.00         2\n",
      "          24       0.00      0.00      0.00         2\n",
      "          25       0.00      0.00      0.00         8\n",
      "          26       0.00      0.00      0.00        14\n",
      "          28       0.57      0.65      0.61        93\n",
      "          29       0.75      0.49      0.59        37\n",
      "          31       0.44      0.39      0.41       215\n",
      "          33       0.00      0.00      0.00         8\n",
      "          35       0.36      0.26      0.30       106\n",
      "          36       0.00      0.00      0.00        11\n",
      "          37       0.00      0.00      0.00         8\n",
      "          38       0.00      0.00      0.00         1\n",
      "          39       0.50      0.06      0.11        64\n",
      "          40       0.50      0.06      0.10        71\n",
      "          41       0.00      0.00      0.00         2\n",
      "          42       0.00      0.00      0.00         2\n",
      "          43       0.00      0.00      0.00         1\n",
      "          45       0.00      0.00      0.00         1\n",
      "          46       1.00      0.33      0.50         6\n",
      "          47       0.00      0.00      0.00         2\n",
      "          48       0.52      0.67      0.59       332\n",
      "          49       0.00      0.00      0.00         1\n",
      "          50       0.00      0.00      0.00         1\n",
      "          51       0.00      0.00      0.00         1\n",
      "          53       1.00      0.33      0.50         3\n",
      "          54       0.00      0.00      0.00         7\n",
      "          55       0.00      0.00      0.00         1\n",
      "          56       0.00      0.00      0.00        19\n",
      "          57       0.58      0.12      0.20        59\n",
      "          59       0.00      0.00      0.00        14\n",
      "          60       0.00      0.00      0.00         1\n",
      "          61       0.60      0.33      0.43         9\n",
      "          62       0.00      0.00      0.00        11\n",
      "          63       0.00      0.00      0.00         1\n",
      "          68       0.00      0.00      0.00         1\n",
      "          71       0.00      0.00      0.00         1\n",
      "          72       0.00      0.00      0.00         3\n",
      "          73       0.00      0.00      0.00         1\n",
      "          74       0.00      0.00      0.00         1\n",
      "          75       0.53      0.42      0.47        38\n",
      "          76       0.24      0.06      0.10        63\n",
      "          77       0.49      0.44      0.46        88\n",
      "          78       0.83      0.42      0.56        45\n",
      "          79       0.00      0.00      0.00         1\n",
      "          80       0.79      0.87      0.83        52\n",
      "          81       0.41      0.54      0.47        13\n",
      "          82       0.00      0.00      0.00         1\n",
      "          83       0.00      0.00      0.00         7\n",
      "          85       0.75      0.43      0.55         7\n",
      "          88       0.00      0.00      0.00         1\n",
      "          89       0.00      0.00      0.00         3\n",
      "\n",
      "    accuracy                           0.45      2329\n",
      "   macro avg       0.18      0.12      0.13      2329\n",
      "weighted avg       0.42      0.45      0.39      2329\n",
      "\n"
     ]
    },
    {
     "name": "stderr",
     "output_type": "stream",
     "text": [
      "C:\\Users\\tarun\\anaconda3\\lib\\site-packages\\sklearn\\metrics\\_classification.py:1272: UndefinedMetricWarning: Precision and F-score are ill-defined and being set to 0.0 in labels with no predicted samples. Use `zero_division` parameter to control this behavior.\n",
      "  _warn_prf(average, modifier, msg_start, len(result))\n"
     ]
    }
   ],
   "source": [
    "print('\\t\\t\\t\\tCLASSIFICATIION METRICS\\n')\n",
    "print(metrics.classification_report(y_test, y_pred))"
   ]
  },
  {
   "cell_type": "code",
   "execution_count": 71,
   "metadata": {},
   "outputs": [],
   "source": [
    "X_train, X_test, y_train, y_test,indices_train,indices_test = train_test_split(features, \n",
    "                                                               labels, \n",
    "                                                               inc_thread_df.index, test_size=0.15, \n",
    "                                                               random_state=1)\n",
    "model = LinearSVC()\n",
    "model.fit(X_train, y_train)\n",
    "y_pred = model.predict(X_test)"
   ]
  },
  {
   "cell_type": "code",
   "execution_count": 72,
   "metadata": {},
   "outputs": [
    {
     "name": "stdout",
     "output_type": "stream",
     "text": [
      "\t\t\t\tCLASSIFICATIION METRICS\n",
      "\n",
      "              precision    recall  f1-score   support\n",
      "\n",
      "           1       0.45      0.55      0.50       461\n",
      "           2       0.67      0.29      0.40         7\n",
      "           3       0.00      0.00      0.00         4\n",
      "           5       0.00      0.00      0.00         9\n",
      "           6       0.00      0.00      0.00        12\n",
      "           7       0.33      0.67      0.44         3\n",
      "           8       1.00      0.36      0.53        11\n",
      "          10       0.00      0.00      0.00         1\n",
      "          11       0.17      0.11      0.13         9\n",
      "          12       0.50      0.50      0.50         2\n",
      "          13       0.00      0.00      0.00         6\n",
      "          14       0.27      0.14      0.19        21\n",
      "          15       0.00      0.00      0.00         2\n",
      "          16       0.41      0.51      0.45        90\n",
      "          17       0.46      0.29      0.36        55\n",
      "          18       0.50      1.00      0.67         1\n",
      "          19       0.25      0.08      0.12        12\n",
      "          20       0.00      0.00      0.00         2\n",
      "          21       0.33      0.33      0.33         3\n",
      "          22       0.38      0.41      0.40       178\n",
      "          23       0.00      0.00      0.00         2\n",
      "          24       0.00      0.00      0.00         2\n",
      "          25       0.29      0.25      0.27         8\n",
      "          26       0.00      0.00      0.00        14\n",
      "          28       0.57      0.63      0.60        93\n",
      "          29       0.68      0.51      0.58        37\n",
      "          31       0.45      0.45      0.45       215\n",
      "          33       0.60      0.38      0.46         8\n",
      "          35       0.33      0.35      0.34       106\n",
      "          36       0.00      0.00      0.00        11\n",
      "          37       1.00      0.12      0.22         8\n",
      "          38       1.00      1.00      1.00         1\n",
      "          39       0.31      0.22      0.26        64\n",
      "          40       0.30      0.24      0.27        71\n",
      "          41       0.00      0.00      0.00         2\n",
      "          42       0.00      0.00      0.00         2\n",
      "          43       0.00      0.00      0.00         1\n",
      "          45       0.00      0.00      0.00         1\n",
      "          46       0.67      0.67      0.67         6\n",
      "          47       0.00      0.00      0.00         2\n",
      "          48       0.52      0.60      0.55       332\n",
      "          49       0.00      0.00      0.00         1\n",
      "          50       0.00      0.00      0.00         1\n",
      "          51       0.00      0.00      0.00         1\n",
      "          53       1.00      0.33      0.50         3\n",
      "          54       0.00      0.00      0.00         7\n",
      "          55       0.00      0.00      0.00         1\n",
      "          56       0.50      0.16      0.24        19\n",
      "          57       0.38      0.25      0.31        59\n",
      "          59       0.60      0.21      0.32        14\n",
      "          60       0.00      0.00      0.00         1\n",
      "          61       0.50      0.44      0.47         9\n",
      "          62       0.00      0.00      0.00        11\n",
      "          63       0.00      0.00      0.00         1\n",
      "          68       0.00      0.00      0.00         1\n",
      "          71       0.00      0.00      0.00         1\n",
      "          72       0.00      0.00      0.00         3\n",
      "          73       0.00      0.00      0.00         1\n",
      "          74       0.00      0.00      0.00         1\n",
      "          75       0.54      0.74      0.62        38\n",
      "          76       0.19      0.14      0.16        63\n",
      "          77       0.41      0.47      0.44        88\n",
      "          78       0.68      0.60      0.64        45\n",
      "          79       0.00      0.00      0.00         1\n",
      "          80       0.74      0.88      0.81        52\n",
      "          81       0.45      0.69      0.55        13\n",
      "          82       0.00      0.00      0.00         1\n",
      "          83       0.75      0.86      0.80         7\n",
      "          85       0.44      0.57      0.50         7\n",
      "          88       0.00      0.00      0.00         1\n",
      "          89       0.00      0.00      0.00         3\n",
      "\n",
      "    accuracy                           0.45      2329\n",
      "   macro avg       0.28      0.24      0.24      2329\n",
      "weighted avg       0.43      0.45      0.44      2329\n",
      "\n"
     ]
    }
   ],
   "source": [
    "print('\\t\\t\\t\\tCLASSIFICATIION METRICS\\n')\n",
    "print(metrics.classification_report(y_test, y_pred))"
   ]
  },
  {
   "cell_type": "code",
   "execution_count": 73,
   "metadata": {},
   "outputs": [
    {
     "name": "stderr",
     "output_type": "stream",
     "text": [
      "C:\\Users\\tarun\\anaconda3\\lib\\site-packages\\sklearn\\linear_model\\_logistic.py:938: ConvergenceWarning: lbfgs failed to converge (status=1):\n",
      "STOP: TOTAL NO. of ITERATIONS REACHED LIMIT.\n",
      "\n",
      "Increase the number of iterations (max_iter) or scale the data as shown in:\n",
      "    https://scikit-learn.org/stable/modules/preprocessing.html\n",
      "Please also refer to the documentation for alternative solver options:\n",
      "    https://scikit-learn.org/stable/modules/linear_model.html#logistic-regression\n",
      "  n_iter_i = _check_optimize_result(\n"
     ]
    }
   ],
   "source": [
    "X_train, X_test, y_train, y_test = train_test_split(X, y, \n",
    "                                                    test_size=0.25,\n",
    "                                                    random_state = 1)\n",
    "\n",
    "tfidf = TfidfVectorizer(sublinear_tf=True, min_df=5,\n",
    "                        ngram_range=(1, 2), \n",
    "                        stop_words='english')\n",
    "\n",
    "fitted_vectorizer = tfidf.fit(X_train)\n",
    "tfidf_vectorizer_vectors = fitted_vectorizer.transform(X_train)\n",
    "\n",
    "model = LogisticRegression().fit(tfidf_vectorizer_vectors, y_train)"
   ]
  },
  {
   "cell_type": "code",
   "execution_count": 74,
   "metadata": {},
   "outputs": [
    {
     "name": "stdout",
     "output_type": "stream",
     "text": [
      "['Profiles / Staff Accounts']\n"
     ]
    }
   ],
   "source": [
    "new_complaint = \"\"\"Good morning,I have been locked out of my Right Now account, please can you assist?Many thanksHelenHelen TesterWellbeing CoordinatorPharmacist Support5th Floor196 DeansgateManchesterM3 3WFDirect: 0161 441 0811Enquiry Line: 0808 168 2233Website: www.pharmacistsupport.org<http://www.pharmacistsupport.org/>NEW Charity Number:Pharmacist Support is a charitable company limited by guarantee registered in England and Wales with company number 9237609 and charity number 1158974.\"\"\"\n",
    "print(model.predict(fitted_vectorizer.transform([new_complaint])))"
   ]
  },
  {
   "cell_type": "code",
   "execution_count": 75,
   "metadata": {},
   "outputs": [],
   "source": [
    "X_train, X_test, y_train, y_test = train_test_split(X, y, \n",
    "                                                    test_size=0.25,\n",
    "                                                    random_state = 0)\n",
    "\n",
    "tfidf = TfidfVectorizer(sublinear_tf=True, min_df=5,\n",
    "                        ngram_range=(1, 3), \n",
    "                        stop_words='english')\n",
    "\n",
    "fitted_vectorizer = tfidf.fit(X_train)\n",
    "tfidf_vectorizer_vectors = fitted_vectorizer.transform(X_train)\n",
    "\n",
    "model = LinearSVC().fit(tfidf_vectorizer_vectors, y_train)"
   ]
  },
  {
   "cell_type": "code",
   "execution_count": 76,
   "metadata": {},
   "outputs": [
    {
     "name": "stdout",
     "output_type": "stream",
     "text": [
      "['Profiles / Staff Accounts']\n"
     ]
    }
   ],
   "source": [
    "new_complaint = \"\"\"Good morning,I have been locked out of my Right Now account, please can you assist?Many thanksHelenHelen TesterWellbeing CoordinatorPharmacist Support5th Floor196 DeansgateManchesterM3 3WFDirect: 0161 441 0811Enquiry Line: 0808 168 2233Website: www.pharmacistsupport.org<http://www.pharmacistsupport.org/>NEW Charity Number:Pharmacist Support is a charitable company limited by guarantee registered in England and Wales with company number 9237609 and charity number 1158974.\"\"\"\n",
    "print(model.predict(fitted_vectorizer.transform([new_complaint])))"
   ]
  }
 ],
 "metadata": {
  "kernelspec": {
   "display_name": "Python 3",
   "language": "python",
   "name": "python3"
  },
  "language_info": {
   "codemirror_mode": {
    "name": "ipython",
    "version": 3
   },
   "file_extension": ".py",
   "mimetype": "text/x-python",
   "name": "python",
   "nbconvert_exporter": "python",
   "pygments_lexer": "ipython3",
   "version": "3.8.3"
  }
 },
 "nbformat": 4,
 "nbformat_minor": 4
}
